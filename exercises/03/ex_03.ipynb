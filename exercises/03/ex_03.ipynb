{
 "metadata": {
  "language_info": {
   "codemirror_mode": {
    "name": "ipython",
    "version": 3
   },
   "file_extension": ".py",
   "mimetype": "text/x-python",
   "name": "python",
   "nbconvert_exporter": "python",
   "pygments_lexer": "ipython3",
   "version": "3.7.7-final"
  },
  "orig_nbformat": 2,
  "kernelspec": {
   "name": "python_defaultSpec_1613900669492",
   "display_name": "Python 3.7.7 64-bit ('ml_course': pipenv)"
  }
 },
 "nbformat": 4,
 "nbformat_minor": 2,
 "cells": [
  {
   "cell_type": "markdown",
   "metadata": {},
   "source": [
    "# 1. Multi-class Classification\n",
    "## 1.1 Dataset"
   ]
  },
  {
   "cell_type": "code",
   "execution_count": null,
   "metadata": {
    "tags": []
   },
   "outputs": [],
   "source": [
    "import os\n",
    "import random\n",
    "import numpy as np\n",
    "import scipy.io as sio\n",
    "import matplotlib.pyplot as plt\n",
    "from pathlib import Path\n",
    "\n",
    "data_file_1 = Path(os.path.abspath(\"\")) / \"data\" / \"ex3data1.mat\"\n",
    "data_set_1 = sio.loadmat(data_file_1)\n",
    "\n",
    "# every row of X is a flattened 20 * 20 image matrix\n",
    "# every row of y is a digit index, where [1, ..., 9] means digit [1, ..., 9], [10] means digit [0]\n",
    "X = np.array(data_set_1[\"X\"])\n",
    "y = np.array(data_set_1[\"y\"])\n",
    "\n",
    "print(X)\n",
    "print(y)"
   ]
  },
  {
   "cell_type": "markdown",
   "metadata": {},
   "source": [
    "## 1.2 Visualizing the data"
   ]
  },
  {
   "cell_type": "code",
   "execution_count": null,
   "metadata": {},
   "outputs": [],
   "source": [
    "fig, axes = plt.subplots(5, 5, figsize=(8, 8))\n",
    "random_indexes = random.choices([i for i in range(X.shape[0])], k = 25)\n",
    "\n",
    "for i, ax in enumerate(axes.flat):\n",
    "    ax.imshow(X[random_indexes[i]].reshape(20, 20))"
   ]
  }
 ]
}