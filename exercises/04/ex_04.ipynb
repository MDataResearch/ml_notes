{
 "metadata": {
  "language_info": {
   "codemirror_mode": {
    "name": "ipython",
    "version": 3
   },
   "file_extension": ".py",
   "mimetype": "text/x-python",
   "name": "python",
   "nbconvert_exporter": "python",
   "pygments_lexer": "ipython3",
   "version": "3.7.7"
  },
  "orig_nbformat": 2,
  "kernelspec": {
   "name": "python3",
   "display_name": "Python 3.7.7 64-bit ('.venv': pipenv)",
   "metadata": {
    "interpreter": {
     "hash": "9e6836700e96a853fe4b0f9f6772835270a845f6671132c1dde5eaf8914ce878"
    }
   }
  }
 },
 "nbformat": 4,
 "nbformat_minor": 2,
 "cells": [
  {
   "cell_type": "markdown",
   "metadata": {},
   "source": [
    "# 1. Neural Networks\n",
    "## 1.1 Visualizing the data"
   ]
  },
  {
   "cell_type": "code",
   "execution_count": null,
   "metadata": {
    "tags": []
   },
   "outputs": [],
   "source": [
    "import os\n",
    "import random\n",
    "import numpy as np\n",
    "import scipy.io as sio\n",
    "import matplotlib.pyplot as plt\n",
    "import scipy.optimize as opt\n",
    "from pathlib import Path\n",
    "\n",
    "data_file_1 = Path(os.path.abspath(\"\")) / \"data\" / \"ex4data1.mat\"\n",
    "data_set_1 = sio.loadmat(data_file_1)\n",
    "\n",
    "# every row of X is a flattened 20 * 20 image matrix\n",
    "# every row of y is a digit index, where [1, ..., 9] means digit [1, ..., 9], [10] means digit [0]\n",
    "X = np.array(data_set_1[\"X\"])\n",
    "y = np.array(data_set_1[\"y\"])\n",
    "\n",
    "print(X)\n",
    "print(y)\n",
    "\n",
    "# transform y into Y\n",
    "Y = np.zeros((y.shape[0], 10))\n",
    "for i, v in enumerate(y):\n",
    "    Y[i, v - 1] = 1\n",
    "\n",
    "print(Y)"
   ]
  },
  {
   "cell_type": "markdown",
   "metadata": {},
   "source": [
    "## 1.2 Model representation"
   ]
  },
  {
   "cell_type": "code",
   "execution_count": null,
   "metadata": {
    "tags": []
   },
   "outputs": [],
   "source": [
    "weights_file = Path(os.path.abspath(\"\")) / \"data\" / \"ex4weights.mat\"\n",
    "weights = sio.loadmat(weights_file)\n",
    "theta_1 = weights[\"Theta1\"]\n",
    "theta_2 = weights[\"Theta2\"]\n",
    "print(theta_1.shape)\n",
    "print(theta_2.shape)"
   ]
  },
  {
   "cell_type": "markdown",
   "metadata": {},
   "source": [
    "## 1.3 Feedforward and cost function"
   ]
  },
  {
   "cell_type": "code",
   "execution_count": null,
   "metadata": {},
   "outputs": [],
   "source": [
    "lamda = 0\n",
    "\n",
    "def sigmoid(z):\n",
    "    return 1 / (1 + np.exp(-z))\n",
    "\n",
    "def h(theta_1, theta_2, x):\n",
    "    a_2 = sigmoid(theta_1 @ x)\n",
    "    a_3 = sigmoid(theta_2 @ np.insert(a_2, 0, 1, axis=0))\n",
    "    return a_3\n",
    "\n",
    "def regularization(theta_1, theta_2, lamda, m):\n",
    "    regu_params = np.concatenate((theta_1[:, 1:].flatten(), theta_2[:, 1:].flatten()))\n",
    "    sum = np.sum([i ** 2 for i in regu_params])\n",
    "    res = lamda / (2 * m) * sum\n",
    "    return res\n",
    "\n",
    "def nnCostFunction(theta_1, theta_2, lamda, X, Y):\n",
    "    input_X = np.insert(X, 0, np.ones(X.shape[0]), axis=1)\n",
    "    m = Y.shape[0]\n",
    "    cost = 0\n",
    "    cost_regu = regularization(theta_1, theta_2, lamda, m)\n",
    "    for i in range(m):\n",
    "        x = input_X[i].reshape((input_X.shape[1], 1))\n",
    "        y = Y[i].reshape((Y.shape[1], 1))\n",
    "        H = h(theta_1, theta_2, x)\n",
    "        cost_matrix = 1 / m * (- y * np.log(H) - (1 - y) * np.log(1 - H))\n",
    "        cost += np.sum(cost_matrix)\n",
    "    return cost + cost_regu\n",
    "\n",
    "# cost when lamda = 0\n",
    "print(nnCostFunction(theta_1, theta_2, lamda, X, Y))"
   ]
  },
  {
   "source": [
    "## 1.4 Regularized cost function"
   ],
   "cell_type": "markdown",
   "metadata": {}
  },
  {
   "cell_type": "code",
   "execution_count": null,
   "metadata": {},
   "outputs": [],
   "source": [
    "# cost when lamda = 1\n",
    "print(nnCostFunction(theta_1, theta_2, 1, X, Y))"
   ]
  }
 ]
}