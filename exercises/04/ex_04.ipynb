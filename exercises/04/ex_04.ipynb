{
 "metadata": {
  "language_info": {
   "codemirror_mode": {
    "name": "ipython",
    "version": 3
   },
   "file_extension": ".py",
   "mimetype": "text/x-python",
   "name": "python",
   "nbconvert_exporter": "python",
   "pygments_lexer": "ipython3",
   "version": "3.7.7-final"
  },
  "orig_nbformat": 2,
  "kernelspec": {
   "name": "python3",
   "display_name": "Python 3.7.7 64-bit ('ml_course': pipenv)",
   "metadata": {
    "interpreter": {
     "hash": "9e6836700e96a853fe4b0f9f6772835270a845f6671132c1dde5eaf8914ce878"
    }
   }
  }
 },
 "nbformat": 4,
 "nbformat_minor": 2,
 "cells": [
  {
   "cell_type": "markdown",
   "metadata": {},
   "source": [
    "# 1. Neural Networks\n",
    "## 1.1 Visualizing the data"
   ]
  },
  {
   "cell_type": "code",
   "execution_count": null,
   "metadata": {
    "tags": []
   },
   "outputs": [],
   "source": [
    "import os\n",
    "import random\n",
    "import numpy as np\n",
    "import scipy.io as sio\n",
    "import matplotlib.pyplot as plt\n",
    "import scipy.optimize as opt\n",
    "from pathlib import Path\n",
    "\n",
    "data_file_1 = Path(os.path.abspath(\"\")) / \"data\" / \"ex4data1.mat\"\n",
    "data_set_1 = sio.loadmat(data_file_1)\n",
    "\n",
    "# every row of X is a flattened 20 * 20 image matrix\n",
    "# every row of y is a digit index, where [1, ..., 9] means digit [1, ..., 9], [10] means digit [0]\n",
    "X = np.array(data_set_1[\"X\"])\n",
    "y = np.array(data_set_1[\"y\"])\n",
    "\n",
    "print(X)\n",
    "print(y)"
   ]
  },
  {
   "cell_type": "markdown",
   "metadata": {},
   "source": [
    "## 1.2 Model representation"
   ]
  },
  {
   "cell_type": "code",
   "execution_count": null,
   "metadata": {
    "tags": []
   },
   "outputs": [],
   "source": [
    "weights_file = Path(os.path.abspath(\"\")) / \"data\" / \"ex4weights.mat\"\n",
    "weights = sio.loadmat(weights_file)\n",
    "theta_1 = weights[\"Theta1\"]\n",
    "theta_2 = weights[\"Theta2\"]\n",
    "print(theta_1)\n",
    "print(theta_2)"
   ]
  },
  {
   "cell_type": "markdown",
   "metadata": {},
   "source": [
    "## 1.3 Feedforward and cost function"
   ]
  }
 ]
}