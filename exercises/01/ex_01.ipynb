{
 "cells": [
  {
   "cell_type": "markdown",
   "metadata": {},
   "source": [
    "# 1. A simple MATLAB function"
   ]
  },
  {
   "cell_type": "code",
   "execution_count": null,
   "metadata": {
    "scrolled": false,
    "tags": []
   },
   "outputs": [],
   "source": [
    "import numpy as np\n",
    "\n",
    "# identity matrix\n",
    "A = np.eye(5, dtype=int)\n",
    "\n",
    "print(A)"
   ]
  },
  {
   "cell_type": "markdown",
   "metadata": {},
   "source": [
    "# 2. Linear regression with one variable\n",
    "## 2.1 Plotting the data"
   ]
  },
  {
   "cell_type": "code",
   "execution_count": null,
   "metadata": {
    "tags": []
   },
   "outputs": [],
   "source": [
    "import os\n",
    "from pathlib import Path\n",
    "import pandas as pd\n",
    "import numpy as np\n",
    "import matplotlib.pyplot as plt\n",
    "\n",
    "# load and analyze data\n",
    "data_file_1 = Path(os.path.abspath('')).absolute() / \"data\" / \"ex1data1.txt\"\n",
    "data_set_1 = pd.read_csv(data_file_1, header=None, names=[\"Population\", \"Profit\"])\n",
    "# print(data)\n",
    "# print(data.head())\n",
    "# print(data.describe())\n",
    "\n",
    "# make plot of dataframe. by default, matplotlib backend is used.\n",
    "data_set_1.plot(kind='scatter', x='Population', y='Profit')\n",
    "plt.show()\n",
    "\n",
    "# extract data\n",
    "x = np.matrix(data_set_1.iloc[:, :1])\n",
    "y = np.matrix(data_set_1.iloc[:, 1:])\n",
    "print(x)\n",
    "print(y)"
   ]
  },
  {
   "cell_type": "markdown",
   "metadata": {},
   "source": [
    "## 2.2 Gradient Descent\n",
    "### 2.2.1 Update Equations\n",
    "### 2.2.2 Implementation"
   ]
  },
  {
   "cell_type": "code",
   "execution_count": null,
   "metadata": {
    "tags": []
   },
   "outputs": [],
   "source": [
    "# number of training examples\n",
    "m = len(x)\n",
    "# insert np.ones(m) to column 0\n",
    "X = np.insert(x, 0, np.ones(m), axis=1)\n",
    "print(X)\n",
    "# init theta with 0s\n",
    "theta = np.matrix(np.zeros((2,1)))\n",
    "print(theta)\n",
    "iterations = 1500\n",
    "alpha = 0.01\n",
    "\n",
    "X.shape, y.shape, theta.shape\n"
   ]
  },
  {
   "cell_type": "markdown",
   "metadata": {},
   "source": [
    "### 2.2.3 Computing the cost function"
   ]
  },
  {
   "cell_type": "code",
   "execution_count": null,
   "metadata": {
    "tags": []
   },
   "outputs": [],
   "source": [
    "# compute cost\n",
    "def compute_cost(X, y, theta):\n",
    "    m = len(y)\n",
    "    sum = 0\n",
    "    for i in range(0, m):\n",
    "        diff = np.matrix(X[i]) * theta - y[i]\n",
    "        sum += diff.item() ** 2\n",
    "    return 1 / (2 * m) * sum\n",
    "\n",
    "print(compute_cost(X, y, theta))\n",
    "# init theta with [[-1],[2]]\n",
    "print(compute_cost(X, y, np.matrix([[-1],[2]])))\n",
    "\n",
    "# simpler vectorized method\n",
    "def vectorized_compute_cost(X, y, theta):\n",
    "    m = len(y)\n",
    "    h = X * theta\n",
    "    diff = h - y\n",
    "    res = 1 / (2 * m) * np.sum(np.square(diff)) \n",
    "    return res\n",
    "\n",
    "print(vectorized_compute_cost(X, y, theta))\n",
    "# init theta with [[-1],[2]]\n",
    "print(vectorized_compute_cost(X, y, np.matrix([[-1],[2]])))"
   ]
  }
 ],
 "metadata": {
  "kernelspec": {
   "display_name": "Python 3",
   "language": "python",
   "name": "python3"
  },
  "language_info": {
   "codemirror_mode": {
    "name": "ipython",
    "version": 3
   },
   "file_extension": ".py",
   "mimetype": "text/x-python",
   "name": "python",
   "nbconvert_exporter": "python",
   "pygments_lexer": "ipython3",
   "version": "3.7.7-final"
  }
 },
 "nbformat": 4,
 "nbformat_minor": 2
}