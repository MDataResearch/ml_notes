{
 "cells": [
  {
   "cell_type": "markdown",
   "metadata": {},
   "source": [
    "# 1. A simple MATLAB function"
   ]
  },
  {
   "cell_type": "code",
   "execution_count": null,
   "metadata": {
    "scrolled": false,
    "tags": []
   },
   "outputs": [],
   "source": [
    "import numpy as np\n",
    "\n",
    "# identity matrix\n",
    "A = np.eye(5, dtype=int)\n",
    "\n",
    "print(A)"
   ]
  },
  {
   "cell_type": "markdown",
   "metadata": {},
   "source": [
    "# 2. Linear regression with one variable\n",
    "## 2.1 Plotting the data"
   ]
  },
  {
   "cell_type": "code",
   "execution_count": null,
   "metadata": {
    "tags": []
   },
   "outputs": [],
   "source": [
    "import os\n",
    "from pathlib import Path\n",
    "import numpy as np\n",
    "import matplotlib.pyplot as plt\n",
    "\n",
    "# load data\n",
    "datafile_1_path = Path(os.path.abspath('')).absolute() / \"data\" / \"ex1data1.txt\"\n",
    "dataset_1 = np.empty(shape=(0, 2))\n",
    "with open(datafile_1_path, \"r\") as datafile_1:\n",
    "    for line in datafile_1:\n",
    "        coordinates = line.split(\",\")\n",
    "        dataset_1 = np.append(dataset_1, [[float(coordinates[0]), float(coordinates[1])]], axis=0)\n",
    "# reshape X, y to unknown rows, 1 column\n",
    "X = dataset_1[:, 0].reshape(-1, 1)\n",
    "y = dataset_1[:, 1].reshape(-1, 1)\n",
    "print(dataset_1)\n",
    "print(X)\n",
    "print(y)\n",
    "\n",
    "# plotting the data\n",
    "plt.plot(X, y, \"bo\")\n",
    "plt.xlabel(\"Population of City in 10,000s\")\n",
    "plt.ylabel(\"Profit in $10,000s\")"
   ]
  },
  {
   "cell_type": "markdown",
   "metadata": {},
   "source": [
    "## 2.2 Gradient Descent\n",
    "### 2.2.1 Update Equations\n",
    "### 2.2.2 Implementation"
   ]
  },
  {
   "cell_type": "code",
   "execution_count": null,
   "metadata": {
    "tags": []
   },
   "outputs": [],
   "source": [
    "# number of training examples\n",
    "m = len(X)\n",
    "# insert 0 as X_0\n",
    "X = np.ma.column_stack((np.zeros(m), X))\n",
    "print(X)\n",
    "# init theta\n",
    "theta = np.zeros((2,1))\n",
    "print(theta)\n",
    "iterations = 1500\n",
    "alpha = 0.01\n"
   ]
  }
 ],
 "metadata": {
  "kernelspec": {
   "display_name": "Python 3",
   "language": "python",
   "name": "python3"
  },
  "language_info": {
   "codemirror_mode": {
    "name": "ipython",
    "version": 3
   },
   "file_extension": ".py",
   "mimetype": "text/x-python",
   "name": "python",
   "nbconvert_exporter": "python",
   "pygments_lexer": "ipython3",
   "version": "3.7.7-final"
  }
 },
 "nbformat": 4,
 "nbformat_minor": 2
}