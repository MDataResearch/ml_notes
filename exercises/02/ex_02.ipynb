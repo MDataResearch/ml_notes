{
 "metadata": {
  "language_info": {
   "codemirror_mode": {
    "name": "ipython",
    "version": 3
   },
   "file_extension": ".py",
   "mimetype": "text/x-python",
   "name": "python",
   "nbconvert_exporter": "python",
   "pygments_lexer": "ipython3",
   "version": "3.7.7-final"
  },
  "orig_nbformat": 2,
  "kernelspec": {
   "name": "python3",
   "display_name": "Python 3.7.7 64-bit ('ml_course': pipenv)",
   "metadata": {
    "interpreter": {
     "hash": "9e6836700e96a853fe4b0f9f6772835270a845f6671132c1dde5eaf8914ce878"
    }
   }
  }
 },
 "nbformat": 4,
 "nbformat_minor": 2,
 "cells": [
  {
   "source": [
    "# 1. Logistic Regression"
   ],
   "cell_type": "markdown",
   "metadata": {}
  },
  {
   "cell_type": "code",
   "execution_count": null,
   "metadata": {},
   "outputs": [],
   "source": [
    "import os\n",
    "from pathlib import Path\n",
    "import pandas as pd\n",
    "import numpy as np\n",
    "import matplotlib.pyplot as plt\n",
    "\n",
    "data_file_1 = Path(os.path.abspath(\"\")) / \"data\" / \"ex2data1.txt\"\n",
    "data_set_1 = pd.read_csv(data_file_1, header=None, names=[\"Score_1\", \"Score_2\", \"Admitted\"])\n",
    "# print(data_set_1)\n",
    "# print(data_set_1.head())\n",
    "# print(data_set_1.describe())\n",
    "\n",
    "x = np.matrix(data_set_1.iloc[:, 0:2])\n",
    "y = np.matrix(data_set_1.iloc[:, 2:])\n",
    "print(x)\n",
    "print(y)"
   ]
  },
  {
   "source": [
    "## 1.1 Visualizing the data"
   ],
   "cell_type": "markdown",
   "metadata": {}
  },
  {
   "cell_type": "code",
   "execution_count": null,
   "metadata": {},
   "outputs": [],
   "source": [
    "# init empty array with dimensions\n",
    "admitted_list = np.empty((0, 3))\n",
    "non_admitted_list = np.empty((0, 3))\n",
    "\n",
    "for record in np.array(data_set_1):\n",
    "    if record[2] == 1:\n",
    "        admitted_list = np.append(admitted_list, [record], axis=0)\n",
    "    else:\n",
    "        non_admitted_list = np.append(not_admitted_list, [record], axis=0)\n",
    "\n",
    "# simple way to init\n",
    "# admitted_list = np.array([record for record in np.array(data_set_1) if record[2] == 1])\n",
    "# not_admitted_list = np.array([record for record in np.array(data_set_1) if record[2] == 0])\n",
    "\n",
    "# print(admitted_list)\n",
    "# print(not_admitted_list)\n",
    "\n",
    "plt.plot(admitted_list[:, 0], admitted_list[:, 1], 'go', label=\"Admitted\")\n",
    "plt.plot(non_admitted_list[:, 0], non_admitted_list[:, 1], 'ro', label=\"Non-admitted\")\n",
    "plt.xlabel(\"Score_1\")\n",
    "plt.ylabel(\"Score_2\")\n",
    "plt.legend(loc=\"upper right\")\n",
    "plt.show()\n"
   ]
  }
 ]
}