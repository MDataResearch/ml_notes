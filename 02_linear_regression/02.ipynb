{
 "cells": [
  {
   "cell_type": "markdown",
   "metadata": {},
   "source": [
    "# Learning process:\n",
    "\n",
    "training set => learning algorithm => h (hypothesis 假设)\n",
    "\n",
    "size of house (x) => h (hypothesis 假设) => estimated prize (y)\n",
    "\n",
    "\\begin{equation*}\n",
    "y = h_\\theta(x)   = \\theta_0 + \\theta_1 x\n",
    "\\end{equation*}"
   ]
  }
 ],
 "metadata": {
  "kernelspec": {
   "display_name": "Python 3",
   "language": "python",
   "name": "python3"
  },
  "language_info": {
   "codemirror_mode": {
    "name": "ipython",
    "version": 3
   },
   "file_extension": ".py",
   "mimetype": "text/x-python",
   "name": "python",
   "nbconvert_exporter": "python",
   "pygments_lexer": "ipython3",
   "version": "3.7.4"
  }
 },
 "nbformat": 4,
 "nbformat_minor": 2
}
