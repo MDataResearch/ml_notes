{
 "cells": [
  {
   "cell_type": "markdown",
   "metadata": {},
   "source": [
    "# Deep Neural Network for Image Classification: Application\n",
    "\n",
    "When you finish this, you will have finished the last programming assignment of Week 4, and also the last programming assignment of this course! \n",
    "\n",
    "You will use use the functions you'd implemented in the previous assignment to build a deep network, and apply it to cat vs non-cat classification. Hopefully, you will see an improvement in accuracy relative to your previous logistic regression implementation.  \n",
    "\n",
    "**After this assignment you will be able to:**\n",
    "- Build and apply a deep neural network to supervised learning. \n",
    "\n",
    "Let's get started!"
   ]
  },
  {
   "cell_type": "markdown",
   "metadata": {},
   "source": [
    "## 1 - Packages"
   ]
  },
  {
   "cell_type": "markdown",
   "metadata": {},
   "source": [
    "Let's first import all the packages that you will need during this assignment. \n",
    "- [numpy](www.numpy.org) is the fundamental package for scientific computing with Python.\n",
    "- [matplotlib](http://matplotlib.org) is a library to plot graphs in Python.\n",
    "- [h5py](http://www.h5py.org) is a common package to interact with a dataset that is stored on an H5 file.\n",
    "- [PIL](http://www.pythonware.com/products/pil/) and [scipy](https://www.scipy.org/) are used here to test your model with your own picture at the end.\n",
    "- dnn_app_utils provides the functions implemented in the \"Building your Deep Neural Network: Step by Step\" assignment to this notebook.\n",
    "- np.random.seed(1) is used to keep all the random function calls consistent. It will help us grade your work."
   ]
  },
  {
   "cell_type": "code",
   "execution_count": 34,
   "metadata": {
    "collapsed": false,
    "tags": []
   },
   "outputs": [
    {
     "output_type": "stream",
     "name": "stdout",
     "text": "The autoreload extension is already loaded. To reload it, use:\n  %reload_ext autoreload\n"
    }
   ],
   "source": [
    "import time\n",
    "import numpy as np\n",
    "import h5py\n",
    "import matplotlib.pyplot as plt\n",
    "import scipy\n",
    "from PIL import Image\n",
    "from scipy import ndimage\n",
    "from dnn_app_utils_v2 import *\n",
    "\n",
    "%matplotlib inline\n",
    "plt.rcParams['figure.figsize'] = (5.0, 4.0) # set default size of plots\n",
    "plt.rcParams['image.interpolation'] = 'nearest'\n",
    "plt.rcParams['image.cmap'] = 'gray'\n",
    "\n",
    "%load_ext autoreload\n",
    "%autoreload 2\n",
    "\n",
    "np.random.seed(1)\n"
   ]
  },
  {
   "cell_type": "markdown",
   "metadata": {},
   "source": [
    "## 2 - Dataset\n",
    "\n",
    "You will use the same \"Cat vs non-Cat\" dataset as in \"Logistic Regression as a Neural Network\" (Assignment 2). The model you had built had 70% test accuracy on classifying cats vs non-cats images. Hopefully, your new model will perform a better!\n",
    "\n",
    "**Problem Statement**: You are given a dataset (\"data.h5\") containing:\n",
    "    - a training set of m_train images labelled as cat (1) or non-cat (0)\n",
    "    - a test set of m_test images labelled as cat and non-cat\n",
    "    - each image is of shape (num_px, num_px, 3) where 3 is for the 3 channels (RGB).\n",
    "\n",
    "Let's get more familiar with the dataset. Load the data by running the cell below."
   ]
  },
  {
   "cell_type": "code",
   "execution_count": 35,
   "metadata": {
    "collapsed": false
   },
   "outputs": [],
   "source": [
    "train_x_orig, train_y, test_x_orig, test_y, classes = load_data()"
   ]
  },
  {
   "cell_type": "markdown",
   "metadata": {},
   "source": [
    "The following code will show you an image in the dataset. Feel free to change the index and re-run the cell multiple times to see other images. "
   ]
  },
  {
   "cell_type": "code",
   "execution_count": 36,
   "metadata": {
    "collapsed": false,
    "tags": []
   },
   "outputs": [
    {
     "output_type": "stream",
     "name": "stdout",
     "text": "y = 0. It's a non-cat picture.\n"
    },
    {
     "output_type": "display_data",
     "data": {
      "text/plain": "<Figure size 360x288 with 1 Axes>",
      "image/svg+xml": "<?xml version=\"1.0\" encoding=\"utf-8\" standalone=\"no\"?>\n<!DOCTYPE svg PUBLIC \"-//W3C//DTD SVG 1.1//EN\"\n  \"http://www.w3.org/Graphics/SVG/1.1/DTD/svg11.dtd\">\n<!-- Created with matplotlib (https://matplotlib.org/) -->\n<svg height=\"250.618594pt\" version=\"1.1\" viewBox=\"0 0 251.565 250.618594\" width=\"251.565pt\" xmlns=\"http://www.w3.org/2000/svg\" xmlns:xlink=\"http://www.w3.org/1999/xlink\">\n <metadata>\n  <rdf:RDF xmlns:cc=\"http://creativecommons.org/ns#\" xmlns:dc=\"http://purl.org/dc/elements/1.1/\" xmlns:rdf=\"http://www.w3.org/1999/02/22-rdf-syntax-ns#\">\n   <cc:Work>\n    <dc:type rdf:resource=\"http://purl.org/dc/dcmitype/StillImage\"/>\n    <dc:date>2021-07-30T15:24:15.679375</dc:date>\n    <dc:format>image/svg+xml</dc:format>\n    <dc:creator>\n     <cc:Agent>\n      <dc:title>Matplotlib v3.3.3, https://matplotlib.org/</dc:title>\n     </cc:Agent>\n    </dc:creator>\n   </cc:Work>\n  </rdf:RDF>\n </metadata>\n <defs>\n  <style type=\"text/css\">*{stroke-linecap:butt;stroke-linejoin:round;}</style>\n </defs>\n <g id=\"figure_1\">\n  <g id=\"patch_1\">\n   <path d=\"M -0 250.618594 \nL 251.565 250.618594 \nL 251.565 0 \nL -0 0 \nz\n\" style=\"fill:none;\"/>\n  </g>\n  <g id=\"axes_1\">\n   <g id=\"patch_2\">\n    <path d=\"M 26.925 226.740469 \nL 244.365 226.740469 \nL 244.365 9.300469 \nL 26.925 9.300469 \nz\n\" style=\"fill:#ffffff;\"/>\n   </g>\n   <g clip-path=\"url(#pc9819c191a)\">\n    <image height=\"218\" id=\"image7176e90212\" transform=\"scale(1 -1)translate(0 -218)\" width=\"218\" x=\"26.925\" xlink:href=\"data:image/png;base64,\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\" y=\"-8.740469\"/>\n   </g>\n   <g id=\"matplotlib.axis_1\">\n    <g id=\"xtick_1\">\n     <g id=\"line2d_1\">\n      <defs>\n       <path d=\"M 0 0 \nL 0 3.5 \n\" id=\"m37d62265e6\" style=\"stroke:#000000;stroke-width:0.8;\"/>\n      </defs>\n      <g>\n       <use style=\"stroke:#000000;stroke-width:0.8;\" x=\"28.62375\" xlink:href=\"#m37d62265e6\" y=\"226.740469\"/>\n      </g>\n     </g>\n     <g id=\"text_1\">\n      <!-- 0 -->\n      <g transform=\"translate(25.4425 241.338906)scale(0.1 -0.1)\">\n       <defs>\n        <path d=\"M 31.78125 66.40625 \nQ 24.171875 66.40625 20.328125 58.90625 \nQ 16.5 51.421875 16.5 36.375 \nQ 16.5 21.390625 20.328125 13.890625 \nQ 24.171875 6.390625 31.78125 6.390625 \nQ 39.453125 6.390625 43.28125 13.890625 \nQ 47.125 21.390625 47.125 36.375 \nQ 47.125 51.421875 43.28125 58.90625 \nQ 39.453125 66.40625 31.78125 66.40625 \nz\nM 31.78125 74.21875 \nQ 44.046875 74.21875 50.515625 64.515625 \nQ 56.984375 54.828125 56.984375 36.375 \nQ 56.984375 17.96875 50.515625 8.265625 \nQ 44.046875 -1.421875 31.78125 -1.421875 \nQ 19.53125 -1.421875 13.0625 8.265625 \nQ 6.59375 17.96875 6.59375 36.375 \nQ 6.59375 54.828125 13.0625 64.515625 \nQ 19.53125 74.21875 31.78125 74.21875 \nz\n\" id=\"DejaVuSans-48\"/>\n       </defs>\n       <use xlink:href=\"#DejaVuSans-48\"/>\n      </g>\n     </g>\n    </g>\n    <g id=\"xtick_2\">\n     <g id=\"line2d_2\">\n      <g>\n       <use style=\"stroke:#000000;stroke-width:0.8;\" x=\"62.59875\" xlink:href=\"#m37d62265e6\" y=\"226.740469\"/>\n      </g>\n     </g>\n     <g id=\"text_2\">\n      <!-- 10 -->\n      <g transform=\"translate(56.23625 241.338906)scale(0.1 -0.1)\">\n       <defs>\n        <path d=\"M 12.40625 8.296875 \nL 28.515625 8.296875 \nL 28.515625 63.921875 \nL 10.984375 60.40625 \nL 10.984375 69.390625 \nL 28.421875 72.90625 \nL 38.28125 72.90625 \nL 38.28125 8.296875 \nL 54.390625 8.296875 \nL 54.390625 0 \nL 12.40625 0 \nz\n\" id=\"DejaVuSans-49\"/>\n       </defs>\n       <use xlink:href=\"#DejaVuSans-49\"/>\n       <use x=\"63.623047\" xlink:href=\"#DejaVuSans-48\"/>\n      </g>\n     </g>\n    </g>\n    <g id=\"xtick_3\">\n     <g id=\"line2d_3\">\n      <g>\n       <use style=\"stroke:#000000;stroke-width:0.8;\" x=\"96.57375\" xlink:href=\"#m37d62265e6\" y=\"226.740469\"/>\n      </g>\n     </g>\n     <g id=\"text_3\">\n      <!-- 20 -->\n      <g transform=\"translate(90.21125 241.338906)scale(0.1 -0.1)\">\n       <defs>\n        <path d=\"M 19.1875 8.296875 \nL 53.609375 8.296875 \nL 53.609375 0 \nL 7.328125 0 \nL 7.328125 8.296875 \nQ 12.9375 14.109375 22.625 23.890625 \nQ 32.328125 33.6875 34.8125 36.53125 \nQ 39.546875 41.84375 41.421875 45.53125 \nQ 43.3125 49.21875 43.3125 52.78125 \nQ 43.3125 58.59375 39.234375 62.25 \nQ 35.15625 65.921875 28.609375 65.921875 \nQ 23.96875 65.921875 18.8125 64.3125 \nQ 13.671875 62.703125 7.8125 59.421875 \nL 7.8125 69.390625 \nQ 13.765625 71.78125 18.9375 73 \nQ 24.125 74.21875 28.421875 74.21875 \nQ 39.75 74.21875 46.484375 68.546875 \nQ 53.21875 62.890625 53.21875 53.421875 \nQ 53.21875 48.921875 51.53125 44.890625 \nQ 49.859375 40.875 45.40625 35.40625 \nQ 44.1875 33.984375 37.640625 27.21875 \nQ 31.109375 20.453125 19.1875 8.296875 \nz\n\" id=\"DejaVuSans-50\"/>\n       </defs>\n       <use xlink:href=\"#DejaVuSans-50\"/>\n       <use x=\"63.623047\" xlink:href=\"#DejaVuSans-48\"/>\n      </g>\n     </g>\n    </g>\n    <g id=\"xtick_4\">\n     <g id=\"line2d_4\">\n      <g>\n       <use style=\"stroke:#000000;stroke-width:0.8;\" x=\"130.54875\" xlink:href=\"#m37d62265e6\" y=\"226.740469\"/>\n      </g>\n     </g>\n     <g id=\"text_4\">\n      <!-- 30 -->\n      <g transform=\"translate(124.18625 241.338906)scale(0.1 -0.1)\">\n       <defs>\n        <path d=\"M 40.578125 39.3125 \nQ 47.65625 37.796875 51.625 33 \nQ 55.609375 28.21875 55.609375 21.1875 \nQ 55.609375 10.40625 48.1875 4.484375 \nQ 40.765625 -1.421875 27.09375 -1.421875 \nQ 22.515625 -1.421875 17.65625 -0.515625 \nQ 12.796875 0.390625 7.625 2.203125 \nL 7.625 11.71875 \nQ 11.71875 9.328125 16.59375 8.109375 \nQ 21.484375 6.890625 26.8125 6.890625 \nQ 36.078125 6.890625 40.9375 10.546875 \nQ 45.796875 14.203125 45.796875 21.1875 \nQ 45.796875 27.640625 41.28125 31.265625 \nQ 36.765625 34.90625 28.71875 34.90625 \nL 20.21875 34.90625 \nL 20.21875 43.015625 \nL 29.109375 43.015625 \nQ 36.375 43.015625 40.234375 45.921875 \nQ 44.09375 48.828125 44.09375 54.296875 \nQ 44.09375 59.90625 40.109375 62.90625 \nQ 36.140625 65.921875 28.71875 65.921875 \nQ 24.65625 65.921875 20.015625 65.03125 \nQ 15.375 64.15625 9.8125 62.3125 \nL 9.8125 71.09375 \nQ 15.4375 72.65625 20.34375 73.4375 \nQ 25.25 74.21875 29.59375 74.21875 \nQ 40.828125 74.21875 47.359375 69.109375 \nQ 53.90625 64.015625 53.90625 55.328125 \nQ 53.90625 49.265625 50.4375 45.09375 \nQ 46.96875 40.921875 40.578125 39.3125 \nz\n\" id=\"DejaVuSans-51\"/>\n       </defs>\n       <use xlink:href=\"#DejaVuSans-51\"/>\n       <use x=\"63.623047\" xlink:href=\"#DejaVuSans-48\"/>\n      </g>\n     </g>\n    </g>\n    <g id=\"xtick_5\">\n     <g id=\"line2d_5\">\n      <g>\n       <use style=\"stroke:#000000;stroke-width:0.8;\" x=\"164.52375\" xlink:href=\"#m37d62265e6\" y=\"226.740469\"/>\n      </g>\n     </g>\n     <g id=\"text_5\">\n      <!-- 40 -->\n      <g transform=\"translate(158.16125 241.338906)scale(0.1 -0.1)\">\n       <defs>\n        <path d=\"M 37.796875 64.3125 \nL 12.890625 25.390625 \nL 37.796875 25.390625 \nz\nM 35.203125 72.90625 \nL 47.609375 72.90625 \nL 47.609375 25.390625 \nL 58.015625 25.390625 \nL 58.015625 17.1875 \nL 47.609375 17.1875 \nL 47.609375 0 \nL 37.796875 0 \nL 37.796875 17.1875 \nL 4.890625 17.1875 \nL 4.890625 26.703125 \nz\n\" id=\"DejaVuSans-52\"/>\n       </defs>\n       <use xlink:href=\"#DejaVuSans-52\"/>\n       <use x=\"63.623047\" xlink:href=\"#DejaVuSans-48\"/>\n      </g>\n     </g>\n    </g>\n    <g id=\"xtick_6\">\n     <g id=\"line2d_6\">\n      <g>\n       <use style=\"stroke:#000000;stroke-width:0.8;\" x=\"198.49875\" xlink:href=\"#m37d62265e6\" y=\"226.740469\"/>\n      </g>\n     </g>\n     <g id=\"text_6\">\n      <!-- 50 -->\n      <g transform=\"translate(192.13625 241.338906)scale(0.1 -0.1)\">\n       <defs>\n        <path d=\"M 10.796875 72.90625 \nL 49.515625 72.90625 \nL 49.515625 64.59375 \nL 19.828125 64.59375 \nL 19.828125 46.734375 \nQ 21.96875 47.46875 24.109375 47.828125 \nQ 26.265625 48.1875 28.421875 48.1875 \nQ 40.625 48.1875 47.75 41.5 \nQ 54.890625 34.8125 54.890625 23.390625 \nQ 54.890625 11.625 47.5625 5.09375 \nQ 40.234375 -1.421875 26.90625 -1.421875 \nQ 22.3125 -1.421875 17.546875 -0.640625 \nQ 12.796875 0.140625 7.71875 1.703125 \nL 7.71875 11.625 \nQ 12.109375 9.234375 16.796875 8.0625 \nQ 21.484375 6.890625 26.703125 6.890625 \nQ 35.15625 6.890625 40.078125 11.328125 \nQ 45.015625 15.765625 45.015625 23.390625 \nQ 45.015625 31 40.078125 35.4375 \nQ 35.15625 39.890625 26.703125 39.890625 \nQ 22.75 39.890625 18.8125 39.015625 \nQ 14.890625 38.140625 10.796875 36.28125 \nz\n\" id=\"DejaVuSans-53\"/>\n       </defs>\n       <use xlink:href=\"#DejaVuSans-53\"/>\n       <use x=\"63.623047\" xlink:href=\"#DejaVuSans-48\"/>\n      </g>\n     </g>\n    </g>\n    <g id=\"xtick_7\">\n     <g id=\"line2d_7\">\n      <g>\n       <use style=\"stroke:#000000;stroke-width:0.8;\" x=\"232.47375\" xlink:href=\"#m37d62265e6\" y=\"226.740469\"/>\n      </g>\n     </g>\n     <g id=\"text_7\">\n      <!-- 60 -->\n      <g transform=\"translate(226.11125 241.338906)scale(0.1 -0.1)\">\n       <defs>\n        <path d=\"M 33.015625 40.375 \nQ 26.375 40.375 22.484375 35.828125 \nQ 18.609375 31.296875 18.609375 23.390625 \nQ 18.609375 15.53125 22.484375 10.953125 \nQ 26.375 6.390625 33.015625 6.390625 \nQ 39.65625 6.390625 43.53125 10.953125 \nQ 47.40625 15.53125 47.40625 23.390625 \nQ 47.40625 31.296875 43.53125 35.828125 \nQ 39.65625 40.375 33.015625 40.375 \nz\nM 52.59375 71.296875 \nL 52.59375 62.3125 \nQ 48.875 64.0625 45.09375 64.984375 \nQ 41.3125 65.921875 37.59375 65.921875 \nQ 27.828125 65.921875 22.671875 59.328125 \nQ 17.53125 52.734375 16.796875 39.40625 \nQ 19.671875 43.65625 24.015625 45.921875 \nQ 28.375 48.1875 33.59375 48.1875 \nQ 44.578125 48.1875 50.953125 41.515625 \nQ 57.328125 34.859375 57.328125 23.390625 \nQ 57.328125 12.15625 50.6875 5.359375 \nQ 44.046875 -1.421875 33.015625 -1.421875 \nQ 20.359375 -1.421875 13.671875 8.265625 \nQ 6.984375 17.96875 6.984375 36.375 \nQ 6.984375 53.65625 15.1875 63.9375 \nQ 23.390625 74.21875 37.203125 74.21875 \nQ 40.921875 74.21875 44.703125 73.484375 \nQ 48.484375 72.75 52.59375 71.296875 \nz\n\" id=\"DejaVuSans-54\"/>\n       </defs>\n       <use xlink:href=\"#DejaVuSans-54\"/>\n       <use x=\"63.623047\" xlink:href=\"#DejaVuSans-48\"/>\n      </g>\n     </g>\n    </g>\n   </g>\n   <g id=\"matplotlib.axis_2\">\n    <g id=\"ytick_1\">\n     <g id=\"line2d_8\">\n      <defs>\n       <path d=\"M 0 0 \nL -3.5 0 \n\" id=\"m6293be4b45\" style=\"stroke:#000000;stroke-width:0.8;\"/>\n      </defs>\n      <g>\n       <use style=\"stroke:#000000;stroke-width:0.8;\" x=\"26.925\" xlink:href=\"#m6293be4b45\" y=\"10.999219\"/>\n      </g>\n     </g>\n     <g id=\"text_8\">\n      <!-- 0 -->\n      <g transform=\"translate(13.5625 14.798437)scale(0.1 -0.1)\">\n       <use xlink:href=\"#DejaVuSans-48\"/>\n      </g>\n     </g>\n    </g>\n    <g id=\"ytick_2\">\n     <g id=\"line2d_9\">\n      <g>\n       <use style=\"stroke:#000000;stroke-width:0.8;\" x=\"26.925\" xlink:href=\"#m6293be4b45\" y=\"44.974219\"/>\n      </g>\n     </g>\n     <g id=\"text_9\">\n      <!-- 10 -->\n      <g transform=\"translate(7.2 48.773437)scale(0.1 -0.1)\">\n       <use xlink:href=\"#DejaVuSans-49\"/>\n       <use x=\"63.623047\" xlink:href=\"#DejaVuSans-48\"/>\n      </g>\n     </g>\n    </g>\n    <g id=\"ytick_3\">\n     <g id=\"line2d_10\">\n      <g>\n       <use style=\"stroke:#000000;stroke-width:0.8;\" x=\"26.925\" xlink:href=\"#m6293be4b45\" y=\"78.949219\"/>\n      </g>\n     </g>\n     <g id=\"text_10\">\n      <!-- 20 -->\n      <g transform=\"translate(7.2 82.748437)scale(0.1 -0.1)\">\n       <use xlink:href=\"#DejaVuSans-50\"/>\n       <use x=\"63.623047\" xlink:href=\"#DejaVuSans-48\"/>\n      </g>\n     </g>\n    </g>\n    <g id=\"ytick_4\">\n     <g id=\"line2d_11\">\n      <g>\n       <use style=\"stroke:#000000;stroke-width:0.8;\" x=\"26.925\" xlink:href=\"#m6293be4b45\" y=\"112.924219\"/>\n      </g>\n     </g>\n     <g id=\"text_11\">\n      <!-- 30 -->\n      <g transform=\"translate(7.2 116.723437)scale(0.1 -0.1)\">\n       <use xlink:href=\"#DejaVuSans-51\"/>\n       <use x=\"63.623047\" xlink:href=\"#DejaVuSans-48\"/>\n      </g>\n     </g>\n    </g>\n    <g id=\"ytick_5\">\n     <g id=\"line2d_12\">\n      <g>\n       <use style=\"stroke:#000000;stroke-width:0.8;\" x=\"26.925\" xlink:href=\"#m6293be4b45\" y=\"146.899219\"/>\n      </g>\n     </g>\n     <g id=\"text_12\">\n      <!-- 40 -->\n      <g transform=\"translate(7.2 150.698437)scale(0.1 -0.1)\">\n       <use xlink:href=\"#DejaVuSans-52\"/>\n       <use x=\"63.623047\" xlink:href=\"#DejaVuSans-48\"/>\n      </g>\n     </g>\n    </g>\n    <g id=\"ytick_6\">\n     <g id=\"line2d_13\">\n      <g>\n       <use style=\"stroke:#000000;stroke-width:0.8;\" x=\"26.925\" xlink:href=\"#m6293be4b45\" y=\"180.874219\"/>\n      </g>\n     </g>\n     <g id=\"text_13\">\n      <!-- 50 -->\n      <g transform=\"translate(7.2 184.673437)scale(0.1 -0.1)\">\n       <use xlink:href=\"#DejaVuSans-53\"/>\n       <use x=\"63.623047\" xlink:href=\"#DejaVuSans-48\"/>\n      </g>\n     </g>\n    </g>\n    <g id=\"ytick_7\">\n     <g id=\"line2d_14\">\n      <g>\n       <use style=\"stroke:#000000;stroke-width:0.8;\" x=\"26.925\" xlink:href=\"#m6293be4b45\" y=\"214.849219\"/>\n      </g>\n     </g>\n     <g id=\"text_14\">\n      <!-- 60 -->\n      <g transform=\"translate(7.2 218.648437)scale(0.1 -0.1)\">\n       <use xlink:href=\"#DejaVuSans-54\"/>\n       <use x=\"63.623047\" xlink:href=\"#DejaVuSans-48\"/>\n      </g>\n     </g>\n    </g>\n   </g>\n   <g id=\"patch_3\">\n    <path d=\"M 26.925 226.740469 \nL 26.925 9.300469 \n\" style=\"fill:none;stroke:#000000;stroke-linecap:square;stroke-linejoin:miter;stroke-width:0.8;\"/>\n   </g>\n   <g id=\"patch_4\">\n    <path d=\"M 244.365 226.740469 \nL 244.365 9.300469 \n\" style=\"fill:none;stroke:#000000;stroke-linecap:square;stroke-linejoin:miter;stroke-width:0.8;\"/>\n   </g>\n   <g id=\"patch_5\">\n    <path d=\"M 26.925 226.740469 \nL 244.365 226.740469 \n\" style=\"fill:none;stroke:#000000;stroke-linecap:square;stroke-linejoin:miter;stroke-width:0.8;\"/>\n   </g>\n   <g id=\"patch_6\">\n    <path d=\"M 26.925 9.300469 \nL 244.365 9.300469 \n\" style=\"fill:none;stroke:#000000;stroke-linecap:square;stroke-linejoin:miter;stroke-width:0.8;\"/>\n   </g>\n  </g>\n </g>\n <defs>\n  <clipPath id=\"pc9819c191a\">\n   <rect height=\"217.44\" width=\"217.44\" x=\"26.925\" y=\"9.300469\"/>\n  </clipPath>\n </defs>\n</svg>\n",
      "image/png": "[encoded data removed]"
     },
     "metadata": {
      "needs_background": "light"
     }
    }
   ],
   "source": [
    "# Example of a picture\n",
    "index = 10\n",
    "plt.imshow(train_x_orig[index])\n",
    "print (\"y = \" + str(train_y[0, index]) + \". It's a \" + classes[train_y[0, index]].decode(\"utf-8\") + \" picture.\")"
   ]
  },
  {
   "cell_type": "code",
   "execution_count": 37,
   "metadata": {
    "collapsed": false,
    "tags": []
   },
   "outputs": [
    {
     "output_type": "stream",
     "name": "stdout",
     "text": "Number of training examples: 209\nNumber of testing examples: 50\nEach image is of size: (64, 64, 3)\ntrain_x_orig shape: (209, 64, 64, 3)\ntrain_y shape: (1, 209)\ntest_x_orig shape: (50, 64, 64, 3)\ntest_y shape: (1, 50)\n"
    }
   ],
   "source": [
    "# Explore your dataset \n",
    "m_train = train_x_orig.shape[0]\n",
    "num_px = train_x_orig.shape[1]\n",
    "m_test = test_x_orig.shape[0]\n",
    "\n",
    "print (\"Number of training examples: \" + str(m_train))\n",
    "print (\"Number of testing examples: \" + str(m_test))\n",
    "print (\"Each image is of size: (\" + str(num_px) + \", \" + str(num_px) + \", 3)\")\n",
    "print (\"train_x_orig shape: \" + str(train_x_orig.shape))\n",
    "print (\"train_y shape: \" + str(train_y.shape))\n",
    "print (\"test_x_orig shape: \" + str(test_x_orig.shape))\n",
    "print (\"test_y shape: \" + str(test_y.shape))"
   ]
  },
  {
   "cell_type": "markdown",
   "metadata": {},
   "source": [
    "As usual, you reshape and standardize the images before feeding them to the network. The code is given in the cell below.\n",
    "\n",
    "<img src=\"images/imvectorkiank.png\" style=\"width:450px;height:300px;\">\n",
    "\n",
    "<caption><center> <u>Figure 1</u>: Image to vector conversion. <br> </center></caption>"
   ]
  },
  {
   "cell_type": "code",
   "execution_count": 38,
   "metadata": {
    "collapsed": false,
    "tags": []
   },
   "outputs": [
    {
     "output_type": "stream",
     "name": "stdout",
     "text": "train_x's shape: (12288, 209)\ntest_x's shape: (12288, 50)\n"
    }
   ],
   "source": [
    "# Reshape the training and test examples \n",
    "train_x_flatten = train_x_orig.reshape(train_x_orig.shape[0], -1).T   # The \"-1\" makes reshape flatten the remaining dimensions\n",
    "test_x_flatten = test_x_orig.reshape(test_x_orig.shape[0], -1).T\n",
    "\n",
    "# Standardize data to have feature values between 0 and 1.\n",
    "train_x = train_x_flatten / 255.\n",
    "test_x = test_x_flatten / 255.\n",
    "\n",
    "print (\"train_x's shape: \" + str(train_x.shape))\n",
    "print (\"test_x's shape: \" + str(test_x.shape))\n"
   ]
  },
  {
   "cell_type": "markdown",
   "metadata": {},
   "source": [
    "$12,288$ equals $64 \\times 64 \\times 3$ which is the size of one reshaped image vector."
   ]
  },
  {
   "cell_type": "markdown",
   "metadata": {},
   "source": [
    "## 3 - Architecture of your model"
   ]
  },
  {
   "cell_type": "markdown",
   "metadata": {},
   "source": [
    "Now that you are familiar with the dataset, it is time to build a deep neural network to distinguish cat images from non-cat images.\n",
    "\n",
    "You will build two different models:\n",
    "- A 2-layer neural network\n",
    "- An L-layer deep neural network\n",
    "\n",
    "You will then compare the performance of these models, and also try out different values for $L$. \n",
    "\n",
    "Let's look at the two architectures.\n",
    "\n",
    "### 3.1 - 2-layer neural network\n",
    "\n",
    "<img src=\"images/2layerNN_kiank.png\" style=\"width:650px;height:400px;\">\n",
    "<caption><center> <u>Figure 2</u>: 2-layer neural network. <br> The model can be summarized as: ***INPUT -> LINEAR -> RELU -> LINEAR -> SIGMOID -> OUTPUT***. </center></caption>\n",
    "\n",
    "<u>Detailed Architecture of figure 2</u>:\n",
    "- The input is a (64,64,3) image which is flattened to a vector of size $(12288,1)$. \n",
    "- The corresponding vector: $[x_0,x_1,...,x_{12287}]^T$ is then multiplied by the weight matrix $W^{[1]}$ of size $(n^{[1]}, 12288)$.\n",
    "- You then add a bias term and take its relu to get the following vector: $[a_0^{[1]}, a_1^{[1]},..., a_{n^{[1]}-1}^{[1]}]^T$.\n",
    "- You then repeat the same process.\n",
    "- You multiply the resulting vector by $W^{[2]}$ and add your intercept (bias). \n",
    "- Finally, you take the sigmoid of the result. If it is greater than 0.5, you classify it to be a cat.\n",
    "\n",
    "### 3.2 - L-layer deep neural network\n",
    "\n",
    "It is hard to represent an L-layer deep neural network with the above representation. However, here is a simplified network representation:\n",
    "\n",
    "<img src=\"images/LlayerNN_kiank.png\" style=\"width:650px;height:400px;\">\n",
    "<caption><center> <u>Figure 3</u>: L-layer neural network. <br> The model can be summarized as: ***[LINEAR -> RELU] $\\times$ (L-1) -> LINEAR -> SIGMOID***</center></caption>\n",
    "\n",
    "<u>Detailed Architecture of figure 3</u>:\n",
    "- The input is a (64,64,3) image which is flattened to a vector of size (12288,1).\n",
    "- The corresponding vector: $[x_0,x_1,...,x_{12287}]^T$ is then multiplied by the weight matrix $W^{[1]}$ and then you add the intercept $b^{[1]}$. The result is called the linear unit.\n",
    "- Next, you take the relu of the linear unit. This process could be repeated several times for each $(W^{[l]}, b^{[l]})$ depending on the model architecture.\n",
    "- Finally, you take the sigmoid of the final linear unit. If it is greater than 0.5, you classify it to be a cat.\n",
    "\n",
    "### 3.3 - General methodology\n",
    "\n",
    "As usual you will follow the Deep Learning methodology to build the model:\n",
    "    1. Initialize parameters / Define hyperparameters\n",
    "    2. Loop for num_iterations:\n",
    "        a. Forward propagation\n",
    "        b. Compute cost function\n",
    "        c. Backward propagation\n",
    "        d. Update parameters (using parameters, and grads from backprop) \n",
    "    4. Use trained parameters to predict labels\n",
    "\n",
    "Let's now implement those two models!"
   ]
  },
  {
   "cell_type": "markdown",
   "metadata": {},
   "source": [
    "## 4 - Two-layer neural network\n",
    "\n",
    "**Question**:  Use the helper functions you have implemented in the previous assignment to build a 2-layer neural network with the following structure: *LINEAR -> RELU -> LINEAR -> SIGMOID*. The functions you may need and their inputs are:\n",
    "```python\n",
    "def initialize_parameters(n_x, n_h, n_y):\n",
    "    ...\n",
    "    return parameters \n",
    "def linear_activation_forward(A_prev, W, b, activation):\n",
    "    ...\n",
    "    return A, cache\n",
    "def compute_cost(AL, Y):\n",
    "    ...\n",
    "    return cost\n",
    "def linear_activation_backward(dA, cache, activation):\n",
    "    ...\n",
    "    return dA_prev, dW, db\n",
    "def update_parameters(parameters, grads, learning_rate):\n",
    "    ...\n",
    "    return parameters\n",
    "```"
   ]
  },
  {
   "cell_type": "code",
   "execution_count": 39,
   "metadata": {
    "collapsed": true
   },
   "outputs": [],
   "source": [
    "### CONSTANTS DEFINING THE MODEL ####\n",
    "n_x = 12288     # num_px * num_px * 3\n",
    "n_h = 7\n",
    "n_y = 1\n",
    "layers_dims = (n_x, n_h, n_y)"
   ]
  },
  {
   "cell_type": "code",
   "execution_count": 40,
   "metadata": {
    "collapsed": false
   },
   "outputs": [],
   "source": [
    "# GRADED FUNCTION: two_layer_model\n",
    "\n",
    "def two_layer_model(X, Y, layers_dims, learning_rate=0.0075, num_iterations=3000, print_cost=False):\n",
    "    \"\"\"\n",
    "    Implements a two-layer neural network: LINEAR->RELU->LINEAR->SIGMOID.\n",
    "    \n",
    "    Arguments:\n",
    "    X -- input data, of shape (n_x, number of examples)\n",
    "    Y -- true \"label\" vector (containing 0 if cat, 1 if non-cat), of shape (1, number of examples)\n",
    "    layers_dims -- dimensions of the layers (n_x, n_h, n_y)\n",
    "    num_iterations -- number of iterations of the optimization loop\n",
    "    learning_rate -- learning rate of the gradient descent update rule\n",
    "    print_cost -- If set to True, this will print the cost every 100 iterations \n",
    "    \n",
    "    Returns:\n",
    "    parameters -- a dictionary containing W1, W2, b1, and b2\n",
    "    \"\"\"\n",
    "    \n",
    "    np.random.seed(1)\n",
    "    grads = {}\n",
    "    costs = []                              # to keep track of the cost\n",
    "    m = X.shape[1]                           # number of examples\n",
    "    (n_x, n_h, n_y) = layers_dims\n",
    "    \n",
    "    # Initialize parameters dictionary, by calling one of the functions you'd previously implemented\n",
    "    ### START CODE HERE ### (≈ 1 line of code)\n",
    "    parameters = initialize_parameters(n_x, n_h, n_y)\n",
    "    ### END CODE HERE ###\n",
    "    \n",
    "    # Get W1, b1, W2 and b2 from the dictionary parameters.\n",
    "    W1 = parameters[\"W1\"]\n",
    "    b1 = parameters[\"b1\"]\n",
    "    W2 = parameters[\"W2\"]\n",
    "    b2 = parameters[\"b2\"]\n",
    "    \n",
    "    # Loop (gradient descent)\n",
    "\n",
    "    for i in range(0, num_iterations):\n",
    "\n",
    "        # Forward propagation: LINEAR -> RELU -> LINEAR -> SIGMOID. Inputs: \"X, W1, b1\". Output: \"A1, cache1, A2, cache2\".\n",
    "        ### START CODE HERE ### (≈ 2 lines of code)\n",
    "        A1, cache1 = linear_activation_forward(X, W1, b1, \"relu\")\n",
    "        A2, cache2 = linear_activation_forward(A1, W2, b2, \"sigmoid\")\n",
    "        ### END CODE HERE ###\n",
    "        \n",
    "        # Compute cost\n",
    "        ### START CODE HERE ### (≈ 1 line of code)\n",
    "        cost = compute_cost(A2, Y)\n",
    "        ### END CODE HERE ###\n",
    "        \n",
    "        # Initializing backward propagation\n",
    "        dA2 = - (np.divide(Y, A2) - np.divide(1 - Y, 1 - A2))\n",
    "        \n",
    "        # Backward propagation. Inputs: \"dA2, cache2, cache1\". Outputs: \"dA1, dW2, db2; also dA0 (not used), dW1, db1\".\n",
    "        ### START CODE HERE ### (≈ 2 lines of code)\n",
    "        dA1, dW2, db2 = linear_activation_backward(dA2, cache2, \"sigmoid\")\n",
    "        dA0, dW1, db1 = linear_activation_backward(dA1, cache1, \"relu\")\n",
    "        ### END CODE HERE ###\n",
    "        \n",
    "        # Set grads['dWl'] to dW1, grads['db1'] to db1, grads['dW2'] to dW2, grads['db2'] to db2\n",
    "        grads['dW1'] = dW1\n",
    "        grads['db1'] = db1\n",
    "        grads['dW2'] = dW2\n",
    "        grads['db2'] = db2\n",
    "        \n",
    "        # Update parameters.\n",
    "        ### START CODE HERE ### (approx. 1 line of code)\n",
    "        parameters = update_parameters(parameters, grads, learning_rate)\n",
    "        ### END CODE HERE ###\n",
    "\n",
    "        # Retrieve W1, b1, W2, b2 from parameters\n",
    "        W1 = parameters[\"W1\"]\n",
    "        b1 = parameters[\"b1\"]\n",
    "        W2 = parameters[\"W2\"]\n",
    "        b2 = parameters[\"b2\"]\n",
    "        \n",
    "        # Print the cost every 100 training example\n",
    "        if print_cost and i % 100 == 0:\n",
    "            print(\"Cost after iteration {}: {}\".format(i, np.squeeze(cost)))\n",
    "        if print_cost and i % 100 == 0:\n",
    "            costs.append(cost)\n",
    "       \n",
    "    # plot the cost\n",
    "\n",
    "    plt.plot(np.squeeze(costs))\n",
    "    plt.ylabel('cost')\n",
    "    plt.xlabel('iterations (per tens)')\n",
    "    plt.title(\"Learning rate =\" + str(learning_rate))\n",
    "    plt.show()\n",
    "    \n",
    "    return parameters"
   ]
  },
  {
   "cell_type": "markdown",
   "metadata": {},
   "source": [
    "Run the cell below to train your parameters. See if your model runs. The cost should be decreasing. It may take up to 5 minutes to run 2500 iterations. Check if the \"Cost after iteration 0\" matches the expected output below, if not click on the square (⬛) on the upper bar of the notebook to stop the cell and try to find your error."
   ]
  },
  {
   "cell_type": "code",
   "execution_count": 41,
   "metadata": {
    "collapsed": false,
    "tags": []
   },
   "outputs": [
    {
     "output_type": "stream",
     "name": "stdout",
     "text": "Cost after iteration 0: 0.693049735659989\nCost after iteration 100: 0.6464320953428849\nCost after iteration 200: 0.6325140647912678\nCost after iteration 300: 0.6015024920354665\nCost after iteration 400: 0.5601966311605748\nCost after iteration 500: 0.5158304772764729\nCost after iteration 600: 0.47549013139433266\nCost after iteration 700: 0.433916315122575\nCost after iteration 800: 0.4007977536203885\nCost after iteration 900: 0.3580705011323798\nCost after iteration 1000: 0.33942815383664127\nCost after iteration 1100: 0.3052753636196266\nCost after iteration 1200: 0.2749137728213016\nCost after iteration 1300: 0.24681768210614854\nCost after iteration 1400: 0.19850735037466116\nCost after iteration 1500: 0.1744831811255664\nCost after iteration 1600: 0.1708076297809525\nCost after iteration 1700: 0.11306524562164766\nCost after iteration 1800: 0.09629426845937161\nCost after iteration 1900: 0.08342617959726863\nCost after iteration 2000: 0.07439078704319078\nCost after iteration 2100: 0.06630748132267929\nCost after iteration 2200: 0.059193295010381675\nCost after iteration 2300: 0.05336140348560555\nCost after iteration 2400: 0.04855478562877014\n"
    },
    {
     "output_type": "display_data",
     "data": {
      "text/plain": "<Figure size 360x288 with 1 Axes>",
      "image/svg+xml": "<?xml version=\"1.0\" encoding=\"utf-8\" standalone=\"no\"?>\n<!DOCTYPE svg PUBLIC \"-//W3C//DTD SVG 1.1//EN\"\n  \"http://www.w3.org/Graphics/SVG/1.1/DTD/svg11.dtd\">\n<!-- Created with matplotlib (https://matplotlib.org/) -->\n<svg height=\"277.314375pt\" version=\"1.1\" viewBox=\"0 0 334.230114 277.314375\" width=\"334.230114pt\" xmlns=\"http://www.w3.org/2000/svg\" xmlns:xlink=\"http://www.w3.org/1999/xlink\">\n <metadata>\n  <rdf:RDF xmlns:cc=\"http://creativecommons.org/ns#\" xmlns:dc=\"http://purl.org/dc/elements/1.1/\" xmlns:rdf=\"http://www.w3.org/1999/02/22-rdf-syntax-ns#\">\n   <cc:Work>\n    <dc:type rdf:resource=\"http://purl.org/dc/dcmitype/StillImage\"/>\n    <dc:date>2021-07-30T15:26:42.756682</dc:date>\n    <dc:format>image/svg+xml</dc:format>\n    <dc:creator>\n     <cc:Agent>\n      <dc:title>Matplotlib v3.3.3, https://matplotlib.org/</dc:title>\n     </cc:Agent>\n    </dc:creator>\n   </cc:Work>\n  </rdf:RDF>\n </metadata>\n <defs>\n  <style type=\"text/css\">*{stroke-linecap:butt;stroke-linejoin:round;}</style>\n </defs>\n <g id=\"figure_1\">\n  <g id=\"patch_1\">\n   <path d=\"M 0 277.314375 \nL 334.230114 277.314375 \nL 334.230114 0 \nL 0 0 \nz\n\" style=\"fill:none;\"/>\n  </g>\n  <g id=\"axes_1\">\n   <g id=\"patch_2\">\n    <path d=\"M 43.78125 239.758125 \nL 322.78125 239.758125 \nL 322.78125 22.318125 \nL 43.78125 22.318125 \nz\n\" style=\"fill:#ffffff;\"/>\n   </g>\n   <g id=\"matplotlib.axis_1\">\n    <g id=\"xtick_1\">\n     <g id=\"line2d_1\">\n      <defs>\n       <path d=\"M 0 0 \nL 0 3.5 \n\" id=\"m339ed3ca4d\" style=\"stroke:#000000;stroke-width:0.8;\"/>\n      </defs>\n      <g>\n       <use style=\"stroke:#000000;stroke-width:0.8;\" x=\"56.463068\" xlink:href=\"#m339ed3ca4d\" y=\"239.758125\"/>\n      </g>\n     </g>\n     <g id=\"text_1\">\n      <!-- 0 -->\n      <g transform=\"translate(53.281818 254.356562)scale(0.1 -0.1)\">\n       <defs>\n        <path d=\"M 31.78125 66.40625 \nQ 24.171875 66.40625 20.328125 58.90625 \nQ 16.5 51.421875 16.5 36.375 \nQ 16.5 21.390625 20.328125 13.890625 \nQ 24.171875 6.390625 31.78125 6.390625 \nQ 39.453125 6.390625 43.28125 13.890625 \nQ 47.125 21.390625 47.125 36.375 \nQ 47.125 51.421875 43.28125 58.90625 \nQ 39.453125 66.40625 31.78125 66.40625 \nz\nM 31.78125 74.21875 \nQ 44.046875 74.21875 50.515625 64.515625 \nQ 56.984375 54.828125 56.984375 36.375 \nQ 56.984375 17.96875 50.515625 8.265625 \nQ 44.046875 -1.421875 31.78125 -1.421875 \nQ 19.53125 -1.421875 13.0625 8.265625 \nQ 6.59375 17.96875 6.59375 36.375 \nQ 6.59375 54.828125 13.0625 64.515625 \nQ 19.53125 74.21875 31.78125 74.21875 \nz\n\" id=\"DejaVuSans-48\"/>\n       </defs>\n       <use xlink:href=\"#DejaVuSans-48\"/>\n      </g>\n     </g>\n    </g>\n    <g id=\"xtick_2\">\n     <g id=\"line2d_2\">\n      <g>\n       <use style=\"stroke:#000000;stroke-width:0.8;\" x=\"109.303977\" xlink:href=\"#m339ed3ca4d\" y=\"239.758125\"/>\n      </g>\n     </g>\n     <g id=\"text_2\">\n      <!-- 5 -->\n      <g transform=\"translate(106.122727 254.356562)scale(0.1 -0.1)\">\n       <defs>\n        <path d=\"M 10.796875 72.90625 \nL 49.515625 72.90625 \nL 49.515625 64.59375 \nL 19.828125 64.59375 \nL 19.828125 46.734375 \nQ 21.96875 47.46875 24.109375 47.828125 \nQ 26.265625 48.1875 28.421875 48.1875 \nQ 40.625 48.1875 47.75 41.5 \nQ 54.890625 34.8125 54.890625 23.390625 \nQ 54.890625 11.625 47.5625 5.09375 \nQ 40.234375 -1.421875 26.90625 -1.421875 \nQ 22.3125 -1.421875 17.546875 -0.640625 \nQ 12.796875 0.140625 7.71875 1.703125 \nL 7.71875 11.625 \nQ 12.109375 9.234375 16.796875 8.0625 \nQ 21.484375 6.890625 26.703125 6.890625 \nQ 35.15625 6.890625 40.078125 11.328125 \nQ 45.015625 15.765625 45.015625 23.390625 \nQ 45.015625 31 40.078125 35.4375 \nQ 35.15625 39.890625 26.703125 39.890625 \nQ 22.75 39.890625 18.8125 39.015625 \nQ 14.890625 38.140625 10.796875 36.28125 \nz\n\" id=\"DejaVuSans-53\"/>\n       </defs>\n       <use xlink:href=\"#DejaVuSans-53\"/>\n      </g>\n     </g>\n    </g>\n    <g id=\"xtick_3\">\n     <g id=\"line2d_3\">\n      <g>\n       <use style=\"stroke:#000000;stroke-width:0.8;\" x=\"162.144886\" xlink:href=\"#m339ed3ca4d\" y=\"239.758125\"/>\n      </g>\n     </g>\n     <g id=\"text_3\">\n      <!-- 10 -->\n      <g transform=\"translate(155.782386 254.356562)scale(0.1 -0.1)\">\n       <defs>\n        <path d=\"M 12.40625 8.296875 \nL 28.515625 8.296875 \nL 28.515625 63.921875 \nL 10.984375 60.40625 \nL 10.984375 69.390625 \nL 28.421875 72.90625 \nL 38.28125 72.90625 \nL 38.28125 8.296875 \nL 54.390625 8.296875 \nL 54.390625 0 \nL 12.40625 0 \nz\n\" id=\"DejaVuSans-49\"/>\n       </defs>\n       <use xlink:href=\"#DejaVuSans-49\"/>\n       <use x=\"63.623047\" xlink:href=\"#DejaVuSans-48\"/>\n      </g>\n     </g>\n    </g>\n    <g id=\"xtick_4\">\n     <g id=\"line2d_4\">\n      <g>\n       <use style=\"stroke:#000000;stroke-width:0.8;\" x=\"214.985795\" xlink:href=\"#m339ed3ca4d\" y=\"239.758125\"/>\n      </g>\n     </g>\n     <g id=\"text_4\">\n      <!-- 15 -->\n      <g transform=\"translate(208.623295 254.356562)scale(0.1 -0.1)\">\n       <use xlink:href=\"#DejaVuSans-49\"/>\n       <use x=\"63.623047\" xlink:href=\"#DejaVuSans-53\"/>\n      </g>\n     </g>\n    </g>\n    <g id=\"xtick_5\">\n     <g id=\"line2d_5\">\n      <g>\n       <use style=\"stroke:#000000;stroke-width:0.8;\" x=\"267.826705\" xlink:href=\"#m339ed3ca4d\" y=\"239.758125\"/>\n      </g>\n     </g>\n     <g id=\"text_5\">\n      <!-- 20 -->\n      <g transform=\"translate(261.464205 254.356562)scale(0.1 -0.1)\">\n       <defs>\n        <path d=\"M 19.1875 8.296875 \nL 53.609375 8.296875 \nL 53.609375 0 \nL 7.328125 0 \nL 7.328125 8.296875 \nQ 12.9375 14.109375 22.625 23.890625 \nQ 32.328125 33.6875 34.8125 36.53125 \nQ 39.546875 41.84375 41.421875 45.53125 \nQ 43.3125 49.21875 43.3125 52.78125 \nQ 43.3125 58.59375 39.234375 62.25 \nQ 35.15625 65.921875 28.609375 65.921875 \nQ 23.96875 65.921875 18.8125 64.3125 \nQ 13.671875 62.703125 7.8125 59.421875 \nL 7.8125 69.390625 \nQ 13.765625 71.78125 18.9375 73 \nQ 24.125 74.21875 28.421875 74.21875 \nQ 39.75 74.21875 46.484375 68.546875 \nQ 53.21875 62.890625 53.21875 53.421875 \nQ 53.21875 48.921875 51.53125 44.890625 \nQ 49.859375 40.875 45.40625 35.40625 \nQ 44.1875 33.984375 37.640625 27.21875 \nQ 31.109375 20.453125 19.1875 8.296875 \nz\n\" id=\"DejaVuSans-50\"/>\n       </defs>\n       <use xlink:href=\"#DejaVuSans-50\"/>\n       <use x=\"63.623047\" xlink:href=\"#DejaVuSans-48\"/>\n      </g>\n     </g>\n    </g>\n    <g id=\"xtick_6\">\n     <g id=\"line2d_6\">\n      <g>\n       <use style=\"stroke:#000000;stroke-width:0.8;\" x=\"320.667614\" xlink:href=\"#m339ed3ca4d\" y=\"239.758125\"/>\n      </g>\n     </g>\n     <g id=\"text_6\">\n      <!-- 25 -->\n      <g transform=\"translate(314.305114 254.356562)scale(0.1 -0.1)\">\n       <use xlink:href=\"#DejaVuSans-50\"/>\n       <use x=\"63.623047\" xlink:href=\"#DejaVuSans-53\"/>\n      </g>\n     </g>\n    </g>\n    <g id=\"text_7\">\n     <!-- iterations (per tens) -->\n     <g transform=\"translate(133.357812 268.034687)scale(0.1 -0.1)\">\n      <defs>\n       <path d=\"M 9.421875 54.6875 \nL 18.40625 54.6875 \nL 18.40625 0 \nL 9.421875 0 \nz\nM 9.421875 75.984375 \nL 18.40625 75.984375 \nL 18.40625 64.59375 \nL 9.421875 64.59375 \nz\n\" id=\"DejaVuSans-105\"/>\n       <path d=\"M 18.3125 70.21875 \nL 18.3125 54.6875 \nL 36.8125 54.6875 \nL 36.8125 47.703125 \nL 18.3125 47.703125 \nL 18.3125 18.015625 \nQ 18.3125 11.328125 20.140625 9.421875 \nQ 21.96875 7.515625 27.59375 7.515625 \nL 36.8125 7.515625 \nL 36.8125 0 \nL 27.59375 0 \nQ 17.1875 0 13.234375 3.875 \nQ 9.28125 7.765625 9.28125 18.015625 \nL 9.28125 47.703125 \nL 2.6875 47.703125 \nL 2.6875 54.6875 \nL 9.28125 54.6875 \nL 9.28125 70.21875 \nz\n\" id=\"DejaVuSans-116\"/>\n       <path d=\"M 56.203125 29.59375 \nL 56.203125 25.203125 \nL 14.890625 25.203125 \nQ 15.484375 15.921875 20.484375 11.0625 \nQ 25.484375 6.203125 34.421875 6.203125 \nQ 39.59375 6.203125 44.453125 7.46875 \nQ 49.3125 8.734375 54.109375 11.28125 \nL 54.109375 2.78125 \nQ 49.265625 0.734375 44.1875 -0.34375 \nQ 39.109375 -1.421875 33.890625 -1.421875 \nQ 20.796875 -1.421875 13.15625 6.1875 \nQ 5.515625 13.8125 5.515625 26.8125 \nQ 5.515625 40.234375 12.765625 48.109375 \nQ 20.015625 56 32.328125 56 \nQ 43.359375 56 49.78125 48.890625 \nQ 56.203125 41.796875 56.203125 29.59375 \nz\nM 47.21875 32.234375 \nQ 47.125 39.59375 43.09375 43.984375 \nQ 39.0625 48.390625 32.421875 48.390625 \nQ 24.90625 48.390625 20.390625 44.140625 \nQ 15.875 39.890625 15.1875 32.171875 \nz\n\" id=\"DejaVuSans-101\"/>\n       <path d=\"M 41.109375 46.296875 \nQ 39.59375 47.171875 37.8125 47.578125 \nQ 36.03125 48 33.890625 48 \nQ 26.265625 48 22.1875 43.046875 \nQ 18.109375 38.09375 18.109375 28.8125 \nL 18.109375 0 \nL 9.078125 0 \nL 9.078125 54.6875 \nL 18.109375 54.6875 \nL 18.109375 46.1875 \nQ 20.953125 51.171875 25.484375 53.578125 \nQ 30.03125 56 36.53125 56 \nQ 37.453125 56 38.578125 55.875 \nQ 39.703125 55.765625 41.0625 55.515625 \nz\n\" id=\"DejaVuSans-114\"/>\n       <path d=\"M 34.28125 27.484375 \nQ 23.390625 27.484375 19.1875 25 \nQ 14.984375 22.515625 14.984375 16.5 \nQ 14.984375 11.71875 18.140625 8.90625 \nQ 21.296875 6.109375 26.703125 6.109375 \nQ 34.1875 6.109375 38.703125 11.40625 \nQ 43.21875 16.703125 43.21875 25.484375 \nL 43.21875 27.484375 \nz\nM 52.203125 31.203125 \nL 52.203125 0 \nL 43.21875 0 \nL 43.21875 8.296875 \nQ 40.140625 3.328125 35.546875 0.953125 \nQ 30.953125 -1.421875 24.3125 -1.421875 \nQ 15.921875 -1.421875 10.953125 3.296875 \nQ 6 8.015625 6 15.921875 \nQ 6 25.140625 12.171875 29.828125 \nQ 18.359375 34.515625 30.609375 34.515625 \nL 43.21875 34.515625 \nL 43.21875 35.40625 \nQ 43.21875 41.609375 39.140625 45 \nQ 35.0625 48.390625 27.6875 48.390625 \nQ 23 48.390625 18.546875 47.265625 \nQ 14.109375 46.140625 10.015625 43.890625 \nL 10.015625 52.203125 \nQ 14.9375 54.109375 19.578125 55.046875 \nQ 24.21875 56 28.609375 56 \nQ 40.484375 56 46.34375 49.84375 \nQ 52.203125 43.703125 52.203125 31.203125 \nz\n\" id=\"DejaVuSans-97\"/>\n       <path d=\"M 30.609375 48.390625 \nQ 23.390625 48.390625 19.1875 42.75 \nQ 14.984375 37.109375 14.984375 27.296875 \nQ 14.984375 17.484375 19.15625 11.84375 \nQ 23.34375 6.203125 30.609375 6.203125 \nQ 37.796875 6.203125 41.984375 11.859375 \nQ 46.1875 17.53125 46.1875 27.296875 \nQ 46.1875 37.015625 41.984375 42.703125 \nQ 37.796875 48.390625 30.609375 48.390625 \nz\nM 30.609375 56 \nQ 42.328125 56 49.015625 48.375 \nQ 55.71875 40.765625 55.71875 27.296875 \nQ 55.71875 13.875 49.015625 6.21875 \nQ 42.328125 -1.421875 30.609375 -1.421875 \nQ 18.84375 -1.421875 12.171875 6.21875 \nQ 5.515625 13.875 5.515625 27.296875 \nQ 5.515625 40.765625 12.171875 48.375 \nQ 18.84375 56 30.609375 56 \nz\n\" id=\"DejaVuSans-111\"/>\n       <path d=\"M 54.890625 33.015625 \nL 54.890625 0 \nL 45.90625 0 \nL 45.90625 32.71875 \nQ 45.90625 40.484375 42.875 44.328125 \nQ 39.84375 48.1875 33.796875 48.1875 \nQ 26.515625 48.1875 22.3125 43.546875 \nQ 18.109375 38.921875 18.109375 30.90625 \nL 18.109375 0 \nL 9.078125 0 \nL 9.078125 54.6875 \nL 18.109375 54.6875 \nL 18.109375 46.1875 \nQ 21.34375 51.125 25.703125 53.5625 \nQ 30.078125 56 35.796875 56 \nQ 45.21875 56 50.046875 50.171875 \nQ 54.890625 44.34375 54.890625 33.015625 \nz\n\" id=\"DejaVuSans-110\"/>\n       <path d=\"M 44.28125 53.078125 \nL 44.28125 44.578125 \nQ 40.484375 46.53125 36.375 47.5 \nQ 32.28125 48.484375 27.875 48.484375 \nQ 21.1875 48.484375 17.84375 46.4375 \nQ 14.5 44.390625 14.5 40.28125 \nQ 14.5 37.15625 16.890625 35.375 \nQ 19.28125 33.59375 26.515625 31.984375 \nL 29.59375 31.296875 \nQ 39.15625 29.25 43.1875 25.515625 \nQ 47.21875 21.78125 47.21875 15.09375 \nQ 47.21875 7.46875 41.1875 3.015625 \nQ 35.15625 -1.421875 24.609375 -1.421875 \nQ 20.21875 -1.421875 15.453125 -0.5625 \nQ 10.6875 0.296875 5.421875 2 \nL 5.421875 11.28125 \nQ 10.40625 8.6875 15.234375 7.390625 \nQ 20.0625 6.109375 24.8125 6.109375 \nQ 31.15625 6.109375 34.5625 8.28125 \nQ 37.984375 10.453125 37.984375 14.40625 \nQ 37.984375 18.0625 35.515625 20.015625 \nQ 33.0625 21.96875 24.703125 23.78125 \nL 21.578125 24.515625 \nQ 13.234375 26.265625 9.515625 29.90625 \nQ 5.8125 33.546875 5.8125 39.890625 \nQ 5.8125 47.609375 11.28125 51.796875 \nQ 16.75 56 26.8125 56 \nQ 31.78125 56 36.171875 55.265625 \nQ 40.578125 54.546875 44.28125 53.078125 \nz\n\" id=\"DejaVuSans-115\"/>\n       <path id=\"DejaVuSans-32\"/>\n       <path d=\"M 31 75.875 \nQ 24.46875 64.65625 21.28125 53.65625 \nQ 18.109375 42.671875 18.109375 31.390625 \nQ 18.109375 20.125 21.3125 9.0625 \nQ 24.515625 -2 31 -13.1875 \nL 23.1875 -13.1875 \nQ 15.875 -1.703125 12.234375 9.375 \nQ 8.59375 20.453125 8.59375 31.390625 \nQ 8.59375 42.28125 12.203125 53.3125 \nQ 15.828125 64.359375 23.1875 75.875 \nz\n\" id=\"DejaVuSans-40\"/>\n       <path d=\"M 18.109375 8.203125 \nL 18.109375 -20.796875 \nL 9.078125 -20.796875 \nL 9.078125 54.6875 \nL 18.109375 54.6875 \nL 18.109375 46.390625 \nQ 20.953125 51.265625 25.265625 53.625 \nQ 29.59375 56 35.59375 56 \nQ 45.5625 56 51.78125 48.09375 \nQ 58.015625 40.1875 58.015625 27.296875 \nQ 58.015625 14.40625 51.78125 6.484375 \nQ 45.5625 -1.421875 35.59375 -1.421875 \nQ 29.59375 -1.421875 25.265625 0.953125 \nQ 20.953125 3.328125 18.109375 8.203125 \nz\nM 48.6875 27.296875 \nQ 48.6875 37.203125 44.609375 42.84375 \nQ 40.53125 48.484375 33.40625 48.484375 \nQ 26.265625 48.484375 22.1875 42.84375 \nQ 18.109375 37.203125 18.109375 27.296875 \nQ 18.109375 17.390625 22.1875 11.75 \nQ 26.265625 6.109375 33.40625 6.109375 \nQ 40.53125 6.109375 44.609375 11.75 \nQ 48.6875 17.390625 48.6875 27.296875 \nz\n\" id=\"DejaVuSans-112\"/>\n       <path d=\"M 8.015625 75.875 \nL 15.828125 75.875 \nQ 23.140625 64.359375 26.78125 53.3125 \nQ 30.421875 42.28125 30.421875 31.390625 \nQ 30.421875 20.453125 26.78125 9.375 \nQ 23.140625 -1.703125 15.828125 -13.1875 \nL 8.015625 -13.1875 \nQ 14.5 -2 17.703125 9.0625 \nQ 20.90625 20.125 20.90625 31.390625 \nQ 20.90625 42.671875 17.703125 53.65625 \nQ 14.5 64.65625 8.015625 75.875 \nz\n\" id=\"DejaVuSans-41\"/>\n      </defs>\n      <use xlink:href=\"#DejaVuSans-105\"/>\n      <use x=\"27.783203\" xlink:href=\"#DejaVuSans-116\"/>\n      <use x=\"66.992188\" xlink:href=\"#DejaVuSans-101\"/>\n      <use x=\"128.515625\" xlink:href=\"#DejaVuSans-114\"/>\n      <use x=\"169.628906\" xlink:href=\"#DejaVuSans-97\"/>\n      <use x=\"230.908203\" xlink:href=\"#DejaVuSans-116\"/>\n      <use x=\"270.117188\" xlink:href=\"#DejaVuSans-105\"/>\n      <use x=\"297.900391\" xlink:href=\"#DejaVuSans-111\"/>\n      <use x=\"359.082031\" xlink:href=\"#DejaVuSans-110\"/>\n      <use x=\"422.460938\" xlink:href=\"#DejaVuSans-115\"/>\n      <use x=\"474.560547\" xlink:href=\"#DejaVuSans-32\"/>\n      <use x=\"506.347656\" xlink:href=\"#DejaVuSans-40\"/>\n      <use x=\"545.361328\" xlink:href=\"#DejaVuSans-112\"/>\n      <use x=\"608.837891\" xlink:href=\"#DejaVuSans-101\"/>\n      <use x=\"670.361328\" xlink:href=\"#DejaVuSans-114\"/>\n      <use x=\"711.474609\" xlink:href=\"#DejaVuSans-32\"/>\n      <use x=\"743.261719\" xlink:href=\"#DejaVuSans-116\"/>\n      <use x=\"782.470703\" xlink:href=\"#DejaVuSans-101\"/>\n      <use x=\"843.994141\" xlink:href=\"#DejaVuSans-110\"/>\n      <use x=\"907.373047\" xlink:href=\"#DejaVuSans-115\"/>\n      <use x=\"959.472656\" xlink:href=\"#DejaVuSans-41\"/>\n     </g>\n    </g>\n   </g>\n   <g id=\"matplotlib.axis_2\">\n    <g id=\"ytick_1\">\n     <g id=\"line2d_7\">\n      <defs>\n       <path d=\"M 0 0 \nL -3.5 0 \n\" id=\"m5d3c11c611\" style=\"stroke:#000000;stroke-width:0.8;\"/>\n      </defs>\n      <g>\n       <use style=\"stroke:#000000;stroke-width:0.8;\" x=\"43.78125\" xlink:href=\"#m5d3c11c611\" y=\"214.095752\"/>\n      </g>\n     </g>\n     <g id=\"text_8\">\n      <!-- 0.1 -->\n      <g transform=\"translate(20.878125 217.894971)scale(0.1 -0.1)\">\n       <defs>\n        <path d=\"M 10.6875 12.40625 \nL 21 12.40625 \nL 21 0 \nL 10.6875 0 \nz\n\" id=\"DejaVuSans-46\"/>\n       </defs>\n       <use xlink:href=\"#DejaVuSans-48\"/>\n       <use x=\"63.623047\" xlink:href=\"#DejaVuSans-46\"/>\n       <use x=\"95.410156\" xlink:href=\"#DejaVuSans-49\"/>\n      </g>\n     </g>\n    </g>\n    <g id=\"ytick_2\">\n     <g id=\"line2d_8\">\n      <g>\n       <use style=\"stroke:#000000;stroke-width:0.8;\" x=\"43.78125\" xlink:href=\"#m5d3c11c611\" y=\"183.424802\"/>\n      </g>\n     </g>\n     <g id=\"text_9\">\n      <!-- 0.2 -->\n      <g transform=\"translate(20.878125 187.224021)scale(0.1 -0.1)\">\n       <use xlink:href=\"#DejaVuSans-48\"/>\n       <use x=\"63.623047\" xlink:href=\"#DejaVuSans-46\"/>\n       <use x=\"95.410156\" xlink:href=\"#DejaVuSans-50\"/>\n      </g>\n     </g>\n    </g>\n    <g id=\"ytick_3\">\n     <g id=\"line2d_9\">\n      <g>\n       <use style=\"stroke:#000000;stroke-width:0.8;\" x=\"43.78125\" xlink:href=\"#m5d3c11c611\" y=\"152.753851\"/>\n      </g>\n     </g>\n     <g id=\"text_10\">\n      <!-- 0.3 -->\n      <g transform=\"translate(20.878125 156.55307)scale(0.1 -0.1)\">\n       <defs>\n        <path d=\"M 40.578125 39.3125 \nQ 47.65625 37.796875 51.625 33 \nQ 55.609375 28.21875 55.609375 21.1875 \nQ 55.609375 10.40625 48.1875 4.484375 \nQ 40.765625 -1.421875 27.09375 -1.421875 \nQ 22.515625 -1.421875 17.65625 -0.515625 \nQ 12.796875 0.390625 7.625 2.203125 \nL 7.625 11.71875 \nQ 11.71875 9.328125 16.59375 8.109375 \nQ 21.484375 6.890625 26.8125 6.890625 \nQ 36.078125 6.890625 40.9375 10.546875 \nQ 45.796875 14.203125 45.796875 21.1875 \nQ 45.796875 27.640625 41.28125 31.265625 \nQ 36.765625 34.90625 28.71875 34.90625 \nL 20.21875 34.90625 \nL 20.21875 43.015625 \nL 29.109375 43.015625 \nQ 36.375 43.015625 40.234375 45.921875 \nQ 44.09375 48.828125 44.09375 54.296875 \nQ 44.09375 59.90625 40.109375 62.90625 \nQ 36.140625 65.921875 28.71875 65.921875 \nQ 24.65625 65.921875 20.015625 65.03125 \nQ 15.375 64.15625 9.8125 62.3125 \nL 9.8125 71.09375 \nQ 15.4375 72.65625 20.34375 73.4375 \nQ 25.25 74.21875 29.59375 74.21875 \nQ 40.828125 74.21875 47.359375 69.109375 \nQ 53.90625 64.015625 53.90625 55.328125 \nQ 53.90625 49.265625 50.4375 45.09375 \nQ 46.96875 40.921875 40.578125 39.3125 \nz\n\" id=\"DejaVuSans-51\"/>\n       </defs>\n       <use xlink:href=\"#DejaVuSans-48\"/>\n       <use x=\"63.623047\" xlink:href=\"#DejaVuSans-46\"/>\n       <use x=\"95.410156\" xlink:href=\"#DejaVuSans-51\"/>\n      </g>\n     </g>\n    </g>\n    <g id=\"ytick_4\">\n     <g id=\"line2d_10\">\n      <g>\n       <use style=\"stroke:#000000;stroke-width:0.8;\" x=\"43.78125\" xlink:href=\"#m5d3c11c611\" y=\"122.082901\"/>\n      </g>\n     </g>\n     <g id=\"text_11\">\n      <!-- 0.4 -->\n      <g transform=\"translate(20.878125 125.88212)scale(0.1 -0.1)\">\n       <defs>\n        <path d=\"M 37.796875 64.3125 \nL 12.890625 25.390625 \nL 37.796875 25.390625 \nz\nM 35.203125 72.90625 \nL 47.609375 72.90625 \nL 47.609375 25.390625 \nL 58.015625 25.390625 \nL 58.015625 17.1875 \nL 47.609375 17.1875 \nL 47.609375 0 \nL 37.796875 0 \nL 37.796875 17.1875 \nL 4.890625 17.1875 \nL 4.890625 26.703125 \nz\n\" id=\"DejaVuSans-52\"/>\n       </defs>\n       <use xlink:href=\"#DejaVuSans-48\"/>\n       <use x=\"63.623047\" xlink:href=\"#DejaVuSans-46\"/>\n       <use x=\"95.410156\" xlink:href=\"#DejaVuSans-52\"/>\n      </g>\n     </g>\n    </g>\n    <g id=\"ytick_5\">\n     <g id=\"line2d_11\">\n      <g>\n       <use style=\"stroke:#000000;stroke-width:0.8;\" x=\"43.78125\" xlink:href=\"#m5d3c11c611\" y=\"91.41195\"/>\n      </g>\n     </g>\n     <g id=\"text_12\">\n      <!-- 0.5 -->\n      <g transform=\"translate(20.878125 95.211169)scale(0.1 -0.1)\">\n       <use xlink:href=\"#DejaVuSans-48\"/>\n       <use x=\"63.623047\" xlink:href=\"#DejaVuSans-46\"/>\n       <use x=\"95.410156\" xlink:href=\"#DejaVuSans-53\"/>\n      </g>\n     </g>\n    </g>\n    <g id=\"ytick_6\">\n     <g id=\"line2d_12\">\n      <g>\n       <use style=\"stroke:#000000;stroke-width:0.8;\" x=\"43.78125\" xlink:href=\"#m5d3c11c611\" y=\"60.741\"/>\n      </g>\n     </g>\n     <g id=\"text_13\">\n      <!-- 0.6 -->\n      <g transform=\"translate(20.878125 64.540219)scale(0.1 -0.1)\">\n       <defs>\n        <path d=\"M 33.015625 40.375 \nQ 26.375 40.375 22.484375 35.828125 \nQ 18.609375 31.296875 18.609375 23.390625 \nQ 18.609375 15.53125 22.484375 10.953125 \nQ 26.375 6.390625 33.015625 6.390625 \nQ 39.65625 6.390625 43.53125 10.953125 \nQ 47.40625 15.53125 47.40625 23.390625 \nQ 47.40625 31.296875 43.53125 35.828125 \nQ 39.65625 40.375 33.015625 40.375 \nz\nM 52.59375 71.296875 \nL 52.59375 62.3125 \nQ 48.875 64.0625 45.09375 64.984375 \nQ 41.3125 65.921875 37.59375 65.921875 \nQ 27.828125 65.921875 22.671875 59.328125 \nQ 17.53125 52.734375 16.796875 39.40625 \nQ 19.671875 43.65625 24.015625 45.921875 \nQ 28.375 48.1875 33.59375 48.1875 \nQ 44.578125 48.1875 50.953125 41.515625 \nQ 57.328125 34.859375 57.328125 23.390625 \nQ 57.328125 12.15625 50.6875 5.359375 \nQ 44.046875 -1.421875 33.015625 -1.421875 \nQ 20.359375 -1.421875 13.671875 8.265625 \nQ 6.984375 17.96875 6.984375 36.375 \nQ 6.984375 53.65625 15.1875 63.9375 \nQ 23.390625 74.21875 37.203125 74.21875 \nQ 40.921875 74.21875 44.703125 73.484375 \nQ 48.484375 72.75 52.59375 71.296875 \nz\n\" id=\"DejaVuSans-54\"/>\n       </defs>\n       <use xlink:href=\"#DejaVuSans-48\"/>\n       <use x=\"63.623047\" xlink:href=\"#DejaVuSans-46\"/>\n       <use x=\"95.410156\" xlink:href=\"#DejaVuSans-54\"/>\n      </g>\n     </g>\n    </g>\n    <g id=\"ytick_7\">\n     <g id=\"line2d_13\">\n      <g>\n       <use style=\"stroke:#000000;stroke-width:0.8;\" x=\"43.78125\" xlink:href=\"#m5d3c11c611\" y=\"30.070049\"/>\n      </g>\n     </g>\n     <g id=\"text_14\">\n      <!-- 0.7 -->\n      <g transform=\"translate(20.878125 33.869268)scale(0.1 -0.1)\">\n       <defs>\n        <path d=\"M 8.203125 72.90625 \nL 55.078125 72.90625 \nL 55.078125 68.703125 \nL 28.609375 0 \nL 18.3125 0 \nL 43.21875 64.59375 \nL 8.203125 64.59375 \nz\n\" id=\"DejaVuSans-55\"/>\n       </defs>\n       <use xlink:href=\"#DejaVuSans-48\"/>\n       <use x=\"63.623047\" xlink:href=\"#DejaVuSans-46\"/>\n       <use x=\"95.410156\" xlink:href=\"#DejaVuSans-55\"/>\n      </g>\n     </g>\n    </g>\n    <g id=\"text_15\">\n     <!-- cost -->\n     <g transform=\"translate(14.798438 141.411562)rotate(-90)scale(0.1 -0.1)\">\n      <defs>\n       <path d=\"M 48.78125 52.59375 \nL 48.78125 44.1875 \nQ 44.96875 46.296875 41.140625 47.34375 \nQ 37.3125 48.390625 33.40625 48.390625 \nQ 24.65625 48.390625 19.8125 42.84375 \nQ 14.984375 37.3125 14.984375 27.296875 \nQ 14.984375 17.28125 19.8125 11.734375 \nQ 24.65625 6.203125 33.40625 6.203125 \nQ 37.3125 6.203125 41.140625 7.25 \nQ 44.96875 8.296875 48.78125 10.40625 \nL 48.78125 2.09375 \nQ 45.015625 0.34375 40.984375 -0.53125 \nQ 36.96875 -1.421875 32.421875 -1.421875 \nQ 20.0625 -1.421875 12.78125 6.34375 \nQ 5.515625 14.109375 5.515625 27.296875 \nQ 5.515625 40.671875 12.859375 48.328125 \nQ 20.21875 56 33.015625 56 \nQ 37.15625 56 41.109375 55.140625 \nQ 45.0625 54.296875 48.78125 52.59375 \nz\n\" id=\"DejaVuSans-99\"/>\n      </defs>\n      <use xlink:href=\"#DejaVuSans-99\"/>\n      <use x=\"54.980469\" xlink:href=\"#DejaVuSans-111\"/>\n      <use x=\"116.162109\" xlink:href=\"#DejaVuSans-115\"/>\n      <use x=\"168.261719\" xlink:href=\"#DejaVuSans-116\"/>\n     </g>\n    </g>\n   </g>\n   <g id=\"line2d_14\">\n    <path clip-path=\"url(#p933aa4883b)\" d=\"M 56.463068 32.201761 \nL 67.03125 46.499835 \nL 77.599432 50.768627 \nL 88.167614 60.280171 \nL 98.735795 72.949071 \nL 109.303977 86.556592 \nL 119.872159 98.92936 \nL 130.440341 111.680445 \nL 141.008523 121.838222 \nL 151.576705 134.943077 \nL 162.144886 140.660862 \nL 172.713068 151.135847 \nL 183.28125 160.448036 \nL 193.849432 169.065374 \nL 204.417614 183.882612 \nL 214.985795 191.251053 \nL 225.553977 192.378379 \nL 236.122159 210.088517 \nL 246.690341 215.232335 \nL 257.258523 219.179101 \nL 267.826705 221.950341 \nL 278.394886 224.429568 \nL 288.963068 226.611557 \nL 299.53125 228.400253 \nL 310.099432 229.874489 \n\" style=\"fill:none;stroke:#1f77b4;stroke-linecap:square;stroke-width:1.5;\"/>\n   </g>\n   <g id=\"patch_3\">\n    <path d=\"M 43.78125 239.758125 \nL 43.78125 22.318125 \n\" style=\"fill:none;stroke:#000000;stroke-linecap:square;stroke-linejoin:miter;stroke-width:0.8;\"/>\n   </g>\n   <g id=\"patch_4\">\n    <path d=\"M 322.78125 239.758125 \nL 322.78125 22.318125 \n\" style=\"fill:none;stroke:#000000;stroke-linecap:square;stroke-linejoin:miter;stroke-width:0.8;\"/>\n   </g>\n   <g id=\"patch_5\">\n    <path d=\"M 43.78125 239.758125 \nL 322.78125 239.758125 \n\" style=\"fill:none;stroke:#000000;stroke-linecap:square;stroke-linejoin:miter;stroke-width:0.8;\"/>\n   </g>\n   <g id=\"patch_6\">\n    <path d=\"M 43.78125 22.318125 \nL 322.78125 22.318125 \n\" style=\"fill:none;stroke:#000000;stroke-linecap:square;stroke-linejoin:miter;stroke-width:0.8;\"/>\n   </g>\n   <g id=\"text_16\">\n    <!-- Learning rate =0.0075 -->\n    <g transform=\"translate(115.208438 16.318125)scale(0.12 -0.12)\">\n     <defs>\n      <path d=\"M 9.8125 72.90625 \nL 19.671875 72.90625 \nL 19.671875 8.296875 \nL 55.171875 8.296875 \nL 55.171875 0 \nL 9.8125 0 \nz\n\" id=\"DejaVuSans-76\"/>\n      <path d=\"M 45.40625 27.984375 \nQ 45.40625 37.75 41.375 43.109375 \nQ 37.359375 48.484375 30.078125 48.484375 \nQ 22.859375 48.484375 18.828125 43.109375 \nQ 14.796875 37.75 14.796875 27.984375 \nQ 14.796875 18.265625 18.828125 12.890625 \nQ 22.859375 7.515625 30.078125 7.515625 \nQ 37.359375 7.515625 41.375 12.890625 \nQ 45.40625 18.265625 45.40625 27.984375 \nz\nM 54.390625 6.78125 \nQ 54.390625 -7.171875 48.1875 -13.984375 \nQ 42 -20.796875 29.203125 -20.796875 \nQ 24.46875 -20.796875 20.265625 -20.09375 \nQ 16.0625 -19.390625 12.109375 -17.921875 \nL 12.109375 -9.1875 \nQ 16.0625 -11.328125 19.921875 -12.34375 \nQ 23.78125 -13.375 27.78125 -13.375 \nQ 36.625 -13.375 41.015625 -8.765625 \nQ 45.40625 -4.15625 45.40625 5.171875 \nL 45.40625 9.625 \nQ 42.625 4.78125 38.28125 2.390625 \nQ 33.9375 0 27.875 0 \nQ 17.828125 0 11.671875 7.65625 \nQ 5.515625 15.328125 5.515625 27.984375 \nQ 5.515625 40.671875 11.671875 48.328125 \nQ 17.828125 56 27.875 56 \nQ 33.9375 56 38.28125 53.609375 \nQ 42.625 51.21875 45.40625 46.390625 \nL 45.40625 54.6875 \nL 54.390625 54.6875 \nz\n\" id=\"DejaVuSans-103\"/>\n      <path d=\"M 10.59375 45.40625 \nL 73.1875 45.40625 \nL 73.1875 37.203125 \nL 10.59375 37.203125 \nz\nM 10.59375 25.484375 \nL 73.1875 25.484375 \nL 73.1875 17.1875 \nL 10.59375 17.1875 \nz\n\" id=\"DejaVuSans-61\"/>\n     </defs>\n     <use xlink:href=\"#DejaVuSans-76\"/>\n     <use x=\"53.962891\" xlink:href=\"#DejaVuSans-101\"/>\n     <use x=\"115.486328\" xlink:href=\"#DejaVuSans-97\"/>\n     <use x=\"176.765625\" xlink:href=\"#DejaVuSans-114\"/>\n     <use x=\"216.128906\" xlink:href=\"#DejaVuSans-110\"/>\n     <use x=\"279.507812\" xlink:href=\"#DejaVuSans-105\"/>\n     <use x=\"307.291016\" xlink:href=\"#DejaVuSans-110\"/>\n     <use x=\"370.669922\" xlink:href=\"#DejaVuSans-103\"/>\n     <use x=\"434.146484\" xlink:href=\"#DejaVuSans-32\"/>\n     <use x=\"465.933594\" xlink:href=\"#DejaVuSans-114\"/>\n     <use x=\"507.046875\" xlink:href=\"#DejaVuSans-97\"/>\n     <use x=\"568.326172\" xlink:href=\"#DejaVuSans-116\"/>\n     <use x=\"607.535156\" xlink:href=\"#DejaVuSans-101\"/>\n     <use x=\"669.058594\" xlink:href=\"#DejaVuSans-32\"/>\n     <use x=\"700.845703\" xlink:href=\"#DejaVuSans-61\"/>\n     <use x=\"784.634766\" xlink:href=\"#DejaVuSans-48\"/>\n     <use x=\"848.257812\" xlink:href=\"#DejaVuSans-46\"/>\n     <use x=\"880.044922\" xlink:href=\"#DejaVuSans-48\"/>\n     <use x=\"943.667969\" xlink:href=\"#DejaVuSans-48\"/>\n     <use x=\"1007.291016\" xlink:href=\"#DejaVuSans-55\"/>\n     <use x=\"1070.914062\" xlink:href=\"#DejaVuSans-53\"/>\n    </g>\n   </g>\n  </g>\n </g>\n <defs>\n  <clipPath id=\"p933aa4883b\">\n   <rect height=\"217.44\" width=\"279\" x=\"43.78125\" y=\"22.318125\"/>\n  </clipPath>\n </defs>\n</svg>\n",
      "image/png": "[encoded data removed]"
     },
     "metadata": {
      "needs_background": "light"
     }
    }
   ],
   "source": [
    "parameters = two_layer_model(train_x, train_y, layers_dims = (n_x, n_h, n_y), num_iterations = 2500, print_cost=True)"
   ]
  },
  {
   "cell_type": "markdown",
   "metadata": {},
   "source": [
    "**Expected Output**:\n",
    "<table> \n",
    "    <tr>\n",
    "        <td> **Cost after iteration 0**</td>\n",
    "        <td> 0.6930497356599888 </td>\n",
    "    </tr>\n",
    "    <tr>\n",
    "        <td> **Cost after iteration 100**</td>\n",
    "        <td> 0.6464320953428849 </td>\n",
    "    </tr>\n",
    "    <tr>\n",
    "        <td> **...**</td>\n",
    "        <td> ... </td>\n",
    "    </tr>\n",
    "    <tr>\n",
    "        <td> **Cost after iteration 2400**</td>\n",
    "        <td> 0.048554785628770206 </td>\n",
    "    </tr>\n",
    "</table>"
   ]
  },
  {
   "cell_type": "markdown",
   "metadata": {},
   "source": [
    "Good thing you built a vectorized implementation! Otherwise it might have taken 10 times longer to train this.\n",
    "\n",
    "Now, you can use the trained parameters to classify images from the dataset. To see your predictions on the training and test sets, run the cell below."
   ]
  },
  {
   "cell_type": "code",
   "execution_count": 42,
   "metadata": {
    "collapsed": false,
    "tags": []
   },
   "outputs": [
    {
     "output_type": "stream",
     "name": "stdout",
     "text": "Accuracy: 0.9999999999999998\n"
    }
   ],
   "source": [
    "predictions_train = predict(train_x, train_y, parameters)"
   ]
  },
  {
   "cell_type": "markdown",
   "metadata": {},
   "source": [
    "**Expected Output**:\n",
    "<table> \n",
    "    <tr>\n",
    "        <td> **Accuracy**</td>\n",
    "        <td> 1.0 </td>\n",
    "    </tr>\n",
    "</table>"
   ]
  },
  {
   "cell_type": "code",
   "execution_count": 43,
   "metadata": {
    "collapsed": false,
    "scrolled": true,
    "tags": []
   },
   "outputs": [
    {
     "output_type": "stream",
     "name": "stdout",
     "text": "Accuracy: 0.72\n"
    }
   ],
   "source": [
    "predictions_test = predict(test_x, test_y, parameters)"
   ]
  },
  {
   "cell_type": "markdown",
   "metadata": {},
   "source": [
    "**Expected Output**:\n",
    "\n",
    "<table> \n",
    "    <tr>\n",
    "        <td> **Accuracy**</td>\n",
    "        <td> 0.72 </td>\n",
    "    </tr>\n",
    "</table>"
   ]
  },
  {
   "cell_type": "markdown",
   "metadata": {},
   "source": [
    "**Note**: You may notice that running the model on fewer iterations (say 1500) gives better accuracy on the test set. This is called \"early stopping\" and we will talk about it in the next course. Early stopping is a way to prevent overfitting. \n",
    "\n",
    "Congratulations! It seems that your 2-layer neural network has better performance (72%) than the logistic regression implementation (70%, assignment week 2). Let's see if you can do even better with an $L$-layer model."
   ]
  },
  {
   "cell_type": "markdown",
   "metadata": {},
   "source": [
    "## 5 - L-layer Neural Network\n",
    "\n",
    "**Question**: Use the helper functions you have implemented previously to build an $L$-layer neural network with the following structure: *[LINEAR -> RELU]$\\times$(L-1) -> LINEAR -> SIGMOID*. The functions you may need and their inputs are:\n",
    "```python\n",
    "def initialize_parameters_deep(layer_dims):\n",
    "    ...\n",
    "    return parameters \n",
    "def L_model_forward(X, parameters):\n",
    "    ...\n",
    "    return AL, caches\n",
    "def compute_cost(AL, Y):\n",
    "    ...\n",
    "    return cost\n",
    "def L_model_backward(AL, Y, caches):\n",
    "    ...\n",
    "    return grads\n",
    "def update_parameters(parameters, grads, learning_rate):\n",
    "    ...\n",
    "    return parameters\n",
    "```"
   ]
  },
  {
   "cell_type": "code",
   "execution_count": null,
   "metadata": {
    "collapsed": true
   },
   "outputs": [],
   "source": [
    "### CONSTANTS ###\n",
    "layers_dims = [12288, 20, 7, 5, 1] #  5-layer model"
   ]
  },
  {
   "cell_type": "code",
   "execution_count": null,
   "metadata": {
    "collapsed": false
   },
   "outputs": [],
   "source": [
    "# GRADED FUNCTION: n_layer_model\n",
    "\n",
    "def L_layer_model(X, Y, layers_dims, learning_rate=0.0075, num_iterations=3000, print_cost=False): #lr was 0.009\n",
    "    \"\"\"\n",
    "    Implements a L-layer neural network: [LINEAR->RELU]*(L-1)->LINEAR->SIGMOID.\n",
    "    \n",
    "    Arguments:\n",
    "    X -- data, numpy array of shape (number of examples, num_px * num_px * 3)\n",
    "    Y -- true \"label\" vector (containing 0 if cat, 1 if non-cat), of shape (1, number of examples)\n",
    "    layers_dims -- list containing the input size and each layer size, of length (number of layers + 1).\n",
    "    learning_rate -- learning rate of the gradient descent update rule\n",
    "    num_iterations -- number of iterations of the optimization loop\n",
    "    print_cost -- if True, it prints the cost every 100 steps\n",
    "    \n",
    "    Returns:\n",
    "    parameters -- parameters learnt by the model. They can then be used to predict.\n",
    "    \"\"\"\n",
    "\n",
    "    np.random.seed(1)\n",
    "    costs = []                         # keep track of cost\n",
    "    \n",
    "    # Parameters initialization.\n",
    "    ### START CODE HERE ###\n",
    "    parameters = initialize_parameters_deep(layers_dims)\n",
    "    ### END CODE HERE ###\n",
    "    \n",
    "    # Loop (gradient descent)\n",
    "    for i in range(0, num_iterations):\n",
    "\n",
    "        # Forward propagation: [LINEAR -> RELU]*(L-1) -> LINEAR -> SIGMOID.\n",
    "        ### START CODE HERE ### (≈ 1 line of code)\n",
    "        AL, caches = L_model_forward(X, parameters)\n",
    "        ### END CODE HERE ###\n",
    "        \n",
    "        # Compute cost.\n",
    "        ### START CODE HERE ### (≈ 1 line of code)\n",
    "        cost = compute_cost(AL, Y)\n",
    "        ### END CODE HERE ###\n",
    "    \n",
    "        # Backward propagation.\n",
    "        ### START CODE HERE ### (≈ 1 line of code)\n",
    "        grads = L_model_backward(AL, Y, caches)\n",
    "        ### END CODE HERE ###\n",
    " \n",
    "        # Update parameters.\n",
    "        ### START CODE HERE ### (≈ 1 line of code)\n",
    "        parameters = update_parameters(parameters, grads, learning_rate)\n",
    "        ### END CODE HERE ###\n",
    "                \n",
    "        # Print the cost every 100 training example\n",
    "        if print_cost and i % 100 == 0:\n",
    "            print (\"Cost after iteration %i: %f\" % (i, cost))\n",
    "        if print_cost and i % 100 == 0:\n",
    "            costs.append(cost)\n",
    "            \n",
    "    # plot the cost\n",
    "    plt.plot(np.squeeze(costs))\n",
    "    plt.ylabel('cost')\n",
    "    plt.xlabel('iterations (per tens)')\n",
    "    plt.title(\"Learning rate =\" + str(learning_rate))\n",
    "    plt.show()\n",
    "    \n",
    "    return parameters"
   ]
  },
  {
   "cell_type": "markdown",
   "metadata": {},
   "source": [
    "You will now train the model as a 5-layer neural network. \n",
    "\n",
    "Run the cell below to train your model. The cost should decrease on every iteration. It may take up to 5 minutes to run 2500 iterations. Check if the \"Cost after iteration 0\" matches the expected output below, if not click on the square (⬛) on the upper bar of the notebook to stop the cell and try to find your error."
   ]
  },
  {
   "cell_type": "code",
   "execution_count": null,
   "metadata": {
    "collapsed": false,
    "scrolled": false,
    "tags": []
   },
   "outputs": [],
   "source": [
    "parameters = L_layer_model(train_x, train_y, layers_dims, num_iterations=2500, print_cost=True)"
   ]
  },
  {
   "cell_type": "markdown",
   "metadata": {},
   "source": [
    "**Expected Output**:\n",
    "<table> \n",
    "    <tr>\n",
    "        <td> **Cost after iteration 0**</td>\n",
    "        <td> 0.771749 </td>\n",
    "    </tr>\n",
    "    <tr>\n",
    "        <td> **Cost after iteration 100**</td>\n",
    "        <td> 0.673350 </td>\n",
    "    </tr>\n",
    "    <tr>\n",
    "        <td> **...**</td>\n",
    "        <td> ... </td>\n",
    "    </tr>\n",
    "    <tr>\n",
    "        <td> **Cost after iteration 2400**</td>\n",
    "        <td> 0.082077 </td>\n",
    "    </tr>\n",
    "</table>"
   ]
  },
  {
   "cell_type": "code",
   "execution_count": null,
   "metadata": {
    "collapsed": false,
    "scrolled": true,
    "tags": []
   },
   "outputs": [],
   "source": [
    "pred_train = predict(train_x, train_y, parameters)"
   ]
  },
  {
   "cell_type": "markdown",
   "metadata": {},
   "source": [
    "<table>\n",
    "    <tr>\n",
    "    <td>\n",
    "    **Train Accuracy**\n",
    "    </td>\n",
    "    <td>\n",
    "    1.0\n",
    "    </td>\n",
    "    </tr>\n",
    "</table>"
   ]
  },
  {
   "cell_type": "code",
   "execution_count": null,
   "metadata": {
    "collapsed": false,
    "tags": []
   },
   "outputs": [],
   "source": [
    "pred_test = predict(test_x, test_y, parameters)"
   ]
  },
  {
   "cell_type": "markdown",
   "metadata": {},
   "source": [
    "**Expected Output**:\n",
    "\n",
    "<table> \n",
    "    <tr>\n",
    "        <td> **Test Accuracy**</td>\n",
    "        <td> 0.84 </td>\n",
    "    </tr>\n",
    "</table>"
   ]
  },
  {
   "cell_type": "markdown",
   "metadata": {},
   "source": [
    "Congrats! It seems that your 5-layer neural network has better performance (84%) than your 2-layer neural network (72%) on the same test set. \n",
    "\n",
    "This is good performance for this task. Nice job! \n",
    "\n",
    "Though in the next course on \"Improving deep neural networks\" you will learn how to obtain even higher accuracy by systematically searching for better hyperparameters (learning_rate, layers_dims, num_iterations, and others you'll also learn in the next course). "
   ]
  },
  {
   "cell_type": "markdown",
   "metadata": {},
   "source": [
    "##  6) Results Analysis\n",
    "\n",
    "First, let's take a look at some images the L-layer model labeled incorrectly. This will show a few mislabeled images. "
   ]
  },
  {
   "cell_type": "code",
   "execution_count": null,
   "metadata": {
    "collapsed": false,
    "scrolled": false
   },
   "outputs": [],
   "source": [
    "print_mislabeled_images(classes, test_x, test_y, pred_test)"
   ]
  },
  {
   "cell_type": "markdown",
   "metadata": {},
   "source": [
    "**A few type of images the model tends to do poorly on include:** \n",
    "- Cat body in an unusual position\n",
    "- Cat appears against a background of a similar color\n",
    "- Unusual cat color and species\n",
    "- Camera Angle\n",
    "- Brightness of the picture\n",
    "- Scale variation (cat is very large or small in image) "
   ]
  },
  {
   "cell_type": "markdown",
   "metadata": {},
   "source": [
    "## 7) Test with your own image (optional/ungraded exercise) ##\n",
    "\n",
    "Congratulations on finishing this assignment. You can use your own image and see the output of your model. To do that:\n",
    "    1. Click on \"File\" in the upper bar of this notebook, then click \"Open\" to go on your Coursera Hub.\n",
    "    2. Add your image to this Jupyter Notebook's directory, in the \"images\" folder\n",
    "    3. Change your image's name in the following code\n",
    "    4. Run the code and check if the algorithm is right (1 = cat, 0 = non-cat)!"
   ]
  },
  {
   "cell_type": "code",
   "execution_count": null,
   "metadata": {
    "collapsed": false,
    "scrolled": false
   },
   "outputs": [],
   "source": [
    "## START CODE HERE ##\n",
    "my_image = \"my_image.jpg\" # change this to the name of your image file \n",
    "my_label_y = [1] # the true class of your image (1 -> cat, 0 -> non-cat)\n",
    "## END CODE HERE ##\n",
    "\n",
    "fname = \"images/\" + my_image\n",
    "image = np.array(ndimage.imread(fname, flatten=False))\n",
    "my_image = scipy.misc.imresize(image, size=(num_px,num_px)).reshape((num_px*num_px*3,1))\n",
    "my_predicted_image = predict(my_image, my_label_y, parameters)\n",
    "\n",
    "plt.imshow(image)\n",
    "print (\"y = \" + str(np.squeeze(my_predicted_image)) + \", your L-layer model predicts a \\\"\" + classes[int(np.squeeze(my_predicted_image)),].decode(\"utf-8\") +  \"\\\" picture.\")"
   ]
  },
  {
   "cell_type": "markdown",
   "metadata": {},
   "source": [
    "**References**:\n",
    "\n",
    "- for auto-reloading external module: http://stackoverflow.com/questions/1907993/autoreload-of-modules-in-ipython"
   ]
  }
 ],
 "metadata": {
  "coursera": {
   "course_slug": "neural-networks-deep-learning",
   "graded_item_id": "TSPse",
   "launcher_item_id": "24mxX"
  },
  "kernelspec": {
   "display_name": "Python 3.7.7 64-bit ('.venv': venv)",
   "language": "python",
   "name": "python37764bitvenvvenv8825493528554129aa562e16b4229ece"
  },
  "language_info": {
   "codemirror_mode": {
    "name": "ipython",
    "version": 3
   },
   "file_extension": ".py",
   "mimetype": "text/x-python",
   "name": "python",
   "nbconvert_exporter": "python",
   "pygments_lexer": "ipython3",
   "version": "3.7.7-final"
  }
 },
 "nbformat": 4,
 "nbformat_minor": 2
}