{
  "cells": [
    {
      "cell_type": "markdown",
      "metadata": {
        "id": "mmgnkYqyBiCo"
      },
      "source": [
        "# TensorFlow Tutorial\n",
        "\n",
        "Welcome to this week's programming assignment! Up until now, you've always used Numpy to build neural networks, but this week you'll explore a deep learning framework that allows you to build neural networks more easily. Machine learning frameworks like TensorFlow, PaddlePaddle, Torch, Caffe, Keras, and many others can speed up your machine learning development significantly. TensorFlow 2.3 has made significant improvements over its predecessor, some of which you'll encounter and implement here!\n",
        "\n",
        "By the end of this assignment, you'll be able to do the following in TensorFlow 2.3:\n",
        "\n",
        "* Use `tf.Variable` to modify the state of a variable\n",
        "* Explain the difference between a variable and a constant\n",
        "* Apply TensorFlow decorators to speed up code\n",
        "* Train a Neural Network on a TensorFlow dataset\n",
        "\n",
        "Programming frameworks like TensorFlow not only cut down on time spent coding, but can also perform optimizations that speed up the code itself. \n",
        "\n",
        "## 1 - Exploring the Tensorflow Library\n",
        "\n",
        "To start, you will import the library:\n"
      ]
    },
    {
      "cell_type": "code",
      "execution_count": 28,
      "metadata": {
        "collapsed": true,
        "id": "aqJncdi7BiCq"
      },
      "outputs": [],
      "source": [
        "import math\n",
        "import numpy as np\n",
        "import h5py\n",
        "import matplotlib.pyplot as plt\n",
        "import tensorflow as tf\n",
        "from tensorflow.python.framework import ops\n",
        "from tf_utils import load_dataset, random_mini_batches, convert_to_one_hot, predict\n",
        "\n",
        "%matplotlib inline\n",
        "np.random.seed(1)"
      ]
    },
    {
      "cell_type": "markdown",
      "metadata": {
        "id": "IzE527x9BiCs"
      },
      "source": [
        "Now that you have imported the library, we will walk you through its different applications. You will start with an example, where we compute for you the loss of one training example. \n",
        "$$loss = \\mathcal{L}(\\hat{y}, y) = (\\hat y^{(i)} - y^{(i)})^2 \\tag{1}$$"
      ]
    },
    {
      "cell_type": "code",
      "execution_count": 29,
      "metadata": {
        "colab": {
          "base_uri": "https://localhost:8080/"
        },
        "id": "58MwLA4GBiCs",
        "outputId": "d75d6ce5-ce76-4bca-e3e0-1fd88c19f157"
      },
      "outputs": [
        {
          "name": "stdout",
          "output_type": "stream",
          "text": [
            "<tf.Variable 'loss:0' shape=() dtype=int32, numpy=9>\n"
          ]
        }
      ],
      "source": [
        "# tensorflow 2 running in eager mode by default\n",
        "\n",
        "y_hat = tf.constant(36, name='y_hat')            # Define y_hat constant. Set to 36.\n",
        "y = tf.constant(39, name='y')                    # Define y. Set to 39\n",
        "\n",
        "loss = tf.Variable((y - y_hat)**2, name='loss')  # Create a variable for the loss\n",
        "print(loss)"
      ]
    },
    {
      "cell_type": "markdown",
      "metadata": {
        "id": "1FIKlSUHBiCt"
      },
      "source": [
        "Writing and running programs in TensorFlow has the following steps:\n",
        "\n",
        "1. Create Tensors (variables). \n",
        "2. Write operations between those Tensors.\n",
        "\n",
        "Now let us look at an easy example. Run the cell below:"
      ]
    },
    {
      "cell_type": "code",
      "execution_count": 30,
      "metadata": {
        "colab": {
          "base_uri": "https://localhost:8080/"
        },
        "id": "5TbeuIafBiCt",
        "outputId": "992690ca-eafd-4636-b2e6-3f1d4c32e15a"
      },
      "outputs": [
        {
          "name": "stdout",
          "output_type": "stream",
          "text": [
            "tf.Tensor(20, shape=(), dtype=int32)\n"
          ]
        }
      ],
      "source": [
        "a = tf.constant(2)\n",
        "b = tf.constant(10)\n",
        "c = tf.multiply(a,b)\n",
        "print(c)"
      ]
    },
    {
      "cell_type": "markdown",
      "metadata": {
        "id": "vYcwWQ7HBiCv"
      },
      "source": [
        "`@tf.function`: constructs a callable that executes a TensorFlow graph (`tf.Graph`) created by trace-compiling the TensorFlow operations in `func`, effectively executing `func` as a TensorFlow graph."
      ]
    },
    {
      "cell_type": "code",
      "execution_count": 31,
      "metadata": {
        "colab": {
          "base_uri": "https://localhost:8080/"
        },
        "id": "qjG8V4k2BiCv",
        "outputId": "8a89ee95-22db-4887-8bb4-e9f8cd63aa7c"
      },
      "outputs": [
        {
          "name": "stdout",
          "output_type": "stream",
          "text": [
            "tf.Tensor(6, shape=(), dtype=int32)\n"
          ]
        }
      ],
      "source": [
        "@tf.function\n",
        "def double(x):\n",
        "    return 2 * x\n",
        "\n",
        "print(double(tf.constant(3)))"
      ]
    },
    {
      "cell_type": "markdown",
      "metadata": {
        "id": "EtYig1kdBiCv"
      },
      "source": [
        "The trace-compilation allows non-TensorFlow operations to execute, but under special conditions. In general, only TensorFlow operations are guaranteed to run and create fresh results whenever the GenericFunction is called. "
      ]
    },
    {
      "cell_type": "markdown",
      "metadata": {
        "id": "t0dQySWFBiCw"
      },
      "source": [
        "### 1.1 - Linear function\n",
        "\n",
        "Lets start this programming exercise by computing the following equation: $Y = WX + b$, where $W$ and $X$ are random matrices and b is a random vector. \n",
        "\n",
        "**Exercise**: Compute $WX + b$ where $W, X$, and $b$ are drawn from a random normal distribution. W is of shape (4, 3), X is (3,1) and b is (4,1). As an example, here is how you would define a constant X that has shape (3,1):\n",
        "```python\n",
        "X = tf.constant(np.random.randn(3,1), name = \"X\")\n",
        "\n",
        "```\n",
        "Note that the difference between `tf.constant` and `tf.Variable` is that you can modify the state of a `tf.Variable` but cannot change the state of a `tf.constant`.\n",
        "\n",
        "You might find the following functions helpful: \n",
        "- tf.matmul(..., ...) to do a matrix multiplication\n",
        "- tf.add(..., ...) to do an addition\n",
        "- np.random.randn(...) to initialize randomly\n"
      ]
    },
    {
      "cell_type": "code",
      "execution_count": 32,
      "metadata": {
        "collapsed": true,
        "id": "j1lwLjqzBiCw"
      },
      "outputs": [],
      "source": [
        "# GRADED FUNCTION: linear_function\n",
        "\n",
        "def linear_function():\n",
        "    \"\"\"\n",
        "    Implements a linear function: \n",
        "            Initializes W to be a random tensor of shape (4,3)\n",
        "            Initializes X to be a random tensor of shape (3,1)\n",
        "            Initializes b to be a random tensor of shape (4,1)\n",
        "    Returns: \n",
        "    result -- runs the session for Y = WX + b \n",
        "    \"\"\"\n",
        "    \n",
        "    np.random.seed(1)\n",
        "    \n",
        "    ### START CODE HERE ### (4 lines of code)\n",
        "    X = tf.constant(np.random.randn(3, 1), name=\"X\")\n",
        "    W = tf.constant(np.random.randn(4, 3), name=\"W\")\n",
        "    b = tf.constant(np.random.randn(4, 1), name=\"b\")\n",
        "    Y = tf.add(tf.matmul(W, X), b, name=\"Y\")\n",
        "    ### END CODE HERE ### \n",
        "\n",
        "    return Y"
      ]
    },
    {
      "cell_type": "code",
      "execution_count": 33,
      "metadata": {
        "colab": {
          "base_uri": "https://localhost:8080/"
        },
        "id": "TMLkyiRmBiCx",
        "outputId": "fe366318-c182-4e5e-e3d8-8ed1470b6aa4"
      },
      "outputs": [
        {
          "name": "stdout",
          "output_type": "stream",
          "text": [
            "result = tf.Tensor(\n",
            "[[-2.15657382]\n",
            " [ 2.95891446]\n",
            " [-1.08926781]\n",
            " [-0.84538042]], shape=(4, 1), dtype=float64)\n"
          ]
        }
      ],
      "source": [
        "print( \"result = \" + str(linear_function()))"
      ]
    },
    {
      "cell_type": "markdown",
      "metadata": {
        "id": "GjUBUxYuBiCx"
      },
      "source": [
        "*** Expected Output ***: \n",
        "\n",
        "<table> \n",
        "<tr> \n",
        "<td>\n",
        "**result**\n",
        "</td>\n",
        "<td>\n",
        "[[-2.15657382]\n",
        " [ 2.95891446]\n",
        " [-1.08926781]\n",
        " [-0.84538042]]\n",
        "</td>\n",
        "</tr> \n",
        "\n",
        "</table> "
      ]
    },
    {
      "cell_type": "markdown",
      "metadata": {
        "id": "vGOo0-LpBiCy"
      },
      "source": [
        "### 1.2 - Computing the sigmoid \n",
        "Great! You just implemented a linear function. Tensorflow offers a variety of commonly used neural network functions like `tf.sigmoid` and `tf.softmax`. For this exercise lets compute the sigmoid function of an input. "
      ]
    },
    {
      "cell_type": "code",
      "execution_count": 34,
      "metadata": {
        "id": "tfMy6UIFBiCy"
      },
      "outputs": [],
      "source": [
        "# GRADED FUNCTION: sigmoid\n",
        "\n",
        "def sigmoid(z):\n",
        "    \"\"\"\n",
        "    Computes the sigmoid of z\n",
        "    \n",
        "    Arguments:\n",
        "    z -- input value, scalar or vector\n",
        "    \n",
        "    Returns: \n",
        "    results -- the sigmoid of z\n",
        "    \"\"\"\n",
        "    \n",
        "    ### START CODE HERE ###\n",
        "    x = tf.constant(z, tf.float32, name=\"x\")\n",
        "    # compute sigmoid(x)\n",
        "    sigmoid = tf.sigmoid(x)\n",
        "    ### END CODE HERE ###\n",
        "    \n",
        "    return sigmoid"
      ]
    },
    {
      "cell_type": "code",
      "execution_count": 35,
      "metadata": {
        "colab": {
          "base_uri": "https://localhost:8080/"
        },
        "id": "062uclDEBiCz",
        "outputId": "1c7805b0-156c-477a-c0c7-1d0850699d60"
      },
      "outputs": [
        {
          "name": "stdout",
          "output_type": "stream",
          "text": [
            "sigmoid(0) = tf.Tensor(0.5, shape=(), dtype=float32)\n",
            "sigmoid(12) = tf.Tensor(0.9999939, shape=(), dtype=float32)\n"
          ]
        }
      ],
      "source": [
        "print (\"sigmoid(0) = \" + str(sigmoid(0)))\n",
        "print (\"sigmoid(12) = \" + str(sigmoid(12)))"
      ]
    },
    {
      "cell_type": "markdown",
      "metadata": {
        "id": "afpUFfSkBiCz"
      },
      "source": [
        "*** Expected Output ***: \n",
        "\n",
        "<table> \n",
        "<tr> \n",
        "<td>\n",
        "**sigmoid(0)**\n",
        "</td>\n",
        "<td>\n",
        "0.5\n",
        "</td>\n",
        "</tr>\n",
        "<tr> \n",
        "<td>\n",
        "**sigmoid(12)**\n",
        "</td>\n",
        "<td>\n",
        "0.999994\n",
        "</td>\n",
        "</tr> \n",
        "\n",
        "</table> "
      ]
    },
    {
      "cell_type": "markdown",
      "metadata": {
        "id": "LZaZCJz4BiC0"
      },
      "source": [
        "### 1.3 -  Computing the Cost\n",
        "\n",
        "You can also use a built-in function to compute the cost of your neural network. So instead of needing to write code to compute this as a function of $a^{[2](i)}$ and $y^{(i)}$ for i=1...m: \n",
        "$$ J = - \\frac{1}{m}  \\sum_{i = 1}^m  \\large ( \\small y^{(i)} \\log a^{ [2] (i)} + (1-y^{(i)})\\log (1-a^{ [2] (i)} )\\large )\\small\\tag{2}$$\n",
        "\n",
        "you can do it in one line of code in tensorflow!\n",
        "\n",
        "**Exercise**: Implement the cross entropy loss. The function you will use is: \n",
        "\n",
        "\n",
        "- `tf.nn.sigmoid_cross_entropy_with_logits(logits = ...,  labels = ...)`\n",
        "\n",
        "Your code should input `z`, compute the sigmoid (to get `a`) and then compute the cross entropy cost $J$. All this can be done using one call to `tf.nn.sigmoid_cross_entropy_with_logits`, which computes\n",
        "\n",
        "$$- \\frac{1}{m}  \\sum_{i = 1}^m  \\large ( \\small y^{(i)} \\log \\sigma(z^{[2](i)}) + (1-y^{(i)})\\log (1-\\sigma(z^{[2](i)})\\large )\\small\\tag{2}$$\n",
        "\n"
      ]
    },
    {
      "cell_type": "code",
      "execution_count": 36,
      "metadata": {
        "id": "O0H0gDYMBiC0"
      },
      "outputs": [],
      "source": [
        "# GRADED FUNCTION: cost\n",
        "\n",
        "def cost(logits, labels):\n",
        "    \"\"\"\n",
        "    Computes the cost using the sigmoid cross entropy\n",
        "    \n",
        "    Arguments:\n",
        "    logits -- vector containing z, output of the last linear unit (before the final sigmoid activation)\n",
        "    labels -- vector of labels y (1 or 0) \n",
        "    \n",
        "    Note: What we've been calling \"z\" and \"y\" in this class are respectively called \"logits\" and \"labels\" \n",
        "    in the TensorFlow documentation. So logits will feed into z, and labels into y. \n",
        "    \n",
        "    Returns:\n",
        "    cost -- runs the session of the cost (formula (2))\n",
        "    \"\"\"\n",
        "    \n",
        "    ### START CODE HERE ### \n",
        "    z = tf.constant(logits, tf.float32, name=\"z\")\n",
        "    y = tf.constant(labels, tf.float32, name=\"y\")\n",
        "    # Use the loss function (approx. 1 line)\n",
        "    cost = tf.nn.sigmoid_cross_entropy_with_logits(logits=z, labels=y)\n",
        "    ### END CODE HERE ###\n",
        "    \n",
        "    return cost"
      ]
    },
    {
      "cell_type": "code",
      "execution_count": 37,
      "metadata": {
        "colab": {
          "base_uri": "https://localhost:8080/"
        },
        "id": "CEv4ioyGBiC2",
        "outputId": "9658ae0f-9758-4522-afb2-b3faef2a3421"
      },
      "outputs": [
        {
          "name": "stdout",
          "output_type": "stream",
          "text": [
            "cost = tf.Tensor([1.0053872  1.0366409  0.41385433 0.39956614], shape=(4,), dtype=float32)\n"
          ]
        }
      ],
      "source": [
        "logits = sigmoid(np.array([0.2, 0.4, 0.7, 0.9]))\n",
        "cost = cost(logits, np.array([0, 0, 1, 1]))\n",
        "print (\"cost = \" + str(cost))"
      ]
    },
    {
      "cell_type": "markdown",
      "metadata": {
        "id": "GpW9WPLEBiC2"
      },
      "source": [
        "** Expected Output** : \n",
        "\n",
        "<table> \n",
        "    <tr> \n",
        "        <td>\n",
        "            **cost**\n",
        "        </td>\n",
        "        <td>\n",
        "        [ 1.00538719  1.03664088  0.41385433  0.39956614]\n",
        "        </td>\n",
        "    </tr>\n",
        "\n",
        "</table>"
      ]
    },
    {
      "cell_type": "markdown",
      "metadata": {
        "id": "vTDcqsqRBiC3"
      },
      "source": [
        "### 1.4 - Using One Hot encodings\n",
        "\n",
        "Many times in deep learning you will have a y vector with numbers ranging from 0 to C-1, where C is the number of classes. If C is for example 4, then you might have the following y vector which you will need to convert as follows:\n",
        "\n",
        "\n",
        "<img src=\"https://github.com/chtunsw/ml_notes/blob/master/dl_course/exercises/02%20Improving%20Deep%20Neural%20Networks%20Hyperparameter%20tuning%2C%20Regularization%20and%20Optimization/05/images/onehot.png?raw=1\" style=\"width:600px;height:150px;\">\n",
        "\n",
        "This is called a \"one hot\" encoding, because in the converted representation exactly one element of each column is \"hot\" (meaning set to 1). To do this conversion in numpy, you might have to write a few lines of code. In tensorflow, you can use one line of code: \n",
        "\n",
        "- tf.one_hot(labels, depth, axis) \n",
        "\n",
        "**Exercise:** Implement the function below to take one vector of labels and the total number of classes $C$, and return the one hot encoding. Use `tf.one_hot()` to do this. "
      ]
    },
    {
      "cell_type": "code",
      "execution_count": 38,
      "metadata": {
        "collapsed": true,
        "id": "ZpsgaqqqBiC3"
      },
      "outputs": [],
      "source": [
        "# GRADED FUNCTION: one_hot_matrix\n",
        "\n",
        "def one_hot_matrix(labels, C):\n",
        "    \"\"\"\n",
        "    Creates a matrix where the i-th row corresponds to the ith class number and the jth column\n",
        "                     corresponds to the jth training example. So if example j had a label i. Then entry (i,j) \n",
        "                     will be 1. \n",
        "                     \n",
        "    Arguments:\n",
        "    labels -- vector containing the labels \n",
        "    C -- number of classes, the depth of the one hot dimension\n",
        "    \n",
        "    Returns: \n",
        "    one_hot -- one hot matrix\n",
        "    \"\"\"\n",
        "    \n",
        "    ### START CODE HERE ###\n",
        "    \n",
        "    # Create a tf.constant equal to C (depth), name it 'C'. (approx. 1 line)\n",
        "    C = tf.constant(C, name='C')\n",
        "    \n",
        "    # Use tf.one_hot, be careful with the axis (approx. 1 line)\n",
        "    one_hot_matrix = tf.one_hot(indices=labels, depth=C, axis=0)\n",
        "    ### END CODE HERE ###\n",
        "    \n",
        "    return one_hot_matrix"
      ]
    },
    {
      "cell_type": "code",
      "execution_count": 39,
      "metadata": {
        "colab": {
          "base_uri": "https://localhost:8080/"
        },
        "id": "wZzQkFLNBiC4",
        "outputId": "8ed34887-fae4-4f9d-bd88-a7a31c8439cb"
      },
      "outputs": [
        {
          "name": "stdout",
          "output_type": "stream",
          "text": [
            "one_hot = tf.Tensor(\n",
            "[[0. 0. 0. 1. 0. 0.]\n",
            " [1. 0. 0. 0. 0. 1.]\n",
            " [0. 1. 0. 0. 1. 0.]\n",
            " [0. 0. 1. 0. 0. 0.]], shape=(4, 6), dtype=float32)\n"
          ]
        }
      ],
      "source": [
        "labels = np.array([1,2,3,0,2,1])\n",
        "one_hot = one_hot_matrix(labels, C=4)\n",
        "print (\"one_hot = \" + str(one_hot))"
      ]
    },
    {
      "cell_type": "markdown",
      "metadata": {
        "id": "ZtsabsJaBiC5"
      },
      "source": [
        "**Expected Output**: \n",
        "\n",
        "<table> \n",
        "    <tr> \n",
        "        <td>\n",
        "            **one_hot**\n",
        "        </td>\n",
        "        <td>\n",
        "        [[ 0.  0.  0.  1.  0.  0.]\n",
        " [ 1.  0.  0.  0.  0.  1.]\n",
        " [ 0.  1.  0.  0.  1.  0.]\n",
        " [ 0.  0.  1.  0.  0.  0.]]\n",
        "        </td>\n",
        "    </tr>\n",
        "\n",
        "</table>\n"
      ]
    },
    {
      "cell_type": "markdown",
      "metadata": {
        "id": "tW4kOreQBiC5"
      },
      "source": [
        "### 1.5 - Initialize with zeros and ones\n",
        "\n",
        "Now you will learn how to initialize a vector of zeros and ones. The function you will be calling is `tf.ones()`. To initialize with zeros you could use tf.zeros() instead. These functions take in a shape and return an array of dimension shape full of zeros and ones respectively. \n",
        "\n",
        "**Exercise:** Implement the function below to take in a shape and to return an array (of the shape's dimension of ones). \n",
        "\n",
        " - tf.ones(shape)\n"
      ]
    },
    {
      "cell_type": "code",
      "execution_count": 40,
      "metadata": {
        "collapsed": true,
        "id": "N0dbycghBiC5"
      },
      "outputs": [],
      "source": [
        "# GRADED FUNCTION: ones\n",
        "\n",
        "def ones(shape):\n",
        "    \"\"\"\n",
        "    Creates an array of ones of dimension shape\n",
        "    \n",
        "    Arguments:\n",
        "    shape -- shape of the array you want to create\n",
        "        \n",
        "    Returns: \n",
        "    ones -- array containing only ones\n",
        "    \"\"\"\n",
        "    \n",
        "    ### START CODE HERE ###\n",
        "    # Create \"ones\" tensor using tf.ones(...). (approx. 1 line)\n",
        "    ones = tf.ones(shape)\n",
        "    ### END CODE HERE ###\n",
        "    return ones"
      ]
    },
    {
      "cell_type": "code",
      "execution_count": 41,
      "metadata": {
        "colab": {
          "base_uri": "https://localhost:8080/"
        },
        "id": "hPkHasK2BiC6",
        "outputId": "dbb99ee6-009a-4ca7-e79b-7107bb91037d"
      },
      "outputs": [
        {
          "name": "stdout",
          "output_type": "stream",
          "text": [
            "ones = tf.Tensor([1. 1. 1.], shape=(3,), dtype=float32)\n"
          ]
        }
      ],
      "source": [
        "print (\"ones = \" + str(ones([3])))"
      ]
    },
    {
      "cell_type": "markdown",
      "metadata": {
        "id": "LqneqiFkBiC7"
      },
      "source": [
        "**Expected Output:**\n",
        "\n",
        "<table> \n",
        "    <tr> \n",
        "        <td>\n",
        "            **ones**\n",
        "        </td>\n",
        "        <td>\n",
        "        [ 1.  1.  1.]\n",
        "        </td>\n",
        "    </tr>\n",
        "\n",
        "</table>"
      ]
    },
    {
      "cell_type": "markdown",
      "metadata": {
        "id": "7wydPRPMBiC7"
      },
      "source": [
        "# 2 - Building your first neural network in tensorflow\n",
        "\n",
        "In this part of the assignment you will build a neural network using tensorflow.\n",
        "\n",
        "### 2.1 - Problem statement: SIGNS Dataset\n",
        "\n",
        "One afternoon, with some friends we decided to teach our computers to decipher sign language. We spent a few hours taking pictures in front of a white wall and came up with the following dataset. It's now your job to build an algorithm that would facilitate communications from a speech-impaired person to someone who doesn't understand sign language.\n",
        "\n",
        "- **Training set**: 1080 pictures (64 by 64 pixels) of signs representing numbers from 0 to 5 (180 pictures per number).\n",
        "- **Test set**: 120 pictures (64 by 64 pixels) of signs representing numbers from 0 to 5 (20 pictures per number).\n",
        "\n",
        "Note that this is a subset of the SIGNS dataset. The complete dataset contains many more signs.\n",
        "\n",
        "Here are examples for each number, and how an explanation of how we represent the labels. These are the original pictures, before we lowered the image resolutoion to 64 by 64 pixels.\n",
        "<img src=\"https://github.com/chtunsw/ml_notes/blob/master/dl_course/exercises/02%20Improving%20Deep%20Neural%20Networks%20Hyperparameter%20tuning%2C%20Regularization%20and%20Optimization/05/images/hands.png?raw=1\" style=\"width:800px;height:350px;\"><caption><center> <u><font color='purple'> **Figure 1**</u><font color='purple'>: SIGNS dataset <br> <font color='black'> </center>\n",
        "\n",
        "\n",
        "Run the following code to load the dataset."
      ]
    },
    {
      "cell_type": "code",
      "execution_count": 42,
      "metadata": {
        "collapsed": true,
        "id": "FVX1DB6EBiC7"
      },
      "outputs": [],
      "source": [
        "# Loading the dataset\n",
        "X_train_orig, Y_train_orig, X_test_orig, Y_test_orig, classes = load_dataset()"
      ]
    },
    {
      "cell_type": "markdown",
      "metadata": {
        "id": "eNN-uYisBiC7"
      },
      "source": [
        "Change the index below and run the cell to visualize some examples in the dataset."
      ]
    },
    {
      "cell_type": "code",
      "execution_count": 43,
      "metadata": {
        "colab": {
          "base_uri": "https://localhost:8080/",
          "height": 285
        },
        "id": "EFJkE4U2BiC8",
        "outputId": "cc560833-f226-4cc7-a331-dc6006af9592"
      },
      "outputs": [
        {
          "name": "stdout",
          "output_type": "stream",
          "text": [
            "y = 5\n"
          ]
        },
        {
          "data": {
            "image/png": "[encoded data removed]",
            "text/plain": [
              "<Figure size 432x288 with 1 Axes>"
            ]
          },
          "metadata": {
            "needs_background": "light"
          },
          "output_type": "display_data"
        }
      ],
      "source": [
        "# Example of a picture\n",
        "index = 0\n",
        "plt.imshow(X_train_orig[index])\n",
        "print (\"y = \" + str(np.squeeze(Y_train_orig[:, index])))"
      ]
    },
    {
      "cell_type": "markdown",
      "metadata": {
        "id": "OjSTDcanBiC8"
      },
      "source": [
        "As usual you flatten the image dataset, then normalize it by dividing by 255. On top of that, you will convert each label to a one-hot vector as shown in Figure 1. Run the cell below to do so."
      ]
    },
    {
      "cell_type": "code",
      "execution_count": 44,
      "metadata": {
        "colab": {
          "base_uri": "https://localhost:8080/"
        },
        "id": "gwdrvM_ABiC8",
        "outputId": "212ac958-8538-46f6-e886-a8a871659d27"
      },
      "outputs": [
        {
          "name": "stdout",
          "output_type": "stream",
          "text": [
            "number of training examples = 1080\n",
            "number of test examples = 120\n",
            "X_train shape: (12288, 1080)\n",
            "Y_train shape: (6, 1080)\n",
            "X_test shape: (12288, 120)\n",
            "Y_test shape: (6, 120)\n"
          ]
        }
      ],
      "source": [
        "# Flatten the training and test images\n",
        "X_train_flatten = X_train_orig.reshape(X_train_orig.shape[0], -1).T\n",
        "X_test_flatten = X_test_orig.reshape(X_test_orig.shape[0], -1).T\n",
        "# Normalize image vectors\n",
        "X_train = X_train_flatten / 255.\n",
        "X_test = X_test_flatten / 255.\n",
        "# Convert training and test labels to one hot matrices\n",
        "Y_train = convert_to_one_hot(Y_train_orig, 6)\n",
        "Y_test = convert_to_one_hot(Y_test_orig, 6)\n",
        "\n",
        "print(\"number of training examples = \" + str(X_train.shape[1]))\n",
        "print(\"number of test examples = \" + str(X_test.shape[1]))\n",
        "print(\"X_train shape: \" + str(X_train.shape))\n",
        "print(\"Y_train shape: \" + str(Y_train.shape))\n",
        "print(\"X_test shape: \" + str(X_test.shape))\n",
        "print(\"Y_test shape: \" + str(Y_test.shape))"
      ]
    },
    {
      "cell_type": "markdown",
      "metadata": {
        "id": "rqWnGkBHBiC9"
      },
      "source": [
        "**Note** that 12288 comes from $64 \\times 64 \\times 3$. Each image is square, 64 by 64 pixels, and 3 is for the RGB colors. Please make sure all these shapes make sense to you before continuing."
      ]
    },
    {
      "cell_type": "markdown",
      "metadata": {
        "id": "bNUglZmKBiC9"
      },
      "source": [
        "**Your goal** is to build an algorithm capable of recognizing a sign with high accuracy. To do so, you are going to build a tensorflow model that is almost the same as one you have previously built in numpy for cat recognition (but now using a softmax output). It is a great occasion to compare your numpy implementation to the tensorflow one. \n",
        "\n",
        "**The model** is *LINEAR -> RELU -> LINEAR -> RELU -> LINEAR -> SOFTMAX*. The SIGMOID output layer has been converted to a SOFTMAX. A SOFTMAX layer generalizes SIGMOID to when there are more than two classes. "
      ]
    },
    {
      "cell_type": "markdown",
      "metadata": {
        "id": "Se3S2n41BiC-"
      },
      "source": [
        "### 2.2 - Initializing the parameters\n",
        "\n",
        "Your second task is to initialize the parameters in tensorflow.\n",
        "\n",
        "**Exercise:** Implement the function below to initialize the parameters in tensorflow. You are going use Glorot Uniform Initialization for weights and Zero Initialization for biases. The shapes are given below. As an example, to help you, for W1 and b1 you could use: \n",
        "\n",
        "```python\n",
        "W1 = tf.Variable(tf.initializers.glorot_uniform()((25, 12288)), name='W1')\n",
        "b1 = tf.Variable(tf.initializers.zeros()((25, 1)), name='b1')\n",
        "```\n",
        "Please use `seed = 1` to make sure your results match ours."
      ]
    },
    {
      "cell_type": "code",
      "execution_count": 47,
      "metadata": {
        "collapsed": true,
        "id": "M67lQO8sBiC-"
      },
      "outputs": [],
      "source": [
        "# GRADED FUNCTION: initialize_parameters\n",
        "\n",
        "def initialize_parameters():\n",
        "    \"\"\"\n",
        "    Initializes parameters to build a neural network with tensorflow. The shapes are:\n",
        "                        W1 : [25, 12288]\n",
        "                        b1 : [25, 1]\n",
        "                        W2 : [12, 25]\n",
        "                        b2 : [12, 1]\n",
        "                        W3 : [6, 12]\n",
        "                        b3 : [6, 1]\n",
        "    \n",
        "    Returns:\n",
        "    parameters -- a dictionary of tensors containing W1, b1, W2, b2, W3, b3\n",
        "    \"\"\"\n",
        "    \n",
        "    tf.random.set_seed(1)                   # so that your \"random\" numbers match ours\n",
        "        \n",
        "    ### START CODE HERE ### (approx. 6 lines of code)\n",
        "    W1 = tf.Variable(tf.initializers.glorot_uniform()((25, 12288)), name='W1')\n",
        "    b1 = tf.Variable(tf.initializers.zeros()((25, 1)), name='b1')\n",
        "    W2 = tf.Variable(tf.initializers.glorot_uniform()((12, 25)), name='W2')\n",
        "    b2 = tf.Variable(tf.initializers.zeros()((12, 1)), name='b2')\n",
        "    W3 = tf.Variable(tf.initializers.glorot_uniform()((6, 12)), name='W3')\n",
        "    b3 = tf.Variable(tf.initializers.zeros()((6, 1)), name='b3')\n",
        "    ### END CODE HERE ###\n",
        "\n",
        "    parameters = {\"W1\": W1,\n",
        "                  \"b1\": b1,\n",
        "                  \"W2\": W2,\n",
        "                  \"b2\": b2,\n",
        "                  \"W3\": W3,\n",
        "                  \"b3\": b3}\n",
        "    \n",
        "    return parameters"
      ]
    },
    {
      "cell_type": "code",
      "execution_count": 48,
      "metadata": {
        "colab": {
          "base_uri": "https://localhost:8080/"
        },
        "id": "GEPiDx4HBiC_",
        "outputId": "bb53f05a-9e4d-4bc7-cf19-d6149b8f4fca"
      },
      "outputs": [
        {
          "name": "stdout",
          "output_type": "stream",
          "text": [
            "W1 = <tf.Variable 'W1:0' shape=(25, 12288) dtype=float32, numpy=\n",
            "array([[-1.47842336e-02,  1.77251101e-02,  5.78241609e-03, ...,\n",
            "        -5.74509054e-03,  1.67791806e-02, -1.76099837e-02],\n",
            "       [ 7.10822642e-05,  4.51281667e-04, -1.82342455e-02, ...,\n",
            "         1.36572979e-02, -1.17452955e-02,  1.81304589e-02],\n",
            "       [-1.38530191e-02, -8.04699305e-03, -5.75006939e-03, ...,\n",
            "        -1.64859798e-02, -1.49659812e-03, -1.96594968e-02],\n",
            "       ...,\n",
            "       [ 1.79477036e-02, -1.62059460e-02,  1.37278400e-02, ...,\n",
            "         1.88305639e-02, -4.04859334e-03,  8.19192454e-03],\n",
            "       [ 3.84624675e-03, -1.64127555e-02, -1.21785151e-02, ...,\n",
            "         1.00171529e-02,  4.27778065e-03,  5.20760752e-03],\n",
            "       [-4.29783016e-04,  1.21666379e-02, -1.83665771e-02, ...,\n",
            "        -2.16038935e-02,  1.55930333e-02, -1.61311366e-02]], dtype=float32)>\n",
            "b1 = <tf.Variable 'b1:0' shape=(25, 1) dtype=float32, numpy=\n",
            "array([[0.],\n",
            "       [0.],\n",
            "       [0.],\n",
            "       [0.],\n",
            "       [0.],\n",
            "       [0.],\n",
            "       [0.],\n",
            "       [0.],\n",
            "       [0.],\n",
            "       [0.],\n",
            "       [0.],\n",
            "       [0.],\n",
            "       [0.],\n",
            "       [0.],\n",
            "       [0.],\n",
            "       [0.],\n",
            "       [0.],\n",
            "       [0.],\n",
            "       [0.],\n",
            "       [0.],\n",
            "       [0.],\n",
            "       [0.],\n",
            "       [0.],\n",
            "       [0.],\n",
            "       [0.]], dtype=float32)>\n",
            "W2 = <tf.Variable 'W2:0' shape=(12, 25) dtype=float32, numpy=\n",
            "array([[ 8.14008713e-03, -4.54788208e-02, -7.36662745e-02,\n",
            "         3.96647036e-01,  1.51947558e-01, -1.24150753e-01,\n",
            "        -5.14908433e-02,  8.13932419e-02, -3.49342525e-02,\n",
            "         2.03519702e-01, -2.51283050e-01,  3.92682254e-02,\n",
            "         3.93957198e-02,  3.98884416e-02, -1.77269995e-01,\n",
            "        -3.14941496e-01,  1.05434358e-01,  3.01068306e-01,\n",
            "         2.59842277e-02,  4.92084920e-02, -1.65962756e-01,\n",
            "         3.45095456e-01, -3.14313471e-01,  3.73330832e-01,\n",
            "         1.49747789e-01],\n",
            "       [-1.75979912e-01,  2.37341285e-01, -3.23757380e-01,\n",
            "         3.83442521e-01,  2.68462539e-01,  2.90681481e-01,\n",
            "         1.33382559e-01, -2.76917726e-01,  3.56646836e-01,\n",
            "         2.45290816e-01,  3.87604952e-01,  3.89273286e-01,\n",
            "        -3.68357897e-01, -5.94896972e-02,  4.92109060e-02,\n",
            "        -9.37918127e-02, -2.44288862e-01, -3.67015600e-03,\n",
            "        -1.05911314e-01, -2.22704932e-01,  1.17074251e-01,\n",
            "        -2.30879575e-01,  2.46655107e-01, -3.59500229e-01,\n",
            "        -1.23001605e-01],\n",
            "       [ 3.10382843e-02,  2.20543444e-01,  3.09194326e-02,\n",
            "         4.55868244e-02, -3.73587430e-01,  1.73425496e-01,\n",
            "        -3.57087791e-01, -3.15460026e-01,  1.27165556e-01,\n",
            "        -2.11690992e-01,  2.41545081e-01,  7.54535794e-02,\n",
            "        -1.91377655e-01,  1.21006787e-01,  2.43687928e-02,\n",
            "         3.42944741e-01,  3.83697152e-01, -8.94318223e-02,\n",
            "        -7.29059875e-02,  1.93936586e-01,  1.07630789e-02,\n",
            "        -1.97577193e-01, -3.25814784e-01, -3.99634093e-01,\n",
            "         3.08788717e-01],\n",
            "       [ 3.40829730e-01,  2.35236704e-01, -3.25848848e-01,\n",
            "         3.58289361e-01,  3.94452572e-01,  3.46668720e-01,\n",
            "        -3.96484584e-01,  1.50660753e-01, -6.93049431e-02,\n",
            "        -2.28442073e-01, -3.46331060e-01, -3.15855801e-01,\n",
            "        -6.11871481e-02,  1.89649761e-02,  4.71027195e-02,\n",
            "        -2.29302138e-01,  8.86497498e-02,  3.03163409e-01,\n",
            "         8.28105211e-02, -1.04446501e-01,  1.62666857e-01,\n",
            "        -1.60039440e-01, -1.04361624e-01, -3.92597169e-01,\n",
            "         2.51929164e-02],\n",
            "       [-3.82006437e-01,  2.75926888e-02,  2.64293790e-01,\n",
            "        -8.27272832e-02, -3.19030344e-01, -3.89196783e-01,\n",
            "         2.00418234e-01, -3.59383494e-01,  2.87885964e-01,\n",
            "         1.46190166e-01, -3.53499234e-01,  3.04675341e-01,\n",
            "         2.12807775e-01,  1.83891416e-01, -5.03101945e-02,\n",
            "        -1.20571792e-01, -1.10119283e-02,  2.04581380e-01,\n",
            "         8.28064978e-02, -7.89802074e-02,  1.45696819e-01,\n",
            "         2.85986006e-01, -2.71863997e-01,  4.91438806e-02,\n",
            "        -1.74147382e-01],\n",
            "       [-3.35852563e-01,  4.15328145e-02,  1.22750640e-01,\n",
            "        -3.88268948e-01, -7.83745050e-02,  7.11879730e-02,\n",
            "         6.65045381e-02,  6.73559606e-02,  6.80691004e-02,\n",
            "        -1.37644798e-01,  2.36231923e-01, -1.88559383e-01,\n",
            "         3.81682992e-01,  7.22298920e-02,  1.81986094e-01,\n",
            "         2.39999652e-01, -3.33455116e-01, -1.48314238e-03,\n",
            "        -1.51590765e-01,  3.45002949e-01,  2.26031840e-01,\n",
            "         3.31443608e-01,  7.16207922e-02,  1.53863132e-02,\n",
            "         1.66519403e-01],\n",
            "       [ 1.62450373e-02,  3.78961384e-01, -3.14279318e-01,\n",
            "        -3.58963817e-01,  1.86710894e-01,  3.33862782e-01,\n",
            "        -2.97068536e-01, -1.65621817e-01,  1.40788078e-01,\n",
            "        -1.48373783e-01,  1.19255126e-01,  9.80214477e-02,\n",
            "         8.42127502e-02,  2.51740038e-01, -8.85460377e-02,\n",
            "        -3.32402468e-01, -1.55995697e-01, -1.71512678e-01,\n",
            "         1.51105762e-01,  3.54571342e-02,  5.76670468e-02,\n",
            "         3.32962275e-02, -3.26584756e-01,  1.42405331e-02,\n",
            "         1.87086761e-01],\n",
            "       [-2.83525974e-01, -2.04813048e-01, -2.66884446e-01,\n",
            "         2.74828076e-03,  3.13070536e-01, -3.55701894e-01,\n",
            "         2.98977375e-01, -2.94100285e-01, -4.27973270e-03,\n",
            "         1.44075334e-01,  1.44218504e-01, -7.51896501e-02,\n",
            "        -3.44433069e-01,  2.30532587e-02, -4.00804073e-01,\n",
            "         3.64898682e-01, -1.95696935e-01,  1.98725760e-01,\n",
            "         2.10213959e-01, -3.28078210e-01,  3.60456944e-01,\n",
            "         5.73340654e-02,  1.41556025e-01, -9.26416218e-02,\n",
            "        -2.01053604e-01],\n",
            "       [ 3.44884992e-02, -3.44136685e-01,  3.25857878e-01,\n",
            "        -3.94937307e-01,  7.62017071e-02, -1.06648386e-01,\n",
            "        -2.48050988e-01, -1.14018083e-01,  1.98540568e-01,\n",
            "        -2.74736971e-01,  7.00056553e-05,  3.53918433e-01,\n",
            "         2.98598230e-01,  1.00438774e-01, -1.60293862e-01,\n",
            "        -3.71805310e-01,  3.21484506e-02,  8.41613710e-02,\n",
            "        -2.54967034e-01, -2.91985393e-01,  3.77707779e-02,\n",
            "         3.62798274e-02, -2.30673447e-01, -2.19312325e-01,\n",
            "         2.29866087e-01],\n",
            "       [ 2.99574673e-01,  1.79812789e-01, -3.01204920e-01,\n",
            "        -1.69071555e-03, -8.70936215e-02, -3.80265772e-01,\n",
            "         3.40554535e-01,  3.04264188e-01, -7.88420439e-04,\n",
            "        -9.93053615e-02, -2.44301528e-01,  3.85221422e-01,\n",
            "        -1.49261981e-01,  3.38964343e-01, -2.63328046e-01,\n",
            "         2.48440206e-01, -2.49745846e-01, -4.18794155e-03,\n",
            "        -3.74637127e-01, -2.43881866e-01,  3.19749296e-01,\n",
            "        -3.94351780e-02, -1.54265031e-01,  2.07154632e-01,\n",
            "         1.19705498e-01],\n",
            "       [-2.43092090e-01, -3.82378370e-01,  2.43221879e-01,\n",
            "         1.03380799e-01, -2.13825002e-01,  2.13283718e-01,\n",
            "        -3.01922679e-01, -3.85756373e-01,  3.91232550e-01,\n",
            "         2.45687544e-01,  2.98019528e-01,  2.83719659e-01,\n",
            "        -2.55020916e-01, -3.04803431e-01,  6.19050860e-03,\n",
            "         2.33598351e-01,  3.44480395e-01,  1.35082960e-01,\n",
            "        -2.75221646e-01, -1.10524565e-01, -1.14646077e-01,\n",
            "        -2.96982795e-01, -6.34046793e-02,  3.54356050e-01,\n",
            "        -2.78141558e-01],\n",
            "       [ 2.22595334e-02, -3.86280596e-01,  1.43923163e-01,\n",
            "         2.92950869e-01, -1.96748242e-01, -3.79734278e-01,\n",
            "         1.42350495e-01, -4.78713810e-02,  8.09506178e-02,\n",
            "        -2.62232304e-01, -1.17359877e-01,  1.17243707e-01,\n",
            "         1.32745802e-02, -2.97281086e-01, -9.23645496e-02,\n",
            "        -3.71224344e-01,  6.49373829e-02,  3.47947299e-01,\n",
            "        -3.99437547e-02,  3.97379518e-01, -1.15329474e-01,\n",
            "        -1.54762864e-02,  1.60537541e-01, -1.16802752e-01,\n",
            "        -2.75756598e-01]], dtype=float32)>\n",
            "b2 = <tf.Variable 'b2:0' shape=(12, 1) dtype=float32, numpy=\n",
            "array([[0.],\n",
            "       [0.],\n",
            "       [0.],\n",
            "       [0.],\n",
            "       [0.],\n",
            "       [0.],\n",
            "       [0.],\n",
            "       [0.],\n",
            "       [0.],\n",
            "       [0.],\n",
            "       [0.],\n",
            "       [0.]], dtype=float32)>\n"
          ]
        }
      ],
      "source": [
        "parameters = initialize_parameters()\n",
        "print(\"W1 = \" + str(parameters[\"W1\"]))\n",
        "print(\"b1 = \" + str(parameters[\"b1\"]))\n",
        "print(\"W2 = \" + str(parameters[\"W2\"]))\n",
        "print(\"b2 = \" + str(parameters[\"b2\"]))"
      ]
    },
    {
      "cell_type": "markdown",
      "metadata": {
        "id": "XG4imdUzBiC_"
      },
      "source": [
        "**Expected Output**: \n",
        "\n",
        "<table> \n",
        "    <tr> \n",
        "        <td>\n",
        "            **W1**\n",
        "        </td>\n",
        "        <td>\n",
        "         < tf.Variable 'W1:0' shape=(25, 12288) dtype=float32_ref >\n",
        "        </td>\n",
        "    </tr>\n",
        "    <tr> \n",
        "        <td>\n",
        "            **b1**\n",
        "        </td>\n",
        "        <td>\n",
        "        < tf.Variable 'b1:0' shape=(25, 1) dtype=float32_ref >\n",
        "        </td>\n",
        "    </tr>\n",
        "    <tr> \n",
        "        <td>\n",
        "            **W2**\n",
        "        </td>\n",
        "        <td>\n",
        "        < tf.Variable 'W2:0' shape=(12, 25) dtype=float32_ref >\n",
        "        </td>\n",
        "    </tr>\n",
        "    <tr> \n",
        "        <td>\n",
        "            **b2**\n",
        "        </td>\n",
        "        <td>\n",
        "        < tf.Variable 'b2:0' shape=(12, 1) dtype=float32_ref >\n",
        "        </td>\n",
        "    </tr>\n",
        "\n",
        "</table>"
      ]
    },
    {
      "cell_type": "markdown",
      "metadata": {
        "id": "tLmZvI-MBiC_"
      },
      "source": [
        "As expected, the parameters haven't been evaluated yet."
      ]
    },
    {
      "cell_type": "markdown",
      "metadata": {
        "id": "P3ZlDC9LBiDA"
      },
      "source": [
        "### 2.3 - Forward propagation in tensorflow \n",
        "\n",
        "You will now implement the forward propagation module in tensorflow. The function will take in a dictionary of parameters and it will complete the forward pass. The functions you will be using are: \n",
        "\n",
        "- `tf.add(...,...)` to do an addition\n",
        "- `tf.matmul(...,...)` to do a matrix multiplication\n",
        "- `tf.nn.relu(...)` to apply the ReLU activation\n",
        "\n",
        "**Question:** Implement the forward pass of the neural network. We commented for you the numpy equivalents so that you can compare the tensorflow implementation to numpy. It is important to note that the forward propagation stops at `z3`. The reason is that in tensorflow the last linear layer output is given as input to the function computing the loss. Therefore, you don't need `a3`!\n",
        "\n"
      ]
    },
    {
      "cell_type": "code",
      "execution_count": 49,
      "metadata": {
        "collapsed": true,
        "id": "DrOnOnXlBiDA"
      },
      "outputs": [],
      "source": [
        "# GRADED FUNCTION: forward_propagation\n",
        "\n",
        "def forward_propagation(X, parameters):\n",
        "    \"\"\"\n",
        "    Implements the forward propagation for the model: LINEAR -> RELU -> LINEAR -> RELU -> LINEAR -> SOFTMAX\n",
        "    \n",
        "    Arguments:\n",
        "    X -- input dataset, of shape (input size, number of examples)\n",
        "    parameters -- python dictionary containing your parameters \"W1\", \"b1\", \"W2\", \"b2\", \"W3\", \"b3\"\n",
        "                  the shapes are given in initialize_parameters\n",
        "\n",
        "    Returns:\n",
        "    Z3 -- the output of the last LINEAR unit\n",
        "    \"\"\"\n",
        "    \n",
        "    # Retrieve the parameters from the dictionary \"parameters\" \n",
        "    W1 = parameters['W1']\n",
        "    b1 = parameters['b1']\n",
        "    W2 = parameters['W2']\n",
        "    b2 = parameters['b2']\n",
        "    W3 = parameters['W3']\n",
        "    b3 = parameters['b3']\n",
        "    \n",
        "    ### START CODE HERE ### (approx. 5 lines)              # Numpy Equivalents:\n",
        "    Z1 = tf.add(tf.matmul(W1, X), b1)                      # Z1 = np.dot(W1, X) + b1\n",
        "    A1 = tf.nn.relu(Z1)                                    # A1 = relu(Z1)\n",
        "    Z2 = tf.add(tf.matmul(W2, A1), b2)                     # Z2 = np.dot(W2, A1) + b2\n",
        "    A2 = tf.nn.relu(Z2)                                    # A2 = relu(Z2)\n",
        "    Z3 = tf.add(tf.matmul(W3, A2), b3)                     # Z3 = np.dot(W3,A2) + b3\n",
        "    ### END CODE HERE ###\n",
        "    \n",
        "    return Z3"
      ]
    },
    {
      "cell_type": "code",
      "execution_count": 50,
      "metadata": {
        "colab": {
          "base_uri": "https://localhost:8080/"
        },
        "id": "_jHiABdOBiDA",
        "outputId": "542c1437-71c3-45ba-8f77-348b6d87bf6b",
        "scrolled": true
      },
      "outputs": [
        {
          "name": "stdout",
          "output_type": "stream",
          "text": [
            "Z3 = tf.Tensor(\n",
            "[[-0.11565053  0.09437902 -0.00375143 ... -0.02728732  0.06572004\n",
            "  -0.02868922]\n",
            " [ 1.0180092   0.9685513   1.0115802  ...  1.2163582   1.0934578\n",
            "   1.2193036 ]\n",
            " [-0.11545335 -0.19901218 -0.20647542 ... -0.3574288  -0.28355595\n",
            "  -0.22626133]\n",
            " [-0.13243687 -0.00701094 -0.04400921 ...  0.03025216  0.13088915\n",
            "  -0.00336176]\n",
            " [-0.6049128  -0.46807212 -0.659477   ... -0.39547634 -0.43241924\n",
            "  -0.5847373 ]\n",
            " [ 0.74836224  1.0385891   0.7552044  ...  1.0284731   0.9370564\n",
            "   0.97051334]], shape=(6, 1080), dtype=float32)\n"
          ]
        }
      ],
      "source": [
        "parameters = initialize_parameters()\n",
        "Z3 = forward_propagation(X_train, parameters)\n",
        "print(\"Z3 = \" + str(Z3))"
      ]
    },
    {
      "cell_type": "markdown",
      "metadata": {
        "id": "8LUK5Gc4BiDA"
      },
      "source": [
        "**Expected Output**: \n",
        "\n",
        "<table> \n",
        "    <tr> \n",
        "        <td>\n",
        "            **Z3**\n",
        "        </td>\n",
        "        <td>\n",
        "        Z3 = tf.Tensor([...], shape=(6, 1080), dtype=float32)\n",
        "        </td>\n",
        "    </tr>\n",
        "\n",
        "</table>"
      ]
    },
    {
      "cell_type": "markdown",
      "metadata": {
        "id": "NTsM6kdRBiDB"
      },
      "source": [
        "You may have noticed that the forward propagation doesn't output any cache. You will understand why below, when we get to brackpropagation."
      ]
    },
    {
      "cell_type": "markdown",
      "metadata": {
        "id": "0fpevnInBiDB"
      },
      "source": [
        "### 2.4 Compute cost\n",
        "\n",
        "As seen before, it is very easy to compute the cost using:\n",
        "```python\n",
        "tf.reduce_mean(tf.nn.softmax_cross_entropy_with_logits(logits = ..., labels = ...))\n",
        "```\n",
        "**Question**: Implement the cost function below. \n",
        "- It is important to know that the \"`logits`\" and \"`labels`\" inputs of `tf.nn.softmax_cross_entropy_with_logits` are expected to be of shape (number of examples, num_classes). We have thus transposed Z3 and Y for you.\n",
        "- Besides, `tf.reduce_mean` basically does the summation over the examples."
      ]
    },
    {
      "cell_type": "code",
      "execution_count": 51,
      "metadata": {
        "collapsed": true,
        "id": "X9z3VP51BiDB"
      },
      "outputs": [],
      "source": [
        "# GRADED FUNCTION: compute_cost \n",
        "\n",
        "def compute_cost(Z3, Y):\n",
        "    \"\"\"\n",
        "    Computes the cost\n",
        "    \n",
        "    Arguments:\n",
        "    Z3 -- output of forward propagation (output of the last LINEAR unit), of shape (6, number of examples)\n",
        "    Y -- \"true\" labels vector placeholder, same shape as Z3\n",
        "    \n",
        "    Returns:\n",
        "    cost - Tensor of the cost function\n",
        "    \"\"\"\n",
        "    \n",
        "    # to fit the tensorflow requirement for tf.nn.softmax_cross_entropy_with_logits(...,...)\n",
        "    logits = tf.transpose(Z3)\n",
        "    labels = tf.transpose(Y)\n",
        "    \n",
        "    ### START CODE HERE ### (1 line of code)\n",
        "    cost = tf.reduce_mean(tf.nn.softmax_cross_entropy_with_logits(logits=logits, labels=labels))\n",
        "    ### END CODE HERE ###\n",
        "    \n",
        "    return cost"
      ]
    },
    {
      "cell_type": "code",
      "execution_count": 52,
      "metadata": {
        "colab": {
          "base_uri": "https://localhost:8080/"
        },
        "id": "A_AyTBv0BiDB",
        "outputId": "94f199a5-ef2d-40c3-d3ac-9299c6c7f805"
      },
      "outputs": [
        {
          "name": "stdout",
          "output_type": "stream",
          "text": [
            "cost = tf.Tensor(1.9875417, shape=(), dtype=float32)\n"
          ]
        }
      ],
      "source": [
        "parameters = initialize_parameters()\n",
        "Z3 = forward_propagation(X_test, parameters)\n",
        "cost = compute_cost(Z3, Y_test)\n",
        "print(\"cost = \" + str(cost))"
      ]
    },
    {
      "cell_type": "markdown",
      "metadata": {
        "id": "vYI8Y_9UBiDB"
      },
      "source": [
        "**Expected Output**: \n",
        "\n",
        "<table> \n",
        "    <tr> \n",
        "        <td>\n",
        "            **cost**\n",
        "        </td>\n",
        "        <td>\n",
        "        Tensor(1.9875417, shape=(), dtype=float32)\n",
        "        </td>\n",
        "    </tr>\n",
        "\n",
        "</table>"
      ]
    },
    {
      "cell_type": "markdown",
      "metadata": {
        "id": "0G27srHrBiDC"
      },
      "source": [
        "### 2.5 - Backward propagation & parameter updates\n",
        "\n",
        "This is where you become grateful to programming frameworks. All the backpropagation and the parameters update is taken care of in 1 line of code. It is very easy to incorporate this line in the model.\n",
        "\n",
        "After you compute the cost function. You will create an \"`optimizer`\" object. When called, it will perform an optimization on the given cost with the chosen method and learning rate.\n",
        "\n",
        "For instance, for gradient descent the optimizer would be:\n",
        "```python\n",
        "optimizer = tf.optimizers.Adam(learning_rate=learning_rate)\n",
        "```"
      ]
    },
    {
      "cell_type": "markdown",
      "metadata": {
        "id": "opKw4rRWBiDC"
      },
      "source": [
        "### 2.6 - Building the model\n",
        "\n",
        "The beauty of TensorFlow 2 is in its simplicity. Basically, all you need to do is implement forward propagation through a computational graph. TensorFlow will compute the derivatives for you, by moving backwards through the graph recorded with `GradientTape`. All that's left for you to do then is specify the cost function and optimizer you want to use! \n",
        "\n",
        "When writing a TensorFlow program, the main object to get used and transformed is the `tf.Tensor`. These tensors are the TensorFlow equivalent of Numpy arrays, i.e. multidimensional arrays of a given data type that also contain information about the computational graph.\n",
        "\n",
        "Below, you'll use `tf.Variable` to store the state of your variables. Variables can only be created once as its initial value defines the variable shape and type. Additionally, the `dtype` arg in `tf.Variable` can be set to allow data to be converted to that type. But if none is specified, either the datatype will be kept if the initial value is a Tensor, or `convert_to_tensor` will decide. It's generally best for you to specify directly, so nothing breaks!\n",
        "\n",
        "Now, you will bring it all together! \n",
        "\n",
        "**Exercise:** Implement the model. You will be calling the functions you had previously implemented."
      ]
    },
    {
      "cell_type": "code",
      "execution_count": 53,
      "metadata": {
        "collapsed": true,
        "id": "ex-tKJLlBiDC"
      },
      "outputs": [],
      "source": [
        "def model(X_train, Y_train, X_test, Y_test, learning_rate = 0.0001,\n",
        "          num_epochs = 1500, minibatch_size = 32, print_cost = True):\n",
        "    \"\"\"\n",
        "    Implements a three-layer tensorflow neural network: LINEAR->RELU->LINEAR->RELU->LINEAR->SOFTMAX.\n",
        "    \n",
        "    Arguments:\n",
        "    X_train -- training set, of shape (input size = 12288, number of training examples = 1080)\n",
        "    Y_train -- test set, of shape (output size = 6, number of training examples = 1080)\n",
        "    X_test -- training set, of shape (input size = 12288, number of training examples = 120)\n",
        "    Y_test -- test set, of shape (output size = 6, number of test examples = 120)\n",
        "    learning_rate -- learning rate of the optimization\n",
        "    num_epochs -- number of epochs of the optimization loop\n",
        "    minibatch_size -- size of a minibatch\n",
        "    print_cost -- True to print the cost every 100 epochs\n",
        "    \n",
        "    Returns:\n",
        "    parameters -- parameters learnt by the model. They can then be used to predict.\n",
        "    \"\"\"\n",
        "    \n",
        "    tf.random.set_seed(1)                             # to keep consistent results\n",
        "    seed = 3                                          # to keep consistent results\n",
        "    (n_x, m) = X_train.shape                          # (n_x: input size, m : number of examples in the train set)\n",
        "    n_y = Y_train.shape[0]                            # n_y : output size\n",
        "    costs = []                                        # To keep track of the cost\n",
        "\n",
        "    # Initialize parameters\n",
        "    ### START CODE HERE ### (1 line)\n",
        "    parameters = initialize_parameters()\n",
        "    ### END CODE HERE ###\n",
        "\n",
        "    W1 = parameters['W1']\n",
        "    b1 = parameters['b1']\n",
        "    W2 = parameters['W2']\n",
        "    b2 = parameters['b2']\n",
        "    W3 = parameters['W3']\n",
        "    b3 = parameters['b3']\n",
        "    \n",
        "    # Backpropagation: Define the tensorflow optimizer. Use Adam optimizer.\n",
        "    ### START CODE HERE ### (1 line)\n",
        "    optimizer = tf.optimizers.Adam(learning_rate=learning_rate)\n",
        "    ### END CODE HERE ###\n",
        "\n",
        "    # Cost function\n",
        "    ### START CODE HERE ### (1 line)\n",
        "    def minibatch_cost(minibatch_X, parameters):\n",
        "        # Forward propagation\n",
        "        ### START CODE HERE ### (1 line)\n",
        "        @tf.function\n",
        "        def cost():\n",
        "            Z3 = forward_propagation(minibatch_X, parameters)\n",
        "            res = compute_cost(Z3, minibatch_Y)\n",
        "            return res\n",
        "        return cost\n",
        "        ### END CODE HERE ###\n",
        "    # minibatch_cost = compute_cost(Z3, minibatch_Y)\n",
        "    ### END CODE HERE ###\n",
        "        \n",
        "    # Do the training loop\n",
        "    for epoch in range(num_epochs):\n",
        "\n",
        "        epoch_cost = 0.                       # Defines a cost related to an epoch\n",
        "        num_minibatches = int(m / minibatch_size) # number of minibatches of size minibatch_size in the train set\n",
        "        seed = seed + 1\n",
        "        minibatches = random_mini_batches(X_train, Y_train, minibatch_size, seed)\n",
        "\n",
        "        for minibatch in minibatches:\n",
        "\n",
        "            # Select a minibatch\n",
        "            (minibatch_X, minibatch_Y) = minibatch\n",
        "\n",
        "            # train the model on a minibatch.\n",
        "            ### START CODE HERE ### (1 line)\n",
        "            with tf.GradientTape() as tape:\n",
        "                # 1. predict\n",
        "                Z3 = forward_propagation(minibatch_X, parameters)\n",
        "                # 2. loss\n",
        "                minibatch_cost = compute_cost(Z3, minibatch_Y)\n",
        "            \n",
        "            trainable_variables = [W1, b1, W2, b2, W3, b3]\n",
        "            grads = tape.gradient(minibatch_cost, trainable_variables)\n",
        "            optimizer.apply_gradients(zip(grads, trainable_variables))\n",
        "            ### END CODE HERE ###\n",
        "\n",
        "            epoch_cost += minibatch_cost / num_minibatches\n",
        "\n",
        "        # Print the cost every epoch\n",
        "        if print_cost == True and epoch % 100 == 0:\n",
        "            print (\"Cost after epoch %i: %f\" % (epoch, epoch_cost))\n",
        "        if print_cost == True and epoch % 5 == 0:\n",
        "            costs.append(epoch_cost)\n",
        "            \n",
        "    # plot the cost\n",
        "    plt.plot(np.squeeze(costs))\n",
        "    plt.ylabel('cost')\n",
        "    plt.xlabel('iterations (per tens)')\n",
        "    plt.title(\"Learning rate =\" + str(learning_rate))\n",
        "    plt.show()\n",
        "\n",
        "    # # Calculate the correct predictions\n",
        "    # correct_prediction = tf.equal(tf.argmax(Z3), tf.argmax(Y))\n",
        "\n",
        "    # # Calculate accuracy on the test set\n",
        "    # accuracy = tf.reduce_mean(tf.cast(correct_prediction, \"float\"))\n",
        "\n",
        "    # print(\"Train Accuracy:\", accuracy.eval({X: X_train, Y: Y_train}))\n",
        "    # print(\"Test Accuracy:\", accuracy.eval({X: X_test, Y: Y_test}))\n",
        "    \n",
        "    return parameters"
      ]
    },
    {
      "cell_type": "markdown",
      "metadata": {
        "collapsed": true,
        "id": "ygvBV3yABiDD"
      },
      "source": [
        "Run the following cell to train your model! On our machine it takes about 5 minutes. Your \"Cost after epoch 100\" should be 1.016458. If it's not, don't waste time; interrupt the training by clicking on the square (⬛) in the upper bar of the notebook, and try to correct your code. If it is the correct cost, take a break and come back in 5 minutes!"
      ]
    },
    {
      "cell_type": "code",
      "execution_count": null,
      "metadata": {
        "colab": {
          "base_uri": "https://localhost:8080/",
          "height": 282
        },
        "id": "cc2CMrh7BiDD",
        "outputId": "03651c75-9000-4fb3-8b64-a134f0dfbbbd",
        "scrolled": false
      },
      "outputs": [],
      "source": [
        "parameters = model(X_train, Y_train, X_test, Y_test)"
      ]
    },
    {
      "cell_type": "markdown",
      "metadata": {
        "id": "hGfYKlQBBiDD"
      },
      "source": [
        "**Expected Output**:\n",
        "\n",
        "<table> \n",
        "    <tr> \n",
        "        <td>\n",
        "            **Train Accuracy**\n",
        "        </td>\n",
        "        <td>\n",
        "        0.999074\n",
        "        </td>\n",
        "    </tr>\n",
        "    <tr> \n",
        "        <td>\n",
        "            **Test Accuracy**\n",
        "        </td>\n",
        "        <td>\n",
        "        0.716667\n",
        "        </td>\n",
        "    </tr>\n",
        "\n",
        "</table>\n",
        "\n",
        "Amazing, your algorithm can recognize a sign representing a figure between 0 and 5 with 71.7% accuracy.\n",
        "\n",
        "**Insights**:\n",
        "- Your model seems big enough to fit the training set well. However, given the difference between train and test accuracy, you could try to add L2 or dropout regularization to reduce overfitting. \n",
        "- Think about the session as a block of code to train the model. Each time you run the session on a minibatch, it trains the parameters. In total you have run the session a large number of times (1500 epochs) until you obtained well trained parameters."
      ]
    },
    {
      "cell_type": "markdown",
      "metadata": {
        "id": "6KVU_YN_BiDE"
      },
      "source": [
        "### 2.7 - Test with your own image (optional / ungraded exercise)\n",
        "\n",
        "Congratulations on finishing this assignment. You can now take a picture of your hand and see the output of your model. To do that:\n",
        "    1. Click on \"File\" in the upper bar of this notebook, then click \"Open\" to go on your Coursera Hub.\n",
        "    2. Add your image to this Jupyter Notebook's directory, in the \"images\" folder\n",
        "    3. Write your image's name in the following code\n",
        "    4. Run the code and check if the algorithm is right!"
      ]
    },
    {
      "cell_type": "code",
      "execution_count": null,
      "metadata": {
        "id": "EvHbaBHIBiDE",
        "scrolled": true
      },
      "outputs": [],
      "source": [
        "import scipy\n",
        "from PIL import Image\n",
        "from scipy import ndimage\n",
        "\n",
        "## START CODE HERE ## (PUT YOUR IMAGE NAME) \n",
        "my_image = \"thumbs_up.jpg\"\n",
        "## END CODE HERE ##\n",
        "\n",
        "# We preprocess your image to fit your algorithm.\n",
        "fname = \"images/\" + my_image\n",
        "image = np.array(ndimage.imread(fname, flatten=False))\n",
        "my_image = scipy.misc.imresize(image, size=(64, 64)).reshape((1, 64 * 64 * 3)).T\n",
        "my_image_prediction = predict(my_image, parameters)\n",
        "\n",
        "plt.imshow(image)\n",
        "print(\"Your algorithm predicts: y = \" + str(np.squeeze(my_image_prediction)))"
      ]
    },
    {
      "cell_type": "markdown",
      "metadata": {
        "id": "wiVI46ePBiDE"
      },
      "source": [
        "You indeed deserved a \"thumbs-up\" although as you can see the algorithm seems to classify it incorrectly. The reason is that the training set doesn't contain any \"thumbs-up\", so the model doesn't know how to deal with it! We call that a \"mismatched data distribution\" and it is one of the various of the next course on \"Structuring Machine Learning Projects\"."
      ]
    },
    {
      "cell_type": "markdown",
      "metadata": {
        "collapsed": true,
        "id": "n2Q-YMy7BiDE"
      },
      "source": [
        "<font color='blue'>\n",
        "**What you should remember**:\n",
        "- Tensorflow is a programming framework used in deep learning\n",
        "- The two main object classes in tensorflow are Tensors and Operators. \n",
        "- When you code in tensorflow you have to take the following steps:\n",
        "    - Create a graph containing Tensors (Variables, Placeholders ...) and Operations (tf.matmul, tf.add, ...)\n",
        "    - Create a session\n",
        "    - Initialize the session\n",
        "    - Run the session to execute the graph\n",
        "- You can execute the graph multiple times as you've seen in model()\n",
        "- The backpropagation and optimization is automatically done when running the session on the \"optimizer\" object."
      ]
    }
  ],
  "metadata": {
    "colab": {
      "name": "05 Tensorflow Tutorial.ipynb",
      "provenance": []
    },
    "coursera": {
      "course_slug": "deep-neural-network",
      "graded_item_id": "BFd89",
      "launcher_item_id": "AH2rK"
    },
    "interpreter": {
      "hash": "c050ef70c22561527d4e5d7ca3bfcb7396e8b46e6b59dc4f75a5a2d8269a2af5"
    },
    "kernelspec": {
      "display_name": "Python 3.7.3 64-bit ('.venv': venv)",
      "name": "python3"
    },
    "language_info": {
      "name": "python",
      "version": ""
    }
  },
  "nbformat": 4,
  "nbformat_minor": 0
}