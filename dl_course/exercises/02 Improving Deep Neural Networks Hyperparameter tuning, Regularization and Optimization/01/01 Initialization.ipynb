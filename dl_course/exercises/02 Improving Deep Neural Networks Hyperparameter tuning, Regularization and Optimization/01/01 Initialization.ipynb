{
 "cells": [
  {
   "cell_type": "markdown",
   "metadata": {},
   "source": [
    "# Initialization\n",
    "\n",
    "Welcome to the first assignment of \"Improving Deep Neural Networks\". \n",
    "\n",
    "Training your neural network requires specifying an initial value of the weights. A well chosen initialization method will help learning.  \n",
    "\n",
    "If you completed the previous course of this specialization, you probably followed our instructions for weight initialization, and it has worked out so far. But how do you choose the initialization for a new neural network? In this notebook, you will see how different initializations lead to different results. \n",
    "\n",
    "A well chosen initialization can:\n",
    "- Speed up the convergence of gradient descent\n",
    "- Increase the odds of gradient descent converging to a lower training (and generalization) error \n",
    "\n",
    "To get started, run the following cell to load the packages and the planar dataset you will try to classify."
   ]
  },
  {
   "cell_type": "code",
   "execution_count": 26,
   "metadata": {},
   "outputs": [
    {
     "output_type": "display_data",
     "data": {
      "text/plain": "<Figure size 504x288 with 1 Axes>",
      "image/svg+xml": "<?xml version=\"1.0\" encoding=\"utf-8\" standalone=\"no\"?>\n<!DOCTYPE svg PUBLIC \"-//W3C//DTD SVG 1.1//EN\"\n  \"http://www.w3.org/Graphics/SVG/1.1/DTD/svg11.dtd\">\n<!-- Created with matplotlib (https://matplotlib.org/) -->\n<svg height=\"248.518125pt\" version=\"1.1\" viewBox=\"0 0 436.282812 248.518125\" width=\"436.282812pt\" xmlns=\"http://www.w3.org/2000/svg\" xmlns:xlink=\"http://www.w3.org/1999/xlink\">\n <metadata>\n  <rdf:RDF xmlns:cc=\"http://creativecommons.org/ns#\" xmlns:dc=\"http://purl.org/dc/elements/1.1/\" xmlns:rdf=\"http://www.w3.org/1999/02/22-rdf-syntax-ns#\">\n   <cc:Work>\n    <dc:type rdf:resource=\"http://purl.org/dc/dcmitype/StillImage\"/>\n    <dc:date>2021-08-08T19:38:32.715931</dc:date>\n    <dc:format>image/svg+xml</dc:format>\n    <dc:creator>\n     <cc:Agent>\n      <dc:title>Matplotlib v3.3.3, https://matplotlib.org/</dc:title>\n     </cc:Agent>\n    </dc:creator>\n   </cc:Work>\n  </rdf:RDF>\n </metadata>\n <defs>\n  <style type=\"text/css\">*{stroke-linecap:butt;stroke-linejoin:round;}</style>\n </defs>\n <g id=\"figure_1\">\n  <g id=\"patch_1\">\n   <path d=\"M 0 248.518125 \nL 436.282812 248.518125 \nL 436.282812 0 \nL 0 0 \nz\n\" style=\"fill:none;\"/>\n  </g>\n  <g id=\"axes_1\">\n   <g id=\"patch_2\">\n    <path d=\"M 38.482813 224.64 \nL 429.082813 224.64 \nL 429.082813 7.2 \nL 38.482813 7.2 \nz\n\" style=\"fill:#ffffff;\"/>\n   </g>\n   <g id=\"PathCollection_1\">\n    <defs>\n     <path d=\"M 0 3.162278 \nC 0.838646 3.162278 1.643056 2.82908 2.236068 2.236068 \nC 2.82908 1.643056 3.162278 0.838646 3.162278 -0 \nC 3.162278 -0.838646 2.82908 -1.643056 2.236068 -2.236068 \nC 1.643056 -2.82908 0.838646 -3.162278 0 -3.162278 \nC -0.838646 -3.162278 -1.643056 -2.82908 -2.236068 -2.236068 \nC -2.82908 -1.643056 -3.162278 -0.838646 -3.162278 0 \nC -3.162278 0.838646 -2.82908 1.643056 -2.236068 2.236068 \nC -1.643056 2.82908 -0.838646 3.162278 0 3.162278 \nz\n\" id=\"C0_0_16f4483a73\"/>\n    </defs>\n    <g clip-path=\"url(#pf4b6bcce69)\">\n     <use style=\"fill:#5e4fa2;stroke:#5e4fa2;\" x=\"224.088426\" xlink:href=\"#C0_0_16f4483a73\" y=\"36.689424\"/>\n    </g>\n    <g clip-path=\"url(#pf4b6bcce69)\">\n     <use style=\"fill:#9e0142;stroke:#9e0142;\" x=\"305.776047\" xlink:href=\"#C0_0_16f4483a73\" y=\"195.570578\"/>\n    </g>\n    <g clip-path=\"url(#pf4b6bcce69)\">\n     <use style=\"fill:#5e4fa2;stroke:#5e4fa2;\" x=\"249.203199\" xlink:href=\"#C0_0_16f4483a73\" y=\"37.789426\"/>\n    </g>\n    <g clip-path=\"url(#pf4b6bcce69)\">\n     <use style=\"fill:#5e4fa2;stroke:#5e4fa2;\" x=\"135.307342\" xlink:href=\"#C0_0_16f4483a73\" y=\"78.7245\"/>\n    </g>\n    <g clip-path=\"url(#pf4b6bcce69)\">\n     <use style=\"fill:#9e0142;stroke:#9e0142;\" x=\"192.700886\" xlink:href=\"#C0_0_16f4483a73\" y=\"212.420556\"/>\n    </g>\n    <g clip-path=\"url(#pf4b6bcce69)\">\n     <use style=\"fill:#9e0142;stroke:#9e0142;\" x=\"326.393648\" xlink:href=\"#C0_0_16f4483a73\" y=\"190.678753\"/>\n    </g>\n    <g clip-path=\"url(#pf4b6bcce69)\">\n     <use style=\"fill:#5e4fa2;stroke:#5e4fa2;\" x=\"284.690095\" xlink:href=\"#C0_0_16f4483a73\" y=\"40.802964\"/>\n    </g>\n    <g clip-path=\"url(#pf4b6bcce69)\">\n     <use style=\"fill:#9e0142;stroke:#9e0142;\" x=\"71.906664\" xlink:href=\"#C0_0_16f4483a73\" y=\"102.969945\"/>\n    </g>\n    <g clip-path=\"url(#pf4b6bcce69)\">\n     <use style=\"fill:#5e4fa2;stroke:#5e4fa2;\" x=\"302.13272\" xlink:href=\"#C0_0_16f4483a73\" y=\"174.795609\"/>\n    </g>\n    <g clip-path=\"url(#pf4b6bcce69)\">\n     <use style=\"fill:#5e4fa2;stroke:#5e4fa2;\" x=\"143.645364\" xlink:href=\"#C0_0_16f4483a73\" y=\"166.078661\"/>\n    </g>\n    <g clip-path=\"url(#pf4b6bcce69)\">\n     <use style=\"fill:#5e4fa2;stroke:#5e4fa2;\" x=\"250.754971\" xlink:href=\"#C0_0_16f4483a73\" y=\"187.48572\"/>\n    </g>\n    <g clip-path=\"url(#pf4b6bcce69)\">\n     <use style=\"fill:#9e0142;stroke:#9e0142;\" x=\"409.813746\" xlink:href=\"#C0_0_16f4483a73\" y=\"130.403813\"/>\n    </g>\n    <g clip-path=\"url(#pf4b6bcce69)\">\n     <use style=\"fill:#5e4fa2;stroke:#5e4fa2;\" x=\"364.215597\" xlink:href=\"#C0_0_16f4483a73\" y=\"117.217717\"/>\n    </g>\n    <g clip-path=\"url(#pf4b6bcce69)\">\n     <use style=\"fill:#9e0142;stroke:#9e0142;\" x=\"115.685075\" xlink:href=\"#C0_0_16f4483a73\" y=\"53.479535\"/>\n    </g>\n    <g clip-path=\"url(#pf4b6bcce69)\">\n     <use style=\"fill:#9e0142;stroke:#9e0142;\" x=\"300.891922\" xlink:href=\"#C0_0_16f4483a73\" y=\"194.51304\"/>\n    </g>\n    <g clip-path=\"url(#pf4b6bcce69)\">\n     <use style=\"fill:#9e0142;stroke:#9e0142;\" x=\"65.90046\" xlink:href=\"#C0_0_16f4483a73\" y=\"122.839885\"/>\n    </g>\n    <g clip-path=\"url(#pf4b6bcce69)\">\n     <use style=\"fill:#9e0142;stroke:#9e0142;\" x=\"392.259796\" xlink:href=\"#C0_0_16f4483a73\" y=\"71.860307\"/>\n    </g>\n    <g clip-path=\"url(#pf4b6bcce69)\">\n     <use style=\"fill:#5e4fa2;stroke:#5e4fa2;\" x=\"336.972033\" xlink:href=\"#C0_0_16f4483a73\" y=\"64.389129\"/>\n    </g>\n    <g clip-path=\"url(#pf4b6bcce69)\">\n     <use style=\"fill:#5e4fa2;stroke:#5e4fa2;\" x=\"117.082374\" xlink:href=\"#C0_0_16f4483a73\" y=\"98.007042\"/>\n    </g>\n    <g clip-path=\"url(#pf4b6bcce69)\">\n     <use style=\"fill:#9e0142;stroke:#9e0142;\" x=\"301.78124\" xlink:href=\"#C0_0_16f4483a73\" y=\"34.473491\"/>\n    </g>\n    <g clip-path=\"url(#pf4b6bcce69)\">\n     <use style=\"fill:#9e0142;stroke:#9e0142;\" x=\"287.502698\" xlink:href=\"#C0_0_16f4483a73\" y=\"36.01775\"/>\n    </g>\n    <g clip-path=\"url(#pf4b6bcce69)\">\n     <use style=\"fill:#9e0142;stroke:#9e0142;\" x=\"206.051463\" xlink:href=\"#C0_0_16f4483a73\" y=\"213.960261\"/>\n    </g>\n    <g clip-path=\"url(#pf4b6bcce69)\">\n     <use style=\"fill:#5e4fa2;stroke:#5e4fa2;\" x=\"185.135363\" xlink:href=\"#C0_0_16f4483a73\" y=\"187.488432\"/>\n    </g>\n    <g clip-path=\"url(#pf4b6bcce69)\">\n     <use style=\"fill:#9e0142;stroke:#9e0142;\" x=\"380.356866\" xlink:href=\"#C0_0_16f4483a73\" y=\"71.129979\"/>\n    </g>\n    <g clip-path=\"url(#pf4b6bcce69)\">\n     <use style=\"fill:#9e0142;stroke:#9e0142;\" x=\"178.687743\" xlink:href=\"#C0_0_16f4483a73\" y=\"200.044264\"/>\n    </g>\n    <g clip-path=\"url(#pf4b6bcce69)\">\n     <use style=\"fill:#9e0142;stroke:#9e0142;\" x=\"338.461241\" xlink:href=\"#C0_0_16f4483a73\" y=\"56.192864\"/>\n    </g>\n    <g clip-path=\"url(#pf4b6bcce69)\">\n     <use style=\"fill:#5e4fa2;stroke:#5e4fa2;\" x=\"366.181709\" xlink:href=\"#C0_0_16f4483a73\" y=\"123.399994\"/>\n    </g>\n    <g clip-path=\"url(#pf4b6bcce69)\">\n     <use style=\"fill:#9e0142;stroke:#9e0142;\" x=\"108.971029\" xlink:href=\"#C0_0_16f4483a73\" y=\"166.197543\"/>\n    </g>\n    <g clip-path=\"url(#pf4b6bcce69)\">\n     <use style=\"fill:#5e4fa2;stroke:#5e4fa2;\" x=\"351.984445\" xlink:href=\"#C0_0_16f4483a73\" y=\"140.453518\"/>\n    </g>\n    <g clip-path=\"url(#pf4b6bcce69)\">\n     <use style=\"fill:#5e4fa2;stroke:#5e4fa2;\" x=\"255.978271\" xlink:href=\"#C0_0_16f4483a73\" y=\"36.972621\"/>\n    </g>\n    <g clip-path=\"url(#pf4b6bcce69)\">\n     <use style=\"fill:#9e0142;stroke:#9e0142;\" x=\"382.755712\" xlink:href=\"#C0_0_16f4483a73\" y=\"150.010996\"/>\n    </g>\n    <g clip-path=\"url(#pf4b6bcce69)\">\n     <use style=\"fill:#5e4fa2;stroke:#5e4fa2;\" x=\"164.408846\" xlink:href=\"#C0_0_16f4483a73\" y=\"167.742045\"/>\n    </g>\n    <g clip-path=\"url(#pf4b6bcce69)\">\n     <use style=\"fill:#5e4fa2;stroke:#5e4fa2;\" x=\"112.998107\" xlink:href=\"#C0_0_16f4483a73\" y=\"120.71113\"/>\n    </g>\n    <g clip-path=\"url(#pf4b6bcce69)\">\n     <use style=\"fill:#9e0142;stroke:#9e0142;\" x=\"94.120404\" xlink:href=\"#C0_0_16f4483a73\" y=\"60.09912\"/>\n    </g>\n    <g clip-path=\"url(#pf4b6bcce69)\">\n     <use style=\"fill:#9e0142;stroke:#9e0142;\" x=\"149.124682\" xlink:href=\"#C0_0_16f4483a73\" y=\"40.36773\"/>\n    </g>\n    <g clip-path=\"url(#pf4b6bcce69)\">\n     <use style=\"fill:#9e0142;stroke:#9e0142;\" x=\"103.113704\" xlink:href=\"#C0_0_16f4483a73\" y=\"165.181613\"/>\n    </g>\n    <g clip-path=\"url(#pf4b6bcce69)\">\n     <use style=\"fill:#9e0142;stroke:#9e0142;\" x=\"132.193169\" xlink:href=\"#C0_0_16f4483a73\" y=\"180.241814\"/>\n    </g>\n    <g clip-path=\"url(#pf4b6bcce69)\">\n     <use style=\"fill:#5e4fa2;stroke:#5e4fa2;\" x=\"333.852708\" xlink:href=\"#C0_0_16f4483a73\" y=\"73.325735\"/>\n    </g>\n    <g clip-path=\"url(#pf4b6bcce69)\">\n     <use style=\"fill:#9e0142;stroke:#9e0142;\" x=\"62.793565\" xlink:href=\"#C0_0_16f4483a73\" y=\"136.44875\"/>\n    </g>\n    <g clip-path=\"url(#pf4b6bcce69)\">\n     <use style=\"fill:#5e4fa2;stroke:#5e4fa2;\" x=\"119.098861\" xlink:href=\"#C0_0_16f4483a73\" y=\"97.435857\"/>\n    </g>\n    <g clip-path=\"url(#pf4b6bcce69)\">\n     <use style=\"fill:#5e4fa2;stroke:#5e4fa2;\" x=\"114.386459\" xlink:href=\"#C0_0_16f4483a73\" y=\"104.07992\"/>\n    </g>\n    <g clip-path=\"url(#pf4b6bcce69)\">\n     <use style=\"fill:#5e4fa2;stroke:#5e4fa2;\" x=\"107.393868\" xlink:href=\"#C0_0_16f4483a73\" y=\"122.717451\"/>\n    </g>\n    <g clip-path=\"url(#pf4b6bcce69)\">\n     <use style=\"fill:#5e4fa2;stroke:#5e4fa2;\" x=\"216.832435\" xlink:href=\"#C0_0_16f4483a73\" y=\"43.000961\"/>\n    </g>\n    <g clip-path=\"url(#pf4b6bcce69)\">\n     <use style=\"fill:#9e0142;stroke:#9e0142;\" x=\"408.846746\" xlink:href=\"#C0_0_16f4483a73\" y=\"99.882212\"/>\n    </g>\n    <g clip-path=\"url(#pf4b6bcce69)\">\n     <use style=\"fill:#9e0142;stroke:#9e0142;\" x=\"74.268228\" xlink:href=\"#C0_0_16f4483a73\" y=\"99.632379\"/>\n    </g>\n    <g clip-path=\"url(#pf4b6bcce69)\">\n     <use style=\"fill:#5e4fa2;stroke:#5e4fa2;\" x=\"107.074411\" xlink:href=\"#C0_0_16f4483a73\" y=\"100.893407\"/>\n    </g>\n    <g clip-path=\"url(#pf4b6bcce69)\">\n     <use style=\"fill:#5e4fa2;stroke:#5e4fa2;\" x=\"156.932542\" xlink:href=\"#C0_0_16f4483a73\" y=\"174.730806\"/>\n    </g>\n    <g clip-path=\"url(#pf4b6bcce69)\">\n     <use style=\"fill:#5e4fa2;stroke:#5e4fa2;\" x=\"351.745512\" xlink:href=\"#C0_0_16f4483a73\" y=\"86.850746\"/>\n    </g>\n    <g clip-path=\"url(#pf4b6bcce69)\">\n     <use style=\"fill:#9e0142;stroke:#9e0142;\" x=\"352.575586\" xlink:href=\"#C0_0_16f4483a73\" y=\"58.374737\"/>\n    </g>\n    <g clip-path=\"url(#pf4b6bcce69)\">\n     <use style=\"fill:#5e4fa2;stroke:#5e4fa2;\" x=\"145.704234\" xlink:href=\"#C0_0_16f4483a73\" y=\"57.006797\"/>\n    </g>\n    <g clip-path=\"url(#pf4b6bcce69)\">\n     <use style=\"fill:#9e0142;stroke:#9e0142;\" x=\"389.470674\" xlink:href=\"#C0_0_16f4483a73\" y=\"113.379006\"/>\n    </g>\n    <g clip-path=\"url(#pf4b6bcce69)\">\n     <use style=\"fill:#5e4fa2;stroke:#5e4fa2;\" x=\"330.684221\" xlink:href=\"#C0_0_16f4483a73\" y=\"157.687905\"/>\n    </g>\n    <g clip-path=\"url(#pf4b6bcce69)\">\n     <use style=\"fill:#5e4fa2;stroke:#5e4fa2;\" x=\"352.279156\" xlink:href=\"#C0_0_16f4483a73\" y=\"158.080583\"/>\n    </g>\n    <g clip-path=\"url(#pf4b6bcce69)\">\n     <use style=\"fill:#5e4fa2;stroke:#5e4fa2;\" x=\"309.47197\" xlink:href=\"#C0_0_16f4483a73\" y=\"50.877901\"/>\n    </g>\n    <g clip-path=\"url(#pf4b6bcce69)\">\n     <use style=\"fill:#5e4fa2;stroke:#5e4fa2;\" x=\"359.556814\" xlink:href=\"#C0_0_16f4483a73\" y=\"146.204264\"/>\n    </g>\n    <g clip-path=\"url(#pf4b6bcce69)\">\n     <use style=\"fill:#9e0142;stroke:#9e0142;\" x=\"289.72184\" xlink:href=\"#C0_0_16f4483a73\" y=\"201.824404\"/>\n    </g>\n    <g clip-path=\"url(#pf4b6bcce69)\">\n     <use style=\"fill:#9e0142;stroke:#9e0142;\" x=\"91.968818\" xlink:href=\"#C0_0_16f4483a73\" y=\"63.445782\"/>\n    </g>\n    <g clip-path=\"url(#pf4b6bcce69)\">\n     <use style=\"fill:#5e4fa2;stroke:#5e4fa2;\" x=\"282.060107\" xlink:href=\"#C0_0_16f4483a73\" y=\"51.366219\"/>\n    </g>\n    <g clip-path=\"url(#pf4b6bcce69)\">\n     <use style=\"fill:#5e4fa2;stroke:#5e4fa2;\" x=\"130.585708\" xlink:href=\"#C0_0_16f4483a73\" y=\"85.163499\"/>\n    </g>\n    <g clip-path=\"url(#pf4b6bcce69)\">\n     <use style=\"fill:#5e4fa2;stroke:#5e4fa2;\" x=\"218.912841\" xlink:href=\"#C0_0_16f4483a73\" y=\"44.76297\"/>\n    </g>\n    <g clip-path=\"url(#pf4b6bcce69)\">\n     <use style=\"fill:#5e4fa2;stroke:#5e4fa2;\" x=\"361.187228\" xlink:href=\"#C0_0_16f4483a73\" y=\"90.818064\"/>\n    </g>\n    <g clip-path=\"url(#pf4b6bcce69)\">\n     <use style=\"fill:#5e4fa2;stroke:#5e4fa2;\" x=\"376.77337\" xlink:href=\"#C0_0_16f4483a73\" y=\"103.264644\"/>\n    </g>\n    <g clip-path=\"url(#pf4b6bcce69)\">\n     <use style=\"fill:#9e0142;stroke:#9e0142;\" x=\"165.300979\" xlink:href=\"#C0_0_16f4483a73\" y=\"202.804528\"/>\n    </g>\n    <g clip-path=\"url(#pf4b6bcce69)\">\n     <use style=\"fill:#5e4fa2;stroke:#5e4fa2;\" x=\"353.914895\" xlink:href=\"#C0_0_16f4483a73\" y=\"78.672389\"/>\n    </g>\n    <g clip-path=\"url(#pf4b6bcce69)\">\n     <use style=\"fill:#9e0142;stroke:#9e0142;\" x=\"241.975275\" xlink:href=\"#C0_0_16f4483a73\" y=\"202.211448\"/>\n    </g>\n    <g clip-path=\"url(#pf4b6bcce69)\">\n     <use style=\"fill:#5e4fa2;stroke:#5e4fa2;\" x=\"152.724658\" xlink:href=\"#C0_0_16f4483a73\" y=\"178.131326\"/>\n    </g>\n    <g clip-path=\"url(#pf4b6bcce69)\">\n     <use style=\"fill:#9e0142;stroke:#9e0142;\" x=\"227.760108\" xlink:href=\"#C0_0_16f4483a73\" y=\"23.166271\"/>\n    </g>\n    <g clip-path=\"url(#pf4b6bcce69)\">\n     <use style=\"fill:#5e4fa2;stroke:#5e4fa2;\" x=\"317.154581\" xlink:href=\"#C0_0_16f4483a73\" y=\"63.977416\"/>\n    </g>\n    <g clip-path=\"url(#pf4b6bcce69)\">\n     <use style=\"fill:#9e0142;stroke:#9e0142;\" x=\"97.051602\" xlink:href=\"#C0_0_16f4483a73\" y=\"156.561402\"/>\n    </g>\n    <g clip-path=\"url(#pf4b6bcce69)\">\n     <use style=\"fill:#5e4fa2;stroke:#5e4fa2;\" x=\"137.523962\" xlink:href=\"#C0_0_16f4483a73\" y=\"165.980924\"/>\n    </g>\n    <g clip-path=\"url(#pf4b6bcce69)\">\n     <use style=\"fill:#5e4fa2;stroke:#5e4fa2;\" x=\"318.143234\" xlink:href=\"#C0_0_16f4483a73\" y=\"165.475348\"/>\n    </g>\n    <g clip-path=\"url(#pf4b6bcce69)\">\n     <use style=\"fill:#9e0142;stroke:#9e0142;\" x=\"352.781868\" xlink:href=\"#C0_0_16f4483a73\" y=\"50.685522\"/>\n    </g>\n    <g clip-path=\"url(#pf4b6bcce69)\">\n     <use style=\"fill:#9e0142;stroke:#9e0142;\" x=\"227.037448\" xlink:href=\"#C0_0_16f4483a73\" y=\"208.919101\"/>\n    </g>\n    <g clip-path=\"url(#pf4b6bcce69)\">\n     <use style=\"fill:#9e0142;stroke:#9e0142;\" x=\"345.772103\" xlink:href=\"#C0_0_16f4483a73\" y=\"176.13788\"/>\n    </g>\n    <g clip-path=\"url(#pf4b6bcce69)\">\n     <use style=\"fill:#9e0142;stroke:#9e0142;\" x=\"207.04459\" xlink:href=\"#C0_0_16f4483a73\" y=\"17.083636\"/>\n    </g>\n    <g clip-path=\"url(#pf4b6bcce69)\">\n     <use style=\"fill:#9e0142;stroke:#9e0142;\" x=\"210.987168\" xlink:href=\"#C0_0_16f4483a73\" y=\"205.484444\"/>\n    </g>\n    <g clip-path=\"url(#pf4b6bcce69)\">\n     <use style=\"fill:#5e4fa2;stroke:#5e4fa2;\" x=\"355.238206\" xlink:href=\"#C0_0_16f4483a73\" y=\"131.056262\"/>\n    </g>\n    <g clip-path=\"url(#pf4b6bcce69)\">\n     <use style=\"fill:#9e0142;stroke:#9e0142;\" x=\"390.492799\" xlink:href=\"#C0_0_16f4483a73\" y=\"97.005807\"/>\n    </g>\n    <g clip-path=\"url(#pf4b6bcce69)\">\n     <use style=\"fill:#9e0142;stroke:#9e0142;\" x=\"95.347089\" xlink:href=\"#C0_0_16f4483a73\" y=\"167.00016\"/>\n    </g>\n    <g clip-path=\"url(#pf4b6bcce69)\">\n     <use style=\"fill:#9e0142;stroke:#9e0142;\" x=\"242.563382\" xlink:href=\"#C0_0_16f4483a73\" y=\"20.743248\"/>\n    </g>\n    <g clip-path=\"url(#pf4b6bcce69)\">\n     <use style=\"fill:#5e4fa2;stroke:#5e4fa2;\" x=\"313.543478\" xlink:href=\"#C0_0_16f4483a73\" y=\"49.490994\"/>\n    </g>\n    <g clip-path=\"url(#pf4b6bcce69)\">\n     <use style=\"fill:#9e0142;stroke:#9e0142;\" x=\"92.675007\" xlink:href=\"#C0_0_16f4483a73\" y=\"86.93525\"/>\n    </g>\n    <g clip-path=\"url(#pf4b6bcce69)\">\n     <use style=\"fill:#5e4fa2;stroke:#5e4fa2;\" x=\"212.031907\" xlink:href=\"#C0_0_16f4483a73\" y=\"187.476809\"/>\n    </g>\n    <g clip-path=\"url(#pf4b6bcce69)\">\n     <use style=\"fill:#9e0142;stroke:#9e0142;\" x=\"191.896795\" xlink:href=\"#C0_0_16f4483a73\" y=\"203.288332\"/>\n    </g>\n    <g clip-path=\"url(#pf4b6bcce69)\">\n     <use style=\"fill:#9e0142;stroke:#9e0142;\" x=\"259.368273\" xlink:href=\"#C0_0_16f4483a73\" y=\"27.51458\"/>\n    </g>\n    <g clip-path=\"url(#pf4b6bcce69)\">\n     <use style=\"fill:#5e4fa2;stroke:#5e4fa2;\" x=\"266.292658\" xlink:href=\"#C0_0_16f4483a73\" y=\"37.679591\"/>\n    </g>\n    <g clip-path=\"url(#pf4b6bcce69)\">\n     <use style=\"fill:#5e4fa2;stroke:#5e4fa2;\" x=\"351.21297\" xlink:href=\"#C0_0_16f4483a73\" y=\"137.705698\"/>\n    </g>\n    <g clip-path=\"url(#pf4b6bcce69)\">\n     <use style=\"fill:#5e4fa2;stroke:#5e4fa2;\" x=\"137.122252\" xlink:href=\"#C0_0_16f4483a73\" y=\"180.437929\"/>\n    </g>\n    <g clip-path=\"url(#pf4b6bcce69)\">\n     <use style=\"fill:#5e4fa2;stroke:#5e4fa2;\" x=\"198.042869\" xlink:href=\"#C0_0_16f4483a73\" y=\"47.848001\"/>\n    </g>\n    <g clip-path=\"url(#pf4b6bcce69)\">\n     <use style=\"fill:#5e4fa2;stroke:#5e4fa2;\" x=\"324.972552\" xlink:href=\"#C0_0_16f4483a73\" y=\"172.937238\"/>\n    </g>\n    <g clip-path=\"url(#pf4b6bcce69)\">\n     <use style=\"fill:#5e4fa2;stroke:#5e4fa2;\" x=\"189.159881\" xlink:href=\"#C0_0_16f4483a73\" y=\"187.483479\"/>\n    </g>\n    <g clip-path=\"url(#pf4b6bcce69)\">\n     <use style=\"fill:#9e0142;stroke:#9e0142;\" x=\"348.897938\" xlink:href=\"#C0_0_16f4483a73\" y=\"50.640444\"/>\n    </g>\n    <g clip-path=\"url(#pf4b6bcce69)\">\n     <use style=\"fill:#9e0142;stroke:#9e0142;\" x=\"367.121727\" xlink:href=\"#C0_0_16f4483a73\" y=\"66.128757\"/>\n    </g>\n    <g clip-path=\"url(#pf4b6bcce69)\">\n     <use style=\"fill:#9e0142;stroke:#9e0142;\" x=\"117.042787\" xlink:href=\"#C0_0_16f4483a73\" y=\"171.367364\"/>\n    </g>\n    <g clip-path=\"url(#pf4b6bcce69)\">\n     <use style=\"fill:#5e4fa2;stroke:#5e4fa2;\" x=\"366.475504\" xlink:href=\"#C0_0_16f4483a73\" y=\"126.397947\"/>\n    </g>\n    <g clip-path=\"url(#pf4b6bcce69)\">\n     <use style=\"fill:#5e4fa2;stroke:#5e4fa2;\" x=\"318.307156\" xlink:href=\"#C0_0_16f4483a73\" y=\"67.453639\"/>\n    </g>\n    <g clip-path=\"url(#pf4b6bcce69)\">\n     <use style=\"fill:#9e0142;stroke:#9e0142;\" x=\"190.470991\" xlink:href=\"#C0_0_16f4483a73\" y=\"25.030513\"/>\n    </g>\n    <g clip-path=\"url(#pf4b6bcce69)\">\n     <use style=\"fill:#5e4fa2;stroke:#5e4fa2;\" x=\"328.573164\" xlink:href=\"#C0_0_16f4483a73\" y=\"172.628755\"/>\n    </g>\n    <g clip-path=\"url(#pf4b6bcce69)\">\n     <use style=\"fill:#5e4fa2;stroke:#5e4fa2;\" x=\"128.731861\" xlink:href=\"#C0_0_16f4483a73\" y=\"161.310883\"/>\n    </g>\n    <g clip-path=\"url(#pf4b6bcce69)\">\n     <use style=\"fill:#9e0142;stroke:#9e0142;\" x=\"290.77907\" xlink:href=\"#C0_0_16f4483a73\" y=\"204.061102\"/>\n    </g>\n    <g clip-path=\"url(#pf4b6bcce69)\">\n     <use style=\"fill:#5e4fa2;stroke:#5e4fa2;\" x=\"209.898567\" xlink:href=\"#C0_0_16f4483a73\" y=\"197.207018\"/>\n    </g>\n    <g clip-path=\"url(#pf4b6bcce69)\">\n     <use style=\"fill:#9e0142;stroke:#9e0142;\" x=\"218.854415\" xlink:href=\"#C0_0_16f4483a73\" y=\"24.006598\"/>\n    </g>\n    <g clip-path=\"url(#pf4b6bcce69)\">\n     <use style=\"fill:#9e0142;stroke:#9e0142;\" x=\"62.068054\" xlink:href=\"#C0_0_16f4483a73\" y=\"129.407062\"/>\n    </g>\n    <g clip-path=\"url(#pf4b6bcce69)\">\n     <use style=\"fill:#5e4fa2;stroke:#5e4fa2;\" x=\"335.091856\" xlink:href=\"#C0_0_16f4483a73\" y=\"158.26566\"/>\n    </g>\n    <g clip-path=\"url(#pf4b6bcce69)\">\n     <use style=\"fill:#9e0142;stroke:#9e0142;\" x=\"373.328321\" xlink:href=\"#C0_0_16f4483a73\" y=\"150.955155\"/>\n    </g>\n    <g clip-path=\"url(#pf4b6bcce69)\">\n     <use style=\"fill:#5e4fa2;stroke:#5e4fa2;\" x=\"227.667428\" xlink:href=\"#C0_0_16f4483a73\" y=\"37.505126\"/>\n    </g>\n    <g clip-path=\"url(#pf4b6bcce69)\">\n     <use style=\"fill:#5e4fa2;stroke:#5e4fa2;\" x=\"228.65241\" xlink:href=\"#C0_0_16f4483a73\" y=\"189.528951\"/>\n    </g>\n    <g clip-path=\"url(#pf4b6bcce69)\">\n     <use style=\"fill:#9e0142;stroke:#9e0142;\" x=\"268.002226\" xlink:href=\"#C0_0_16f4483a73\" y=\"214.756364\"/>\n    </g>\n    <g clip-path=\"url(#pf4b6bcce69)\">\n     <use style=\"fill:#9e0142;stroke:#9e0142;\" x=\"149.418413\" xlink:href=\"#C0_0_16f4483a73\" y=\"189.294349\"/>\n    </g>\n    <g clip-path=\"url(#pf4b6bcce69)\">\n     <use style=\"fill:#9e0142;stroke:#9e0142;\" x=\"382.495721\" xlink:href=\"#C0_0_16f4483a73\" y=\"91.117723\"/>\n    </g>\n    <g clip-path=\"url(#pf4b6bcce69)\">\n     <use style=\"fill:#5e4fa2;stroke:#5e4fa2;\" x=\"107.18818\" xlink:href=\"#C0_0_16f4483a73\" y=\"121.945556\"/>\n    </g>\n    <g clip-path=\"url(#pf4b6bcce69)\">\n     <use style=\"fill:#5e4fa2;stroke:#5e4fa2;\" x=\"259.986088\" xlink:href=\"#C0_0_16f4483a73\" y=\"48.39311\"/>\n    </g>\n    <g clip-path=\"url(#pf4b6bcce69)\">\n     <use style=\"fill:#9e0142;stroke:#9e0142;\" x=\"356.516647\" xlink:href=\"#C0_0_16f4483a73\" y=\"183.67301\"/>\n    </g>\n    <g clip-path=\"url(#pf4b6bcce69)\">\n     <use style=\"fill:#9e0142;stroke:#9e0142;\" x=\"289.688051\" xlink:href=\"#C0_0_16f4483a73\" y=\"28.081194\"/>\n    </g>\n    <g clip-path=\"url(#pf4b6bcce69)\">\n     <use style=\"fill:#5e4fa2;stroke:#5e4fa2;\" x=\"322.962481\" xlink:href=\"#C0_0_16f4483a73\" y=\"62.625159\"/>\n    </g>\n    <g clip-path=\"url(#pf4b6bcce69)\">\n     <use style=\"fill:#9e0142;stroke:#9e0142;\" x=\"132.638635\" xlink:href=\"#C0_0_16f4483a73\" y=\"53.724168\"/>\n    </g>\n    <g clip-path=\"url(#pf4b6bcce69)\">\n     <use style=\"fill:#9e0142;stroke:#9e0142;\" x=\"294.761462\" xlink:href=\"#C0_0_16f4483a73\" y=\"31.072741\"/>\n    </g>\n    <g clip-path=\"url(#pf4b6bcce69)\">\n     <use style=\"fill:#5e4fa2;stroke:#5e4fa2;\" x=\"127.175845\" xlink:href=\"#C0_0_16f4483a73\" y=\"153.317974\"/>\n    </g>\n    <g clip-path=\"url(#pf4b6bcce69)\">\n     <use style=\"fill:#5e4fa2;stroke:#5e4fa2;\" x=\"354.942464\" xlink:href=\"#C0_0_16f4483a73\" y=\"64.957034\"/>\n    </g>\n    <g clip-path=\"url(#pf4b6bcce69)\">\n     <use style=\"fill:#9e0142;stroke:#9e0142;\" x=\"170.384896\" xlink:href=\"#C0_0_16f4483a73\" y=\"37.620072\"/>\n    </g>\n    <g clip-path=\"url(#pf4b6bcce69)\">\n     <use style=\"fill:#5e4fa2;stroke:#5e4fa2;\" x=\"132.348875\" xlink:href=\"#C0_0_16f4483a73\" y=\"155.701995\"/>\n    </g>\n    <g clip-path=\"url(#pf4b6bcce69)\">\n     <use style=\"fill:#5e4fa2;stroke:#5e4fa2;\" x=\"357.438705\" xlink:href=\"#C0_0_16f4483a73\" y=\"84.177655\"/>\n    </g>\n    <g clip-path=\"url(#pf4b6bcce69)\">\n     <use style=\"fill:#5e4fa2;stroke:#5e4fa2;\" x=\"128.978679\" xlink:href=\"#C0_0_16f4483a73\" y=\"77.799132\"/>\n    </g>\n    <g clip-path=\"url(#pf4b6bcce69)\">\n     <use style=\"fill:#9e0142;stroke:#9e0142;\" x=\"268.604489\" xlink:href=\"#C0_0_16f4483a73\" y=\"25.050609\"/>\n    </g>\n    <g clip-path=\"url(#pf4b6bcce69)\">\n     <use style=\"fill:#9e0142;stroke:#9e0142;\" x=\"124.735738\" xlink:href=\"#C0_0_16f4483a73\" y=\"175.847058\"/>\n    </g>\n    <g clip-path=\"url(#pf4b6bcce69)\">\n     <use style=\"fill:#9e0142;stroke:#9e0142;\" x=\"406.254187\" xlink:href=\"#C0_0_16f4483a73\" y=\"125.357317\"/>\n    </g>\n    <g clip-path=\"url(#pf4b6bcce69)\">\n     <use style=\"fill:#9e0142;stroke:#9e0142;\" x=\"250.713071\" xlink:href=\"#C0_0_16f4483a73\" y=\"23.685765\"/>\n    </g>\n    <g clip-path=\"url(#pf4b6bcce69)\">\n     <use style=\"fill:#5e4fa2;stroke:#5e4fa2;\" x=\"153.757254\" xlink:href=\"#C0_0_16f4483a73\" y=\"68.618608\"/>\n    </g>\n    <g clip-path=\"url(#pf4b6bcce69)\">\n     <use style=\"fill:#9e0142;stroke:#9e0142;\" x=\"94.050527\" xlink:href=\"#C0_0_16f4483a73\" y=\"62.8582\"/>\n    </g>\n    <g clip-path=\"url(#pf4b6bcce69)\">\n     <use style=\"fill:#5e4fa2;stroke:#5e4fa2;\" x=\"99.69444\" xlink:href=\"#C0_0_16f4483a73\" y=\"109.667042\"/>\n    </g>\n    <g clip-path=\"url(#pf4b6bcce69)\">\n     <use style=\"fill:#5e4fa2;stroke:#5e4fa2;\" x=\"102.890573\" xlink:href=\"#C0_0_16f4483a73\" y=\"120.506529\"/>\n    </g>\n    <g clip-path=\"url(#pf4b6bcce69)\">\n     <use style=\"fill:#9e0142;stroke:#9e0142;\" x=\"100.437601\" xlink:href=\"#C0_0_16f4483a73\" y=\"80.615295\"/>\n    </g>\n    <g clip-path=\"url(#pf4b6bcce69)\">\n     <use style=\"fill:#5e4fa2;stroke:#5e4fa2;\" x=\"354.538896\" xlink:href=\"#C0_0_16f4483a73\" y=\"103.409451\"/>\n    </g>\n    <g clip-path=\"url(#pf4b6bcce69)\">\n     <use style=\"fill:#5e4fa2;stroke:#5e4fa2;\" x=\"234.200766\" xlink:href=\"#C0_0_16f4483a73\" y=\"50.670388\"/>\n    </g>\n    <g clip-path=\"url(#pf4b6bcce69)\">\n     <use style=\"fill:#5e4fa2;stroke:#5e4fa2;\" x=\"167.895649\" xlink:href=\"#C0_0_16f4483a73\" y=\"170.614375\"/>\n    </g>\n    <g clip-path=\"url(#pf4b6bcce69)\">\n     <use style=\"fill:#5e4fa2;stroke:#5e4fa2;\" x=\"223.508427\" xlink:href=\"#C0_0_16f4483a73\" y=\"187.228778\"/>\n    </g>\n    <g clip-path=\"url(#pf4b6bcce69)\">\n     <use style=\"fill:#9e0142;stroke:#9e0142;\" x=\"170.252391\" xlink:href=\"#C0_0_16f4483a73\" y=\"21.649637\"/>\n    </g>\n    <g clip-path=\"url(#pf4b6bcce69)\">\n     <use style=\"fill:#5e4fa2;stroke:#5e4fa2;\" x=\"114.117389\" xlink:href=\"#C0_0_16f4483a73\" y=\"93.769864\"/>\n    </g>\n    <g clip-path=\"url(#pf4b6bcce69)\">\n     <use style=\"fill:#5e4fa2;stroke:#5e4fa2;\" x=\"146.67552\" xlink:href=\"#C0_0_16f4483a73\" y=\"63.499514\"/>\n    </g>\n    <g clip-path=\"url(#pf4b6bcce69)\">\n     <use style=\"fill:#9e0142;stroke:#9e0142;\" x=\"221.421939\" xlink:href=\"#C0_0_16f4483a73\" y=\"22.565032\"/>\n    </g>\n    <g clip-path=\"url(#pf4b6bcce69)\">\n     <use style=\"fill:#9e0142;stroke:#9e0142;\" x=\"349.501316\" xlink:href=\"#C0_0_16f4483a73\" y=\"38.947431\"/>\n    </g>\n    <g clip-path=\"url(#pf4b6bcce69)\">\n     <use style=\"fill:#9e0142;stroke:#9e0142;\" x=\"149.18187\" xlink:href=\"#C0_0_16f4483a73\" y=\"194.268551\"/>\n    </g>\n    <g clip-path=\"url(#pf4b6bcce69)\">\n     <use style=\"fill:#9e0142;stroke:#9e0142;\" x=\"96.351245\" xlink:href=\"#C0_0_16f4483a73\" y=\"89.243189\"/>\n    </g>\n    <g clip-path=\"url(#pf4b6bcce69)\">\n     <use style=\"fill:#9e0142;stroke:#9e0142;\" x=\"147.095758\" xlink:href=\"#C0_0_16f4483a73\" y=\"43.656917\"/>\n    </g>\n    <g clip-path=\"url(#pf4b6bcce69)\">\n     <use style=\"fill:#9e0142;stroke:#9e0142;\" x=\"378.670493\" xlink:href=\"#C0_0_16f4483a73\" y=\"166.467261\"/>\n    </g>\n    <g clip-path=\"url(#pf4b6bcce69)\">\n     <use style=\"fill:#9e0142;stroke:#9e0142;\" x=\"330.188761\" xlink:href=\"#C0_0_16f4483a73\" y=\"40.866726\"/>\n    </g>\n    <g clip-path=\"url(#pf4b6bcce69)\">\n     <use style=\"fill:#5e4fa2;stroke:#5e4fa2;\" x=\"124.239125\" xlink:href=\"#C0_0_16f4483a73\" y=\"137.956334\"/>\n    </g>\n    <g clip-path=\"url(#pf4b6bcce69)\">\n     <use style=\"fill:#9e0142;stroke:#9e0142;\" x=\"352.721426\" xlink:href=\"#C0_0_16f4483a73\" y=\"175.236136\"/>\n    </g>\n    <g clip-path=\"url(#pf4b6bcce69)\">\n     <use style=\"fill:#5e4fa2;stroke:#5e4fa2;\" x=\"157.225859\" xlink:href=\"#C0_0_16f4483a73\" y=\"49.864784\"/>\n    </g>\n    <g clip-path=\"url(#pf4b6bcce69)\">\n     <use style=\"fill:#9e0142;stroke:#9e0142;\" x=\"267.201577\" xlink:href=\"#C0_0_16f4483a73\" y=\"202.379449\"/>\n    </g>\n    <g clip-path=\"url(#pf4b6bcce69)\">\n     <use style=\"fill:#5e4fa2;stroke:#5e4fa2;\" x=\"358.922165\" xlink:href=\"#C0_0_16f4483a73\" y=\"124.447297\"/>\n    </g>\n    <g clip-path=\"url(#pf4b6bcce69)\">\n     <use style=\"fill:#9e0142;stroke:#9e0142;\" x=\"384.793037\" xlink:href=\"#C0_0_16f4483a73\" y=\"147.066333\"/>\n    </g>\n    <g clip-path=\"url(#pf4b6bcce69)\">\n     <use style=\"fill:#5e4fa2;stroke:#5e4fa2;\" x=\"108.68356\" xlink:href=\"#C0_0_16f4483a73\" y=\"130.89608\"/>\n    </g>\n    <g clip-path=\"url(#pf4b6bcce69)\">\n     <use style=\"fill:#5e4fa2;stroke:#5e4fa2;\" x=\"361.965613\" xlink:href=\"#C0_0_16f4483a73\" y=\"97.282396\"/>\n    </g>\n    <g clip-path=\"url(#pf4b6bcce69)\">\n     <use style=\"fill:#5e4fa2;stroke:#5e4fa2;\" x=\"290.272951\" xlink:href=\"#C0_0_16f4483a73\" y=\"183.532761\"/>\n    </g>\n    <g clip-path=\"url(#pf4b6bcce69)\">\n     <use style=\"fill:#9e0142;stroke:#9e0142;\" x=\"126.151206\" xlink:href=\"#C0_0_16f4483a73\" y=\"47.292753\"/>\n    </g>\n    <g clip-path=\"url(#pf4b6bcce69)\">\n     <use style=\"fill:#9e0142;stroke:#9e0142;\" x=\"88.217008\" xlink:href=\"#C0_0_16f4483a73\" y=\"61.92669\"/>\n    </g>\n    <g clip-path=\"url(#pf4b6bcce69)\">\n     <use style=\"fill:#5e4fa2;stroke:#5e4fa2;\" x=\"312.204201\" xlink:href=\"#C0_0_16f4483a73\" y=\"50.935323\"/>\n    </g>\n    <g clip-path=\"url(#pf4b6bcce69)\">\n     <use style=\"fill:#5e4fa2;stroke:#5e4fa2;\" x=\"311.455767\" xlink:href=\"#C0_0_16f4483a73\" y=\"52.688081\"/>\n    </g>\n    <g clip-path=\"url(#pf4b6bcce69)\">\n     <use style=\"fill:#9e0142;stroke:#9e0142;\" x=\"78.761014\" xlink:href=\"#C0_0_16f4483a73\" y=\"149.431608\"/>\n    </g>\n    <g clip-path=\"url(#pf4b6bcce69)\">\n     <use style=\"fill:#5e4fa2;stroke:#5e4fa2;\" x=\"288.600258\" xlink:href=\"#C0_0_16f4483a73\" y=\"54.853226\"/>\n    </g>\n    <g clip-path=\"url(#pf4b6bcce69)\">\n     <use style=\"fill:#9e0142;stroke:#9e0142;\" x=\"237.930449\" xlink:href=\"#C0_0_16f4483a73\" y=\"208.513272\"/>\n    </g>\n    <g clip-path=\"url(#pf4b6bcce69)\">\n     <use style=\"fill:#5e4fa2;stroke:#5e4fa2;\" x=\"274.684413\" xlink:href=\"#C0_0_16f4483a73\" y=\"181.531643\"/>\n    </g>\n    <g clip-path=\"url(#pf4b6bcce69)\">\n     <use style=\"fill:#5e4fa2;stroke:#5e4fa2;\" x=\"182.578086\" xlink:href=\"#C0_0_16f4483a73\" y=\"175.72649\"/>\n    </g>\n    <g clip-path=\"url(#pf4b6bcce69)\">\n     <use style=\"fill:#9e0142;stroke:#9e0142;\" x=\"276.831062\" xlink:href=\"#C0_0_16f4483a73\" y=\"211.001374\"/>\n    </g>\n    <g clip-path=\"url(#pf4b6bcce69)\">\n     <use style=\"fill:#5e4fa2;stroke:#5e4fa2;\" x=\"173.59198\" xlink:href=\"#C0_0_16f4483a73\" y=\"46.963975\"/>\n    </g>\n    <g clip-path=\"url(#pf4b6bcce69)\">\n     <use style=\"fill:#9e0142;stroke:#9e0142;\" x=\"380.501151\" xlink:href=\"#C0_0_16f4483a73\" y=\"130.864935\"/>\n    </g>\n    <g clip-path=\"url(#pf4b6bcce69)\">\n     <use style=\"fill:#5e4fa2;stroke:#5e4fa2;\" x=\"372.171991\" xlink:href=\"#C0_0_16f4483a73\" y=\"135.281151\"/>\n    </g>\n    <g clip-path=\"url(#pf4b6bcce69)\">\n     <use style=\"fill:#5e4fa2;stroke:#5e4fa2;\" x=\"219.697536\" xlink:href=\"#C0_0_16f4483a73\" y=\"194.240928\"/>\n    </g>\n    <g clip-path=\"url(#pf4b6bcce69)\">\n     <use style=\"fill:#9e0142;stroke:#9e0142;\" x=\"130.366421\" xlink:href=\"#C0_0_16f4483a73\" y=\"45.317173\"/>\n    </g>\n    <g clip-path=\"url(#pf4b6bcce69)\">\n     <use style=\"fill:#5e4fa2;stroke:#5e4fa2;\" x=\"258.57329\" xlink:href=\"#C0_0_16f4483a73\" y=\"184.082149\"/>\n    </g>\n    <g clip-path=\"url(#pf4b6bcce69)\">\n     <use style=\"fill:#5e4fa2;stroke:#5e4fa2;\" x=\"276.205979\" xlink:href=\"#C0_0_16f4483a73\" y=\"31.093076\"/>\n    </g>\n    <g clip-path=\"url(#pf4b6bcce69)\">\n     <use style=\"fill:#5e4fa2;stroke:#5e4fa2;\" x=\"199.535719\" xlink:href=\"#C0_0_16f4483a73\" y=\"46.021918\"/>\n    </g>\n    <g clip-path=\"url(#pf4b6bcce69)\">\n     <use style=\"fill:#5e4fa2;stroke:#5e4fa2;\" x=\"212.5828\" xlink:href=\"#C0_0_16f4483a73\" y=\"46.58327\"/>\n    </g>\n    <g clip-path=\"url(#pf4b6bcce69)\">\n     <use style=\"fill:#9e0142;stroke:#9e0142;\" x=\"138.646387\" xlink:href=\"#C0_0_16f4483a73\" y=\"196.926093\"/>\n    </g>\n    <g clip-path=\"url(#pf4b6bcce69)\">\n     <use style=\"fill:#5e4fa2;stroke:#5e4fa2;\" x=\"128.339697\" xlink:href=\"#C0_0_16f4483a73\" y=\"78.300823\"/>\n    </g>\n    <g clip-path=\"url(#pf4b6bcce69)\">\n     <use style=\"fill:#9e0142;stroke:#9e0142;\" x=\"346.087627\" xlink:href=\"#C0_0_16f4483a73\" y=\"189.463196\"/>\n    </g>\n    <g clip-path=\"url(#pf4b6bcce69)\">\n     <use style=\"fill:#9e0142;stroke:#9e0142;\" x=\"140.516748\" xlink:href=\"#C0_0_16f4483a73\" y=\"194.9133\"/>\n    </g>\n    <g clip-path=\"url(#pf4b6bcce69)\">\n     <use style=\"fill:#5e4fa2;stroke:#5e4fa2;\" x=\"270.805127\" xlink:href=\"#C0_0_16f4483a73\" y=\"183.209595\"/>\n    </g>\n    <g clip-path=\"url(#pf4b6bcce69)\">\n     <use style=\"fill:#9e0142;stroke:#9e0142;\" x=\"71.227914\" xlink:href=\"#C0_0_16f4483a73\" y=\"140.640999\"/>\n    </g>\n    <g clip-path=\"url(#pf4b6bcce69)\">\n     <use style=\"fill:#5e4fa2;stroke:#5e4fa2;\" x=\"251.011223\" xlink:href=\"#C0_0_16f4483a73\" y=\"37.374097\"/>\n    </g>\n    <g clip-path=\"url(#pf4b6bcce69)\">\n     <use style=\"fill:#9e0142;stroke:#9e0142;\" x=\"108.798161\" xlink:href=\"#C0_0_16f4483a73\" y=\"62.139596\"/>\n    </g>\n    <g clip-path=\"url(#pf4b6bcce69)\">\n     <use style=\"fill:#9e0142;stroke:#9e0142;\" x=\"107.586804\" xlink:href=\"#C0_0_16f4483a73\" y=\"175.21048\"/>\n    </g>\n    <g clip-path=\"url(#pf4b6bcce69)\">\n     <use style=\"fill:#9e0142;stroke:#9e0142;\" x=\"389.492365\" xlink:href=\"#C0_0_16f4483a73\" y=\"148.274749\"/>\n    </g>\n    <g clip-path=\"url(#pf4b6bcce69)\">\n     <use style=\"fill:#5e4fa2;stroke:#5e4fa2;\" x=\"111.788327\" xlink:href=\"#C0_0_16f4483a73\" y=\"109.01085\"/>\n    </g>\n    <g clip-path=\"url(#pf4b6bcce69)\">\n     <use style=\"fill:#9e0142;stroke:#9e0142;\" x=\"411.328267\" xlink:href=\"#C0_0_16f4483a73\" y=\"122.244016\"/>\n    </g>\n    <g clip-path=\"url(#pf4b6bcce69)\">\n     <use style=\"fill:#5e4fa2;stroke:#5e4fa2;\" x=\"359.812567\" xlink:href=\"#C0_0_16f4483a73\" y=\"103.190983\"/>\n    </g>\n    <g clip-path=\"url(#pf4b6bcce69)\">\n     <use style=\"fill:#5e4fa2;stroke:#5e4fa2;\" x=\"277.033328\" xlink:href=\"#C0_0_16f4483a73\" y=\"182.480361\"/>\n    </g>\n    <g clip-path=\"url(#pf4b6bcce69)\">\n     <use style=\"fill:#5e4fa2;stroke:#5e4fa2;\" x=\"331.850571\" xlink:href=\"#C0_0_16f4483a73\" y=\"148.370487\"/>\n    </g>\n    <g clip-path=\"url(#pf4b6bcce69)\">\n     <use style=\"fill:#9e0142;stroke:#9e0142;\" x=\"83.642017\" xlink:href=\"#C0_0_16f4483a73\" y=\"137.145252\"/>\n    </g>\n    <g clip-path=\"url(#pf4b6bcce69)\">\n     <use style=\"fill:#9e0142;stroke:#9e0142;\" x=\"307.009349\" xlink:href=\"#C0_0_16f4483a73\" y=\"198.368733\"/>\n    </g>\n    <g clip-path=\"url(#pf4b6bcce69)\">\n     <use style=\"fill:#5e4fa2;stroke:#5e4fa2;\" x=\"109.63\" xlink:href=\"#C0_0_16f4483a73\" y=\"144.088501\"/>\n    </g>\n    <g clip-path=\"url(#pf4b6bcce69)\">\n     <use style=\"fill:#5e4fa2;stroke:#5e4fa2;\" x=\"118.114715\" xlink:href=\"#C0_0_16f4483a73\" y=\"137.689461\"/>\n    </g>\n    <g clip-path=\"url(#pf4b6bcce69)\">\n     <use style=\"fill:#9e0142;stroke:#9e0142;\" x=\"367.928852\" xlink:href=\"#C0_0_16f4483a73\" y=\"69.465934\"/>\n    </g>\n    <g clip-path=\"url(#pf4b6bcce69)\">\n     <use style=\"fill:#9e0142;stroke:#9e0142;\" x=\"140.841122\" xlink:href=\"#C0_0_16f4483a73\" y=\"193.169449\"/>\n    </g>\n    <g clip-path=\"url(#pf4b6bcce69)\">\n     <use style=\"fill:#5e4fa2;stroke:#5e4fa2;\" x=\"128.883762\" xlink:href=\"#C0_0_16f4483a73\" y=\"167.571942\"/>\n    </g>\n    <g clip-path=\"url(#pf4b6bcce69)\">\n     <use style=\"fill:#9e0142;stroke:#9e0142;\" x=\"197.026008\" xlink:href=\"#C0_0_16f4483a73\" y=\"28.606473\"/>\n    </g>\n    <g clip-path=\"url(#pf4b6bcce69)\">\n     <use style=\"fill:#5e4fa2;stroke:#5e4fa2;\" x=\"127.970878\" xlink:href=\"#C0_0_16f4483a73\" y=\"68.892907\"/>\n    </g>\n    <g clip-path=\"url(#pf4b6bcce69)\">\n     <use style=\"fill:#9e0142;stroke:#9e0142;\" x=\"165.559399\" xlink:href=\"#C0_0_16f4483a73\" y=\"196.979298\"/>\n    </g>\n    <g clip-path=\"url(#pf4b6bcce69)\">\n     <use style=\"fill:#9e0142;stroke:#9e0142;\" x=\"230.960039\" xlink:href=\"#C0_0_16f4483a73\" y=\"24.879074\"/>\n    </g>\n    <g clip-path=\"url(#pf4b6bcce69)\">\n     <use style=\"fill:#5e4fa2;stroke:#5e4fa2;\" x=\"273.064474\" xlink:href=\"#C0_0_16f4483a73\" y=\"185.57639\"/>\n    </g>\n    <g clip-path=\"url(#pf4b6bcce69)\">\n     <use style=\"fill:#9e0142;stroke:#9e0142;\" x=\"355.503526\" xlink:href=\"#C0_0_16f4483a73\" y=\"48.005162\"/>\n    </g>\n    <g clip-path=\"url(#pf4b6bcce69)\">\n     <use style=\"fill:#5e4fa2;stroke:#5e4fa2;\" x=\"307.554735\" xlink:href=\"#C0_0_16f4483a73\" y=\"184.507652\"/>\n    </g>\n    <g clip-path=\"url(#pf4b6bcce69)\">\n     <use style=\"fill:#5e4fa2;stroke:#5e4fa2;\" x=\"131.147659\" xlink:href=\"#C0_0_16f4483a73\" y=\"76.79194\"/>\n    </g>\n    <g clip-path=\"url(#pf4b6bcce69)\">\n     <use style=\"fill:#9e0142;stroke:#9e0142;\" x=\"77.748591\" xlink:href=\"#C0_0_16f4483a73\" y=\"111.573786\"/>\n    </g>\n    <g clip-path=\"url(#pf4b6bcce69)\">\n     <use style=\"fill:#5e4fa2;stroke:#5e4fa2;\" x=\"172.570382\" xlink:href=\"#C0_0_16f4483a73\" y=\"44.109082\"/>\n    </g>\n    <g clip-path=\"url(#pf4b6bcce69)\">\n     <use style=\"fill:#5e4fa2;stroke:#5e4fa2;\" x=\"123.514496\" xlink:href=\"#C0_0_16f4483a73\" y=\"93.96181\"/>\n    </g>\n    <g clip-path=\"url(#pf4b6bcce69)\">\n     <use style=\"fill:#5e4fa2;stroke:#5e4fa2;\" x=\"310.710538\" xlink:href=\"#C0_0_16f4483a73\" y=\"179.038641\"/>\n    </g>\n    <g clip-path=\"url(#pf4b6bcce69)\">\n     <use style=\"fill:#5e4fa2;stroke:#5e4fa2;\" x=\"362.243761\" xlink:href=\"#C0_0_16f4483a73\" y=\"127.353301\"/>\n    </g>\n    <g clip-path=\"url(#pf4b6bcce69)\">\n     <use style=\"fill:#9e0142;stroke:#9e0142;\" x=\"400.101516\" xlink:href=\"#C0_0_16f4483a73\" y=\"120.771627\"/>\n    </g>\n    <g clip-path=\"url(#pf4b6bcce69)\">\n     <use style=\"fill:#5e4fa2;stroke:#5e4fa2;\" x=\"245.943733\" xlink:href=\"#C0_0_16f4483a73\" y=\"193.705901\"/>\n    </g>\n    <g clip-path=\"url(#pf4b6bcce69)\">\n     <use style=\"fill:#9e0142;stroke:#9e0142;\" x=\"401.490629\" xlink:href=\"#C0_0_16f4483a73\" y=\"107.256258\"/>\n    </g>\n    <g clip-path=\"url(#pf4b6bcce69)\">\n     <use style=\"fill:#5e4fa2;stroke:#5e4fa2;\" x=\"190.493675\" xlink:href=\"#C0_0_16f4483a73\" y=\"46.726856\"/>\n    </g>\n    <g clip-path=\"url(#pf4b6bcce69)\">\n     <use style=\"fill:#9e0142;stroke:#9e0142;\" x=\"143.125163\" xlink:href=\"#C0_0_16f4483a73\" y=\"42.094684\"/>\n    </g>\n    <g clip-path=\"url(#pf4b6bcce69)\">\n     <use style=\"fill:#9e0142;stroke:#9e0142;\" x=\"393.993999\" xlink:href=\"#C0_0_16f4483a73\" y=\"91.227676\"/>\n    </g>\n    <g clip-path=\"url(#pf4b6bcce69)\">\n     <use style=\"fill:#5e4fa2;stroke:#5e4fa2;\" x=\"137.735831\" xlink:href=\"#C0_0_16f4483a73\" y=\"62.290143\"/>\n    </g>\n    <g clip-path=\"url(#pf4b6bcce69)\">\n     <use style=\"fill:#9e0142;stroke:#9e0142;\" x=\"332.654721\" xlink:href=\"#C0_0_16f4483a73\" y=\"182.113599\"/>\n    </g>\n    <g clip-path=\"url(#pf4b6bcce69)\">\n     <use style=\"fill:#5e4fa2;stroke:#5e4fa2;\" x=\"249.752915\" xlink:href=\"#C0_0_16f4483a73\" y=\"184.075023\"/>\n    </g>\n    <g clip-path=\"url(#pf4b6bcce69)\">\n     <use style=\"fill:#9e0142;stroke:#9e0142;\" x=\"74.675833\" xlink:href=\"#C0_0_16f4483a73\" y=\"117.91923\"/>\n    </g>\n    <g clip-path=\"url(#pf4b6bcce69)\">\n     <use style=\"fill:#9e0142;stroke:#9e0142;\" x=\"232.603022\" xlink:href=\"#C0_0_16f4483a73\" y=\"199.827772\"/>\n    </g>\n    <g clip-path=\"url(#pf4b6bcce69)\">\n     <use style=\"fill:#9e0142;stroke:#9e0142;\" x=\"78.905921\" xlink:href=\"#C0_0_16f4483a73\" y=\"77.644318\"/>\n    </g>\n    <g clip-path=\"url(#pf4b6bcce69)\">\n     <use style=\"fill:#5e4fa2;stroke:#5e4fa2;\" x=\"271.691467\" xlink:href=\"#C0_0_16f4483a73\" y=\"41.439361\"/>\n    </g>\n    <g clip-path=\"url(#pf4b6bcce69)\">\n     <use style=\"fill:#5e4fa2;stroke:#5e4fa2;\" x=\"376.473927\" xlink:href=\"#C0_0_16f4483a73\" y=\"111.979952\"/>\n    </g>\n    <g clip-path=\"url(#pf4b6bcce69)\">\n     <use style=\"fill:#5e4fa2;stroke:#5e4fa2;\" x=\"294.376793\" xlink:href=\"#C0_0_16f4483a73\" y=\"179.870038\"/>\n    </g>\n    <g clip-path=\"url(#pf4b6bcce69)\">\n     <use style=\"fill:#5e4fa2;stroke:#5e4fa2;\" x=\"367.621324\" xlink:href=\"#C0_0_16f4483a73\" y=\"90.304576\"/>\n    </g>\n    <g clip-path=\"url(#pf4b6bcce69)\">\n     <use style=\"fill:#9e0142;stroke:#9e0142;\" x=\"176.247554\" xlink:href=\"#C0_0_16f4483a73\" y=\"33.376188\"/>\n    </g>\n    <g clip-path=\"url(#pf4b6bcce69)\">\n     <use style=\"fill:#5e4fa2;stroke:#5e4fa2;\" x=\"220.414104\" xlink:href=\"#C0_0_16f4483a73\" y=\"47.450976\"/>\n    </g>\n    <g clip-path=\"url(#pf4b6bcce69)\">\n     <use style=\"fill:#9e0142;stroke:#9e0142;\" x=\"72.046202\" xlink:href=\"#C0_0_16f4483a73\" y=\"118.07761\"/>\n    </g>\n    <g clip-path=\"url(#pf4b6bcce69)\">\n     <use style=\"fill:#9e0142;stroke:#9e0142;\" x=\"123.068\" xlink:href=\"#C0_0_16f4483a73\" y=\"177.023889\"/>\n    </g>\n    <g clip-path=\"url(#pf4b6bcce69)\">\n     <use style=\"fill:#5e4fa2;stroke:#5e4fa2;\" x=\"165.895615\" xlink:href=\"#C0_0_16f4483a73\" y=\"46.830074\"/>\n    </g>\n    <g clip-path=\"url(#pf4b6bcce69)\">\n     <use style=\"fill:#5e4fa2;stroke:#5e4fa2;\" x=\"204.648592\" xlink:href=\"#C0_0_16f4483a73\" y=\"180.568927\"/>\n    </g>\n    <g clip-path=\"url(#pf4b6bcce69)\">\n     <use style=\"fill:#9e0142;stroke:#9e0142;\" x=\"84.866819\" xlink:href=\"#C0_0_16f4483a73\" y=\"164.951266\"/>\n    </g>\n    <g clip-path=\"url(#pf4b6bcce69)\">\n     <use style=\"fill:#9e0142;stroke:#9e0142;\" x=\"381.452071\" xlink:href=\"#C0_0_16f4483a73\" y=\"137.639106\"/>\n    </g>\n    <g clip-path=\"url(#pf4b6bcce69)\">\n     <use style=\"fill:#5e4fa2;stroke:#5e4fa2;\" x=\"145.77633\" xlink:href=\"#C0_0_16f4483a73\" y=\"165.785913\"/>\n    </g>\n    <g clip-path=\"url(#pf4b6bcce69)\">\n     <use style=\"fill:#9e0142;stroke:#9e0142;\" x=\"376.486063\" xlink:href=\"#C0_0_16f4483a73\" y=\"64.021728\"/>\n    </g>\n    <g clip-path=\"url(#pf4b6bcce69)\">\n     <use style=\"fill:#5e4fa2;stroke:#5e4fa2;\" x=\"351.680069\" xlink:href=\"#C0_0_16f4483a73\" y=\"85.522901\"/>\n    </g>\n    <g clip-path=\"url(#pf4b6bcce69)\">\n     <use style=\"fill:#9e0142;stroke:#9e0142;\" x=\"272.126672\" xlink:href=\"#C0_0_16f4483a73\" y=\"21.277465\"/>\n    </g>\n    <g clip-path=\"url(#pf4b6bcce69)\">\n     <use style=\"fill:#9e0142;stroke:#9e0142;\" x=\"368.461759\" xlink:href=\"#C0_0_16f4483a73\" y=\"164.407547\"/>\n    </g>\n    <g clip-path=\"url(#pf4b6bcce69)\">\n     <use style=\"fill:#5e4fa2;stroke:#5e4fa2;\" x=\"349.811464\" xlink:href=\"#C0_0_16f4483a73\" y=\"65.088684\"/>\n    </g>\n    <g clip-path=\"url(#pf4b6bcce69)\">\n     <use style=\"fill:#9e0142;stroke:#9e0142;\" x=\"90.340509\" xlink:href=\"#C0_0_16f4483a73\" y=\"146.10382\"/>\n    </g>\n    <g clip-path=\"url(#pf4b6bcce69)\">\n     <use style=\"fill:#9e0142;stroke:#9e0142;\" x=\"128.90006\" xlink:href=\"#C0_0_16f4483a73\" y=\"55.173677\"/>\n    </g>\n    <g clip-path=\"url(#pf4b6bcce69)\">\n     <use style=\"fill:#5e4fa2;stroke:#5e4fa2;\" x=\"336.326511\" xlink:href=\"#C0_0_16f4483a73\" y=\"76.629277\"/>\n    </g>\n    <g clip-path=\"url(#pf4b6bcce69)\">\n     <use style=\"fill:#5e4fa2;stroke:#5e4fa2;\" x=\"365.594147\" xlink:href=\"#C0_0_16f4483a73\" y=\"103.274146\"/>\n    </g>\n    <g clip-path=\"url(#pf4b6bcce69)\">\n     <use style=\"fill:#9e0142;stroke:#9e0142;\" x=\"164.84589\" xlink:href=\"#C0_0_16f4483a73\" y=\"189.821417\"/>\n    </g>\n    <g clip-path=\"url(#pf4b6bcce69)\">\n     <use style=\"fill:#9e0142;stroke:#9e0142;\" x=\"323.461384\" xlink:href=\"#C0_0_16f4483a73\" y=\"199.982097\"/>\n    </g>\n    <g clip-path=\"url(#pf4b6bcce69)\">\n     <use style=\"fill:#9e0142;stroke:#9e0142;\" x=\"324.82262\" xlink:href=\"#C0_0_16f4483a73\" y=\"46.287135\"/>\n    </g>\n    <g clip-path=\"url(#pf4b6bcce69)\">\n     <use style=\"fill:#9e0142;stroke:#9e0142;\" x=\"310.739925\" xlink:href=\"#C0_0_16f4483a73\" y=\"198.961402\"/>\n    </g>\n    <g clip-path=\"url(#pf4b6bcce69)\">\n     <use style=\"fill:#5e4fa2;stroke:#5e4fa2;\" x=\"113.513637\" xlink:href=\"#C0_0_16f4483a73\" y=\"136.055599\"/>\n    </g>\n    <g clip-path=\"url(#pf4b6bcce69)\">\n     <use style=\"fill:#5e4fa2;stroke:#5e4fa2;\" x=\"203.523563\" xlink:href=\"#C0_0_16f4483a73\" y=\"38.149745\"/>\n    </g>\n    <g clip-path=\"url(#pf4b6bcce69)\">\n     <use style=\"fill:#9e0142;stroke:#9e0142;\" x=\"377.319125\" xlink:href=\"#C0_0_16f4483a73\" y=\"79.171697\"/>\n    </g>\n    <g clip-path=\"url(#pf4b6bcce69)\">\n     <use style=\"fill:#5e4fa2;stroke:#5e4fa2;\" x=\"346.649546\" xlink:href=\"#C0_0_16f4483a73\" y=\"158.884315\"/>\n    </g>\n    <g clip-path=\"url(#pf4b6bcce69)\">\n     <use style=\"fill:#9e0142;stroke:#9e0142;\" x=\"179.177655\" xlink:href=\"#C0_0_16f4483a73\" y=\"200.603964\"/>\n    </g>\n    <g clip-path=\"url(#pf4b6bcce69)\">\n     <use style=\"fill:#5e4fa2;stroke:#5e4fa2;\" x=\"344.582561\" xlink:href=\"#C0_0_16f4483a73\" y=\"111.76798\"/>\n    </g>\n    <g clip-path=\"url(#pf4b6bcce69)\">\n     <use style=\"fill:#5e4fa2;stroke:#5e4fa2;\" x=\"223.8005\" xlink:href=\"#C0_0_16f4483a73\" y=\"188.954597\"/>\n    </g>\n    <g clip-path=\"url(#pf4b6bcce69)\">\n     <use style=\"fill:#9e0142;stroke:#9e0142;\" x=\"356.256946\" xlink:href=\"#C0_0_16f4483a73\" y=\"173.180667\"/>\n    </g>\n    <g clip-path=\"url(#pf4b6bcce69)\">\n     <use style=\"fill:#5e4fa2;stroke:#5e4fa2;\" x=\"354.599655\" xlink:href=\"#C0_0_16f4483a73\" y=\"145.916251\"/>\n    </g>\n    <g clip-path=\"url(#pf4b6bcce69)\">\n     <use style=\"fill:#5e4fa2;stroke:#5e4fa2;\" x=\"123.666009\" xlink:href=\"#C0_0_16f4483a73\" y=\"124.365487\"/>\n    </g>\n    <g clip-path=\"url(#pf4b6bcce69)\">\n     <use style=\"fill:#9e0142;stroke:#9e0142;\" x=\"316.958762\" xlink:href=\"#C0_0_16f4483a73\" y=\"40.849374\"/>\n    </g>\n    <g clip-path=\"url(#pf4b6bcce69)\">\n     <use style=\"fill:#5e4fa2;stroke:#5e4fa2;\" x=\"197.883667\" xlink:href=\"#C0_0_16f4483a73\" y=\"48.137024\"/>\n    </g>\n    <g clip-path=\"url(#pf4b6bcce69)\">\n     <use style=\"fill:#9e0142;stroke:#9e0142;\" x=\"101.823011\" xlink:href=\"#C0_0_16f4483a73\" y=\"67.634848\"/>\n    </g>\n    <g clip-path=\"url(#pf4b6bcce69)\">\n     <use style=\"fill:#9e0142;stroke:#9e0142;\" x=\"365.601575\" xlink:href=\"#C0_0_16f4483a73\" y=\"65.977737\"/>\n    </g>\n    <g clip-path=\"url(#pf4b6bcce69)\">\n     <use style=\"fill:#9e0142;stroke:#9e0142;\" x=\"205.216866\" xlink:href=\"#C0_0_16f4483a73\" y=\"204.480344\"/>\n    </g>\n    <g clip-path=\"url(#pf4b6bcce69)\">\n     <use style=\"fill:#9e0142;stroke:#9e0142;\" x=\"318.24917\" xlink:href=\"#C0_0_16f4483a73\" y=\"24.549807\"/>\n    </g>\n    <g clip-path=\"url(#pf4b6bcce69)\">\n     <use style=\"fill:#9e0142;stroke:#9e0142;\" x=\"56.237358\" xlink:href=\"#C0_0_16f4483a73\" y=\"124.091654\"/>\n    </g>\n    <g clip-path=\"url(#pf4b6bcce69)\">\n     <use style=\"fill:#9e0142;stroke:#9e0142;\" x=\"208.581171\" xlink:href=\"#C0_0_16f4483a73\" y=\"24.12752\"/>\n    </g>\n    <g clip-path=\"url(#pf4b6bcce69)\">\n     <use style=\"fill:#9e0142;stroke:#9e0142;\" x=\"399.507751\" xlink:href=\"#C0_0_16f4483a73\" y=\"96.651525\"/>\n    </g>\n    <g clip-path=\"url(#pf4b6bcce69)\">\n     <use style=\"fill:#9e0142;stroke:#9e0142;\" x=\"159.435493\" xlink:href=\"#C0_0_16f4483a73\" y=\"39.756953\"/>\n    </g>\n    <g clip-path=\"url(#pf4b6bcce69)\">\n     <use style=\"fill:#5e4fa2;stroke:#5e4fa2;\" x=\"357.939555\" xlink:href=\"#C0_0_16f4483a73\" y=\"146.236211\"/>\n    </g>\n    <g clip-path=\"url(#pf4b6bcce69)\">\n     <use style=\"fill:#9e0142;stroke:#9e0142;\" x=\"287.293405\" xlink:href=\"#C0_0_16f4483a73\" y=\"29.134395\"/>\n    </g>\n    <g clip-path=\"url(#pf4b6bcce69)\">\n     <use style=\"fill:#9e0142;stroke:#9e0142;\" x=\"283.623626\" xlink:href=\"#C0_0_16f4483a73\" y=\"194.565662\"/>\n    </g>\n    <g clip-path=\"url(#pf4b6bcce69)\">\n     <use style=\"fill:#9e0142;stroke:#9e0142;\" x=\"258.034397\" xlink:href=\"#C0_0_16f4483a73\" y=\"210.296831\"/>\n    </g>\n    <g clip-path=\"url(#pf4b6bcce69)\">\n     <use style=\"fill:#5e4fa2;stroke:#5e4fa2;\" x=\"322.992973\" xlink:href=\"#C0_0_16f4483a73\" y=\"176.694997\"/>\n    </g>\n    <g clip-path=\"url(#pf4b6bcce69)\">\n     <use style=\"fill:#5e4fa2;stroke:#5e4fa2;\" x=\"141.773686\" xlink:href=\"#C0_0_16f4483a73\" y=\"94.753472\"/>\n    </g>\n    <g clip-path=\"url(#pf4b6bcce69)\">\n     <use style=\"fill:#5e4fa2;stroke:#5e4fa2;\" x=\"245.116547\" xlink:href=\"#C0_0_16f4483a73\" y=\"189.819508\"/>\n    </g>\n    <g clip-path=\"url(#pf4b6bcce69)\">\n     <use style=\"fill:#5e4fa2;stroke:#5e4fa2;\" x=\"126.207852\" xlink:href=\"#C0_0_16f4483a73\" y=\"72.538131\"/>\n    </g>\n    <g clip-path=\"url(#pf4b6bcce69)\">\n     <use style=\"fill:#9e0142;stroke:#9e0142;\" x=\"380.758942\" xlink:href=\"#C0_0_16f4483a73\" y=\"116.542502\"/>\n    </g>\n    <g clip-path=\"url(#pf4b6bcce69)\">\n     <use style=\"fill:#9e0142;stroke:#9e0142;\" x=\"336.679698\" xlink:href=\"#C0_0_16f4483a73\" y=\"41.970459\"/>\n    </g>\n    <g clip-path=\"url(#pf4b6bcce69)\">\n     <use style=\"fill:#9e0142;stroke:#9e0142;\" x=\"400.129663\" xlink:href=\"#C0_0_16f4483a73\" y=\"91.463826\"/>\n    </g>\n    <g clip-path=\"url(#pf4b6bcce69)\">\n     <use style=\"fill:#9e0142;stroke:#9e0142;\" x=\"393.451121\" xlink:href=\"#C0_0_16f4483a73\" y=\"148.532555\"/>\n    </g>\n    <g clip-path=\"url(#pf4b6bcce69)\">\n     <use style=\"fill:#9e0142;stroke:#9e0142;\" x=\"82.645596\" xlink:href=\"#C0_0_16f4483a73\" y=\"159.524644\"/>\n    </g>\n    <g clip-path=\"url(#pf4b6bcce69)\">\n     <use style=\"fill:#5e4fa2;stroke:#5e4fa2;\" x=\"136.560349\" xlink:href=\"#C0_0_16f4483a73\" y=\"158.174347\"/>\n    </g>\n    <g clip-path=\"url(#pf4b6bcce69)\">\n     <use style=\"fill:#5e4fa2;stroke:#5e4fa2;\" x=\"119.494187\" xlink:href=\"#C0_0_16f4483a73\" y=\"88.489206\"/>\n    </g>\n    <g clip-path=\"url(#pf4b6bcce69)\">\n     <use style=\"fill:#9e0142;stroke:#9e0142;\" x=\"83.507153\" xlink:href=\"#C0_0_16f4483a73\" y=\"90.697895\"/>\n    </g>\n    <g clip-path=\"url(#pf4b6bcce69)\">\n     <use style=\"fill:#9e0142;stroke:#9e0142;\" x=\"160.007311\" xlink:href=\"#C0_0_16f4483a73\" y=\"40.638508\"/>\n    </g>\n    <g clip-path=\"url(#pf4b6bcce69)\">\n     <use style=\"fill:#5e4fa2;stroke:#5e4fa2;\" x=\"375.190427\" xlink:href=\"#C0_0_16f4483a73\" y=\"98.813306\"/>\n    </g>\n    <g clip-path=\"url(#pf4b6bcce69)\">\n     <use style=\"fill:#5e4fa2;stroke:#5e4fa2;\" x=\"181.641585\" xlink:href=\"#C0_0_16f4483a73\" y=\"174.844032\"/>\n    </g>\n    <g clip-path=\"url(#pf4b6bcce69)\">\n     <use style=\"fill:#5e4fa2;stroke:#5e4fa2;\" x=\"182.244382\" xlink:href=\"#C0_0_16f4483a73\" y=\"183.855351\"/>\n    </g>\n    <g clip-path=\"url(#pf4b6bcce69)\">\n     <use style=\"fill:#5e4fa2;stroke:#5e4fa2;\" x=\"297.401175\" xlink:href=\"#C0_0_16f4483a73\" y=\"179.10031\"/>\n    </g>\n    <g clip-path=\"url(#pf4b6bcce69)\">\n     <use style=\"fill:#5e4fa2;stroke:#5e4fa2;\" x=\"284.798046\" xlink:href=\"#C0_0_16f4483a73\" y=\"39.173086\"/>\n    </g>\n    <g clip-path=\"url(#pf4b6bcce69)\">\n     <use style=\"fill:#5e4fa2;stroke:#5e4fa2;\" x=\"334.236357\" xlink:href=\"#C0_0_16f4483a73\" y=\"168.487625\"/>\n    </g>\n    <g clip-path=\"url(#pf4b6bcce69)\">\n     <use style=\"fill:#5e4fa2;stroke:#5e4fa2;\" x=\"104.282631\" xlink:href=\"#C0_0_16f4483a73\" y=\"147.281928\"/>\n    </g>\n    <g clip-path=\"url(#pf4b6bcce69)\">\n     <use style=\"fill:#9e0142;stroke:#9e0142;\" x=\"76.01052\" xlink:href=\"#C0_0_16f4483a73\" y=\"100.594239\"/>\n    </g>\n    <g clip-path=\"url(#pf4b6bcce69)\">\n     <use style=\"fill:#9e0142;stroke:#9e0142;\" x=\"335.657167\" xlink:href=\"#C0_0_16f4483a73\" y=\"186.514668\"/>\n    </g>\n    <g clip-path=\"url(#pf4b6bcce69)\">\n     <use style=\"fill:#9e0142;stroke:#9e0142;\" x=\"392.115219\" xlink:href=\"#C0_0_16f4483a73\" y=\"146.744003\"/>\n    </g>\n    <g clip-path=\"url(#pf4b6bcce69)\">\n     <use style=\"fill:#9e0142;stroke:#9e0142;\" x=\"357.918823\" xlink:href=\"#C0_0_16f4483a73\" y=\"165.933001\"/>\n    </g>\n    <g clip-path=\"url(#pf4b6bcce69)\">\n     <use style=\"fill:#5e4fa2;stroke:#5e4fa2;\" x=\"154.877167\" xlink:href=\"#C0_0_16f4483a73\" y=\"54.722478\"/>\n    </g>\n    <g clip-path=\"url(#pf4b6bcce69)\">\n     <use style=\"fill:#5e4fa2;stroke:#5e4fa2;\" x=\"195.375537\" xlink:href=\"#C0_0_16f4483a73\" y=\"188.826936\"/>\n    </g>\n    <g clip-path=\"url(#pf4b6bcce69)\">\n     <use style=\"fill:#9e0142;stroke:#9e0142;\" x=\"72.820122\" xlink:href=\"#C0_0_16f4483a73\" y=\"101.166012\"/>\n    </g>\n    <g clip-path=\"url(#pf4b6bcce69)\">\n     <use style=\"fill:#5e4fa2;stroke:#5e4fa2;\" x=\"113.142425\" xlink:href=\"#C0_0_16f4483a73\" y=\"140.702289\"/>\n    </g>\n    <g clip-path=\"url(#pf4b6bcce69)\">\n     <use style=\"fill:#9e0142;stroke:#9e0142;\" x=\"226.697789\" xlink:href=\"#C0_0_16f4483a73\" y=\"29.57565\"/>\n    </g>\n   </g>\n   <g id=\"matplotlib.axis_1\">\n    <g id=\"xtick_1\">\n     <g id=\"line2d_1\">\n      <defs>\n       <path d=\"M 0 0 \nL 0 3.5 \n\" id=\"m170fdbfa67\" style=\"stroke:#000000;stroke-width:0.8;\"/>\n      </defs>\n      <g>\n       <use style=\"stroke:#000000;stroke-width:0.8;\" x=\"76.108082\" xlink:href=\"#m170fdbfa67\" y=\"224.64\"/>\n      </g>\n     </g>\n     <g id=\"text_1\">\n      <!-- −1.0 -->\n      <g transform=\"translate(63.966676 239.238437)scale(0.1 -0.1)\">\n       <defs>\n        <path d=\"M 10.59375 35.5 \nL 73.1875 35.5 \nL 73.1875 27.203125 \nL 10.59375 27.203125 \nz\n\" id=\"DejaVuSans-8722\"/>\n        <path d=\"M 12.40625 8.296875 \nL 28.515625 8.296875 \nL 28.515625 63.921875 \nL 10.984375 60.40625 \nL 10.984375 69.390625 \nL 28.421875 72.90625 \nL 38.28125 72.90625 \nL 38.28125 8.296875 \nL 54.390625 8.296875 \nL 54.390625 0 \nL 12.40625 0 \nz\n\" id=\"DejaVuSans-49\"/>\n        <path d=\"M 10.6875 12.40625 \nL 21 12.40625 \nL 21 0 \nL 10.6875 0 \nz\n\" id=\"DejaVuSans-46\"/>\n        <path d=\"M 31.78125 66.40625 \nQ 24.171875 66.40625 20.328125 58.90625 \nQ 16.5 51.421875 16.5 36.375 \nQ 16.5 21.390625 20.328125 13.890625 \nQ 24.171875 6.390625 31.78125 6.390625 \nQ 39.453125 6.390625 43.28125 13.890625 \nQ 47.125 21.390625 47.125 36.375 \nQ 47.125 51.421875 43.28125 58.90625 \nQ 39.453125 66.40625 31.78125 66.40625 \nz\nM 31.78125 74.21875 \nQ 44.046875 74.21875 50.515625 64.515625 \nQ 56.984375 54.828125 56.984375 36.375 \nQ 56.984375 17.96875 50.515625 8.265625 \nQ 44.046875 -1.421875 31.78125 -1.421875 \nQ 19.53125 -1.421875 13.0625 8.265625 \nQ 6.59375 17.96875 6.59375 36.375 \nQ 6.59375 54.828125 13.0625 64.515625 \nQ 19.53125 74.21875 31.78125 74.21875 \nz\n\" id=\"DejaVuSans-48\"/>\n       </defs>\n       <use xlink:href=\"#DejaVuSans-8722\"/>\n       <use x=\"83.789062\" xlink:href=\"#DejaVuSans-49\"/>\n       <use x=\"147.412109\" xlink:href=\"#DejaVuSans-46\"/>\n       <use x=\"179.199219\" xlink:href=\"#DejaVuSans-48\"/>\n      </g>\n     </g>\n    </g>\n    <g id=\"xtick_2\">\n     <g id=\"line2d_2\">\n      <g>\n       <use style=\"stroke:#000000;stroke-width:0.8;\" x=\"156.306714\" xlink:href=\"#m170fdbfa67\" y=\"224.64\"/>\n      </g>\n     </g>\n     <g id=\"text_2\">\n      <!-- −0.5 -->\n      <g transform=\"translate(144.165308 239.238437)scale(0.1 -0.1)\">\n       <defs>\n        <path d=\"M 10.796875 72.90625 \nL 49.515625 72.90625 \nL 49.515625 64.59375 \nL 19.828125 64.59375 \nL 19.828125 46.734375 \nQ 21.96875 47.46875 24.109375 47.828125 \nQ 26.265625 48.1875 28.421875 48.1875 \nQ 40.625 48.1875 47.75 41.5 \nQ 54.890625 34.8125 54.890625 23.390625 \nQ 54.890625 11.625 47.5625 5.09375 \nQ 40.234375 -1.421875 26.90625 -1.421875 \nQ 22.3125 -1.421875 17.546875 -0.640625 \nQ 12.796875 0.140625 7.71875 1.703125 \nL 7.71875 11.625 \nQ 12.109375 9.234375 16.796875 8.0625 \nQ 21.484375 6.890625 26.703125 6.890625 \nQ 35.15625 6.890625 40.078125 11.328125 \nQ 45.015625 15.765625 45.015625 23.390625 \nQ 45.015625 31 40.078125 35.4375 \nQ 35.15625 39.890625 26.703125 39.890625 \nQ 22.75 39.890625 18.8125 39.015625 \nQ 14.890625 38.140625 10.796875 36.28125 \nz\n\" id=\"DejaVuSans-53\"/>\n       </defs>\n       <use xlink:href=\"#DejaVuSans-8722\"/>\n       <use x=\"83.789062\" xlink:href=\"#DejaVuSans-48\"/>\n       <use x=\"147.412109\" xlink:href=\"#DejaVuSans-46\"/>\n       <use x=\"179.199219\" xlink:href=\"#DejaVuSans-53\"/>\n      </g>\n     </g>\n    </g>\n    <g id=\"xtick_3\">\n     <g id=\"line2d_3\">\n      <g>\n       <use style=\"stroke:#000000;stroke-width:0.8;\" x=\"236.505346\" xlink:href=\"#m170fdbfa67\" y=\"224.64\"/>\n      </g>\n     </g>\n     <g id=\"text_3\">\n      <!-- 0.0 -->\n      <g transform=\"translate(228.553783 239.238437)scale(0.1 -0.1)\">\n       <use xlink:href=\"#DejaVuSans-48\"/>\n       <use x=\"63.623047\" xlink:href=\"#DejaVuSans-46\"/>\n       <use x=\"95.410156\" xlink:href=\"#DejaVuSans-48\"/>\n      </g>\n     </g>\n    </g>\n    <g id=\"xtick_4\">\n     <g id=\"line2d_4\">\n      <g>\n       <use style=\"stroke:#000000;stroke-width:0.8;\" x=\"316.703977\" xlink:href=\"#m170fdbfa67\" y=\"224.64\"/>\n      </g>\n     </g>\n     <g id=\"text_4\">\n      <!-- 0.5 -->\n      <g transform=\"translate(308.752415 239.238437)scale(0.1 -0.1)\">\n       <use xlink:href=\"#DejaVuSans-48\"/>\n       <use x=\"63.623047\" xlink:href=\"#DejaVuSans-46\"/>\n       <use x=\"95.410156\" xlink:href=\"#DejaVuSans-53\"/>\n      </g>\n     </g>\n    </g>\n    <g id=\"xtick_5\">\n     <g id=\"line2d_5\">\n      <g>\n       <use style=\"stroke:#000000;stroke-width:0.8;\" x=\"396.902609\" xlink:href=\"#m170fdbfa67\" y=\"224.64\"/>\n      </g>\n     </g>\n     <g id=\"text_5\">\n      <!-- 1.0 -->\n      <g transform=\"translate(388.951046 239.238437)scale(0.1 -0.1)\">\n       <use xlink:href=\"#DejaVuSans-49\"/>\n       <use x=\"63.623047\" xlink:href=\"#DejaVuSans-46\"/>\n       <use x=\"95.410156\" xlink:href=\"#DejaVuSans-48\"/>\n      </g>\n     </g>\n    </g>\n   </g>\n   <g id=\"matplotlib.axis_2\">\n    <g id=\"ytick_1\">\n     <g id=\"line2d_6\">\n      <defs>\n       <path d=\"M 0 0 \nL -3.5 0 \n\" id=\"mf4131ccc59\" style=\"stroke:#000000;stroke-width:0.8;\"/>\n      </defs>\n      <g>\n       <use style=\"stroke:#000000;stroke-width:0.8;\" x=\"38.482813\" xlink:href=\"#mf4131ccc59\" y=\"207.348386\"/>\n      </g>\n     </g>\n     <g id=\"text_6\">\n      <!-- −1.0 -->\n      <g transform=\"translate(7.2 211.147605)scale(0.1 -0.1)\">\n       <use xlink:href=\"#DejaVuSans-8722\"/>\n       <use x=\"83.789062\" xlink:href=\"#DejaVuSans-49\"/>\n       <use x=\"147.412109\" xlink:href=\"#DejaVuSans-46\"/>\n       <use x=\"179.199219\" xlink:href=\"#DejaVuSans-48\"/>\n      </g>\n     </g>\n    </g>\n    <g id=\"ytick_2\">\n     <g id=\"line2d_7\">\n      <g>\n       <use style=\"stroke:#000000;stroke-width:0.8;\" x=\"38.482813\" xlink:href=\"#mf4131ccc59\" y=\"161.289131\"/>\n      </g>\n     </g>\n     <g id=\"text_7\">\n      <!-- −0.5 -->\n      <g transform=\"translate(7.2 165.088349)scale(0.1 -0.1)\">\n       <use xlink:href=\"#DejaVuSans-8722\"/>\n       <use x=\"83.789062\" xlink:href=\"#DejaVuSans-48\"/>\n       <use x=\"147.412109\" xlink:href=\"#DejaVuSans-46\"/>\n       <use x=\"179.199219\" xlink:href=\"#DejaVuSans-53\"/>\n      </g>\n     </g>\n    </g>\n    <g id=\"ytick_3\">\n     <g id=\"line2d_8\">\n      <g>\n       <use style=\"stroke:#000000;stroke-width:0.8;\" x=\"38.482813\" xlink:href=\"#mf4131ccc59\" y=\"115.229875\"/>\n      </g>\n     </g>\n     <g id=\"text_8\">\n      <!-- 0.0 -->\n      <g transform=\"translate(15.579688 119.029094)scale(0.1 -0.1)\">\n       <use xlink:href=\"#DejaVuSans-48\"/>\n       <use x=\"63.623047\" xlink:href=\"#DejaVuSans-46\"/>\n       <use x=\"95.410156\" xlink:href=\"#DejaVuSans-48\"/>\n      </g>\n     </g>\n    </g>\n    <g id=\"ytick_4\">\n     <g id=\"line2d_9\">\n      <g>\n       <use style=\"stroke:#000000;stroke-width:0.8;\" x=\"38.482813\" xlink:href=\"#mf4131ccc59\" y=\"69.170619\"/>\n      </g>\n     </g>\n     <g id=\"text_9\">\n      <!-- 0.5 -->\n      <g transform=\"translate(15.579688 72.969838)scale(0.1 -0.1)\">\n       <use xlink:href=\"#DejaVuSans-48\"/>\n       <use x=\"63.623047\" xlink:href=\"#DejaVuSans-46\"/>\n       <use x=\"95.410156\" xlink:href=\"#DejaVuSans-53\"/>\n      </g>\n     </g>\n    </g>\n    <g id=\"ytick_5\">\n     <g id=\"line2d_10\">\n      <g>\n       <use style=\"stroke:#000000;stroke-width:0.8;\" x=\"38.482813\" xlink:href=\"#mf4131ccc59\" y=\"23.111364\"/>\n      </g>\n     </g>\n     <g id=\"text_10\">\n      <!-- 1.0 -->\n      <g transform=\"translate(15.579688 26.910582)scale(0.1 -0.1)\">\n       <use xlink:href=\"#DejaVuSans-49\"/>\n       <use x=\"63.623047\" xlink:href=\"#DejaVuSans-46\"/>\n       <use x=\"95.410156\" xlink:href=\"#DejaVuSans-48\"/>\n      </g>\n     </g>\n    </g>\n   </g>\n   <g id=\"patch_3\">\n    <path d=\"M 38.482813 224.64 \nL 38.482813 7.2 \n\" style=\"fill:none;stroke:#000000;stroke-linecap:square;stroke-linejoin:miter;stroke-width:0.8;\"/>\n   </g>\n   <g id=\"patch_4\">\n    <path d=\"M 429.082813 224.64 \nL 429.082813 7.2 \n\" style=\"fill:none;stroke:#000000;stroke-linecap:square;stroke-linejoin:miter;stroke-width:0.8;\"/>\n   </g>\n   <g id=\"patch_5\">\n    <path d=\"M 38.482812 224.64 \nL 429.082812 224.64 \n\" style=\"fill:none;stroke:#000000;stroke-linecap:square;stroke-linejoin:miter;stroke-width:0.8;\"/>\n   </g>\n   <g id=\"patch_6\">\n    <path d=\"M 38.482812 7.2 \nL 429.082812 7.2 \n\" style=\"fill:none;stroke:#000000;stroke-linecap:square;stroke-linejoin:miter;stroke-width:0.8;\"/>\n   </g>\n  </g>\n </g>\n <defs>\n  <clipPath id=\"pf4b6bcce69\">\n   <rect height=\"217.44\" width=\"390.6\" x=\"38.482813\" y=\"7.2\"/>\n  </clipPath>\n </defs>\n</svg>\n",
      "image/png": "[encoded data removed]"
     },
     "metadata": {
      "needs_background": "light"
     }
    }
   ],
   "source": [
    "import numpy as np\n",
    "import matplotlib.pyplot as plt\n",
    "import sklearn\n",
    "import sklearn.datasets\n",
    "from init_utils import sigmoid, relu, compute_loss, forward_propagation, backward_propagation\n",
    "from init_utils import update_parameters, predict, load_dataset, plot_decision_boundary, predict_dec\n",
    "\n",
    "%matplotlib inline\n",
    "plt.rcParams['figure.figsize'] = (7.0, 4.0) # set default size of plots\n",
    "plt.rcParams['image.interpolation'] = 'nearest'\n",
    "plt.rcParams['image.cmap'] = 'gray'\n",
    "\n",
    "# load image dataset: blue/red dots in circles\n",
    "train_X, train_Y, test_X, test_Y = load_dataset()"
   ]
  },
  {
   "cell_type": "markdown",
   "metadata": {},
   "source": [
    "You would like a classifier to separate the blue dots from the red dots."
   ]
  },
  {
   "cell_type": "markdown",
   "metadata": {},
   "source": [
    "## 1 - Neural Network model "
   ]
  },
  {
   "cell_type": "markdown",
   "metadata": {},
   "source": [
    "You will use a 3-layer neural network (already implemented for you). Here are the initialization methods you will experiment with:  \n",
    "- *Zeros initialization* --  setting `initialization = \"zeros\"` in the input argument.\n",
    "- *Random initialization* -- setting `initialization = \"random\"` in the input argument. This initializes the weights to large random values.  \n",
    "- *He initialization* -- setting `initialization = \"he\"` in the input argument. This initializes the weights to random values scaled according to a paper by He et al., 2015. \n",
    "\n",
    "**Instructions**: Please quickly read over the code below, and run it. In the next part you will implement the three initialization methods that this `model()` calls."
   ]
  },
  {
   "cell_type": "code",
   "execution_count": 27,
   "metadata": {
    "collapsed": true
   },
   "outputs": [],
   "source": [
    "def model(X, Y, learning_rate=0.01, num_iterations=15000, print_cost=True, initialization=\"he\"):\n",
    "    \"\"\"\n",
    "    Implements a three-layer neural network: LINEAR->RELU->LINEAR->RELU->LINEAR->SIGMOID.\n",
    "    \n",
    "    Arguments:\n",
    "    X -- input data, of shape (2, number of examples)\n",
    "    Y -- true \"label\" vector (containing 0 for red dots; 1 for blue dots), of shape (1, number of examples)\n",
    "    learning_rate -- learning rate for gradient descent \n",
    "    num_iterations -- number of iterations to run gradient descent\n",
    "    print_cost -- if True, print the cost every 1000 iterations\n",
    "    initialization -- flag to choose which initialization to use (\"zeros\",\"random\" or \"he\")\n",
    "    \n",
    "    Returns:\n",
    "    parameters -- parameters learnt by the model\n",
    "    \"\"\"\n",
    "        \n",
    "    grads = {}\n",
    "    costs = [] # to keep track of the loss\n",
    "    m = X.shape[1] # number of examples\n",
    "    layers_dims = [X.shape[0], 10, 5, 1]\n",
    "    \n",
    "    # Initialize parameters dictionary.\n",
    "    if initialization == \"zeros\":\n",
    "        parameters = initialize_parameters_zeros(layers_dims)\n",
    "    elif initialization == \"random\":\n",
    "        parameters = initialize_parameters_random(layers_dims)\n",
    "    elif initialization == \"he\":\n",
    "        parameters = initialize_parameters_he(layers_dims)\n",
    "\n",
    "    # Loop (gradient descent)\n",
    "\n",
    "    for i in range(0, num_iterations):\n",
    "\n",
    "        # Forward propagation: LINEAR -> RELU -> LINEAR -> RELU -> LINEAR -> SIGMOID.\n",
    "        a3, cache = forward_propagation(X, parameters)\n",
    "        \n",
    "        # Loss\n",
    "        cost = compute_loss(a3, Y)\n",
    "\n",
    "        # Backward propagation.\n",
    "        grads = backward_propagation(X, Y, cache)\n",
    "        \n",
    "        # Update parameters.\n",
    "        parameters = update_parameters(parameters, grads, learning_rate)\n",
    "        \n",
    "        # Print the loss every 1000 iterations\n",
    "        if print_cost and i % 1000 == 0:\n",
    "            print(\"Cost after iteration {}: {}\".format(i, cost))\n",
    "            costs.append(cost)\n",
    "            \n",
    "    # plot the loss\n",
    "    plt.plot(costs)\n",
    "    plt.ylabel('cost')\n",
    "    plt.xlabel('iterations (per hundreds)')\n",
    "    plt.title(\"Learning rate =\" + str(learning_rate))\n",
    "    plt.show()\n",
    "    \n",
    "    return parameters"
   ]
  },
  {
   "cell_type": "markdown",
   "metadata": {},
   "source": [
    "## 2 - Zero initialization\n",
    "\n",
    "There are two types of parameters to initialize in a neural network:\n",
    "- the weight matrices $(W^{[1]}, W^{[2]}, W^{[3]}, ..., W^{[L-1]}, W^{[L]})$\n",
    "- the bias vectors $(b^{[1]}, b^{[2]}, b^{[3]}, ..., b^{[L-1]}, b^{[L]})$\n",
    "\n",
    "**Exercise**: Implement the following function to initialize all parameters to zeros. You'll see later that this does not work well since it fails to \"break symmetry\", but lets try it anyway and see what happens. Use np.zeros((..,..)) with the correct shapes."
   ]
  },
  {
   "cell_type": "code",
   "execution_count": 28,
   "metadata": {
    "collapsed": true
   },
   "outputs": [],
   "source": [
    "# GRADED FUNCTION: initialize_parameters_zeros \n",
    "\n",
    "def initialize_parameters_zeros(layers_dims):\n",
    "    \"\"\"\n",
    "    Arguments:\n",
    "    layer_dims -- python array (list) containing the size of each layer.\n",
    "    \n",
    "    Returns:\n",
    "    parameters -- python dictionary containing your parameters \"W1\", \"b1\", ..., \"WL\", \"bL\":\n",
    "                    W1 -- weight matrix of shape (layers_dims[1], layers_dims[0])\n",
    "                    b1 -- bias vector of shape (layers_dims[1], 1)\n",
    "                    ...\n",
    "                    WL -- weight matrix of shape (layers_dims[L], layers_dims[L-1])\n",
    "                    bL -- bias vector of shape (layers_dims[L], 1)\n",
    "    \"\"\"\n",
    "    \n",
    "    parameters = {}\n",
    "    L = len(layers_dims)            # number of layers in the network\n",
    "    \n",
    "    for l in range(1, L):\n",
    "        ### START CODE HERE ### (≈ 2 lines of code)\n",
    "        parameters['W' + str(l)] = np.zeros((layers_dims[l], layers_dims[l - 1]))\n",
    "        parameters['b' + str(l)] = np.zeros((layers_dims[l], 1))\n",
    "        ### END CODE HERE ###\n",
    "    return parameters"
   ]
  },
  {
   "cell_type": "code",
   "execution_count": 29,
   "metadata": {
    "tags": []
   },
   "outputs": [
    {
     "output_type": "stream",
     "name": "stdout",
     "text": "W1 = [[0. 0. 0.]\n [0. 0. 0.]]\nb1 = [[0.]\n [0.]]\nW2 = [[0. 0.]]\nb2 = [[0.]]\n"
    }
   ],
   "source": [
    "parameters = initialize_parameters_zeros([3,2,1])\n",
    "print(\"W1 = \" + str(parameters[\"W1\"]))\n",
    "print(\"b1 = \" + str(parameters[\"b1\"]))\n",
    "print(\"W2 = \" + str(parameters[\"W2\"]))\n",
    "print(\"b2 = \" + str(parameters[\"b2\"]))"
   ]
  },
  {
   "cell_type": "markdown",
   "metadata": {},
   "source": [
    "**Expected Output**:\n",
    "\n",
    "<table> \n",
    "    <tr>\n",
    "    <td>\n",
    "    **W1**\n",
    "    </td>\n",
    "        <td>\n",
    "    [[ 0.  0.  0.]\n",
    " [ 0.  0.  0.]]\n",
    "    </td>\n",
    "    </tr>\n",
    "    <tr>\n",
    "    <td>\n",
    "    **b1**\n",
    "    </td>\n",
    "        <td>\n",
    "    [[ 0.]\n",
    " [ 0.]]\n",
    "    </td>\n",
    "    </tr>\n",
    "    <tr>\n",
    "    <td>\n",
    "    **W2**\n",
    "    </td>\n",
    "        <td>\n",
    "    [[ 0.  0.]]\n",
    "    </td>\n",
    "    </tr>\n",
    "    <tr>\n",
    "    <td>\n",
    "    **b2**\n",
    "    </td>\n",
    "        <td>\n",
    "    [[ 0.]]\n",
    "    </td>\n",
    "    </tr>\n",
    "\n",
    "</table> "
   ]
  },
  {
   "cell_type": "markdown",
   "metadata": {},
   "source": [
    "Run the following code to train your model on 15,000 iterations using zeros initialization."
   ]
  },
  {
   "cell_type": "code",
   "execution_count": null,
   "metadata": {
    "scrolled": false,
    "tags": []
   },
   "outputs": [],
   "source": [
    "parameters = model(train_X, train_Y, initialization = \"zeros\")\n",
    "print (\"On the train set:\")\n",
    "predictions_train = predict(train_X, train_Y, parameters)\n",
    "print (\"On the test set:\")\n",
    "predictions_test = predict(test_X, test_Y, parameters)"
   ]
  },
  {
   "cell_type": "markdown",
   "metadata": {},
   "source": [
    "The performance is really bad, and the cost does not really decrease, and the algorithm performs no better than random guessing. Why? Lets look at the details of the predictions and the decision boundary:"
   ]
  },
  {
   "cell_type": "code",
   "execution_count": null,
   "metadata": {
    "tags": []
   },
   "outputs": [],
   "source": [
    "print(\"predictions_train = \" + str(predictions_train))\n",
    "print(\"predictions_test = \" + str(predictions_test))"
   ]
  },
  {
   "cell_type": "code",
   "execution_count": null,
   "metadata": {},
   "outputs": [],
   "source": [
    "plt.title(\"Model with Zeros initialization\")\n",
    "axes = plt.gca()\n",
    "axes.set_xlim([-1.5, 1.5])\n",
    "axes.set_ylim([-1.5, 1.5])\n",
    "plot_decision_boundary(lambda x: predict_dec(parameters, x.T), train_X, train_Y)"
   ]
  },
  {
   "cell_type": "markdown",
   "metadata": {},
   "source": [
    "The model is predicting 0 for every example. \n",
    "\n",
    "In general, initializing all the weights to zero results in the network failing to break symmetry. This means that every neuron in each layer will learn the same thing, and you might as well be training a neural network with $n^{[l]}=1$ for every layer, and the network is no more powerful than a linear classifier such as logistic regression. "
   ]
  },
  {
   "cell_type": "markdown",
   "metadata": {},
   "source": [
    "<font color='blue'>\n",
    "**What you should remember**:\n",
    "- The weights $W^{[l]}$ should be initialized randomly to break symmetry. \n",
    "- It is however okay to initialize the biases $b^{[l]}$ to zeros. Symmetry is still broken so long as $W^{[l]}$ is initialized randomly. \n"
   ]
  },
  {
   "cell_type": "markdown",
   "metadata": {},
   "source": [
    "## 3 - Random initialization\n",
    "\n",
    "To break symmetry, lets intialize the weights randomly. Following random initialization, each neuron can then proceed to learn a different function of its inputs. In this exercise, you will see what happens if the weights are intialized randomly, but to very large values. \n",
    "\n",
    "**Exercise**: Implement the following function to initialize your weights to large random values (scaled by \\*10) and your biases to zeros. Use `np.random.randn(..,..) * 10` for weights and `np.zeros((.., ..))` for biases. We are using a fixed `np.random.seed(..)` to make sure your \"random\" weights  match ours, so don't worry if running several times your code gives you always the same initial values for the parameters. "
   ]
  },
  {
   "cell_type": "code",
   "execution_count": null,
   "metadata": {
    "collapsed": true
   },
   "outputs": [],
   "source": [
    "# GRADED FUNCTION: initialize_parameters_random\n",
    "\n",
    "def initialize_parameters_random(layers_dims):\n",
    "    \"\"\"\n",
    "    Arguments:\n",
    "    layer_dims -- python array (list) containing the size of each layer.\n",
    "    \n",
    "    Returns:\n",
    "    parameters -- python dictionary containing your parameters \"W1\", \"b1\", ..., \"WL\", \"bL\":\n",
    "                    W1 -- weight matrix of shape (layers_dims[1], layers_dims[0])\n",
    "                    b1 -- bias vector of shape (layers_dims[1], 1)\n",
    "                    ...\n",
    "                    WL -- weight matrix of shape (layers_dims[L], layers_dims[L-1])\n",
    "                    bL -- bias vector of shape (layers_dims[L], 1)\n",
    "    \"\"\"\n",
    "    \n",
    "    np.random.seed(3)               # This seed makes sure your \"random\" numbers will be the as ours\n",
    "    parameters = {}\n",
    "    L = len(layers_dims)            # integer representing the number of layers\n",
    "    \n",
    "    for l in range(1, L):\n",
    "        ### START CODE HERE ### (≈ 2 lines of code)\n",
    "        parameters['W' + str(l)] = np.random.randn(layers_dims[l], layers_dims[l - 1]) * 10\n",
    "        parameters['b' + str(l)] = np.zeros((layers_dims[l], 1))\n",
    "        ### END CODE HERE ###\n",
    "\n",
    "    return parameters"
   ]
  },
  {
   "cell_type": "code",
   "execution_count": null,
   "metadata": {
    "tags": []
   },
   "outputs": [],
   "source": [
    "parameters = initialize_parameters_random([3, 2, 1])\n",
    "print(\"W1 = \" + str(parameters[\"W1\"]))\n",
    "print(\"b1 = \" + str(parameters[\"b1\"]))\n",
    "print(\"W2 = \" + str(parameters[\"W2\"]))\n",
    "print(\"b2 = \" + str(parameters[\"b2\"]))"
   ]
  },
  {
   "cell_type": "markdown",
   "metadata": {},
   "source": [
    "**Expected Output**:\n",
    "\n",
    "<table> \n",
    "    <tr>\n",
    "    <td>\n",
    "    **W1**\n",
    "    </td>\n",
    "        <td>\n",
    "    [[ 17.88628473   4.36509851   0.96497468]\n",
    " [-18.63492703  -2.77388203  -3.54758979]]\n",
    "    </td>\n",
    "    </tr>\n",
    "    <tr>\n",
    "    <td>\n",
    "    **b1**\n",
    "    </td>\n",
    "        <td>\n",
    "    [[ 0.]\n",
    " [ 0.]]\n",
    "    </td>\n",
    "    </tr>\n",
    "    <tr>\n",
    "    <td>\n",
    "    **W2**\n",
    "    </td>\n",
    "        <td>\n",
    "    [[-0.82741481 -6.27000677]]\n",
    "    </td>\n",
    "    </tr>\n",
    "    <tr>\n",
    "    <td>\n",
    "    **b2**\n",
    "    </td>\n",
    "        <td>\n",
    "    [[ 0.]]\n",
    "    </td>\n",
    "    </tr>\n",
    "\n",
    "</table> "
   ]
  },
  {
   "cell_type": "markdown",
   "metadata": {},
   "source": [
    "Run the following code to train your model on 15,000 iterations using random initialization."
   ]
  },
  {
   "cell_type": "code",
   "execution_count": null,
   "metadata": {
    "scrolled": false,
    "tags": []
   },
   "outputs": [],
   "source": [
    "parameters = model(train_X, train_Y, initialization = \"random\")\n",
    "print(\"On the train set:\")\n",
    "predictions_train = predict(train_X, train_Y, parameters)\n",
    "print(\"On the test set:\")\n",
    "predictions_test = predict(test_X, test_Y, parameters)"
   ]
  },
  {
   "cell_type": "markdown",
   "metadata": {},
   "source": [
    "If you see \"inf\" as the cost after the iteration 0, this is because of numerical roundoff; a more numerically sophisticated implementation would fix this. But this isn't worth worrying about for our purposes. \n",
    "\n",
    "Anyway, it looks like you have broken symmetry, and this gives better results. than before. The model is no longer outputting all 0s. "
   ]
  },
  {
   "cell_type": "code",
   "execution_count": null,
   "metadata": {
    "tags": []
   },
   "outputs": [],
   "source": [
    "print(predictions_train)\n",
    "print(predictions_test)"
   ]
  },
  {
   "cell_type": "code",
   "execution_count": null,
   "metadata": {},
   "outputs": [],
   "source": [
    "plt.title(\"Model with large random initialization\")\n",
    "axes = plt.gca()\n",
    "axes.set_xlim([-1.5, 1.5])\n",
    "axes.set_ylim([-1.5, 1.5])\n",
    "plot_decision_boundary(lambda x: predict_dec(parameters, x.T), train_X, train_Y)"
   ]
  },
  {
   "cell_type": "markdown",
   "metadata": {},
   "source": [
    "**Observations**:\n",
    "- The cost starts very high. This is because with large random-valued weights, the last activation (sigmoid) outputs results that are very close to 0 or 1 for some examples, and when it gets that example wrong it incurs a very high loss for that example. Indeed, when $\\log(a^{[3]}) = \\log(0)$, the loss goes to infinity.\n",
    "- Poor initialization can lead to vanishing/exploding gradients, which also slows down the optimization algorithm. \n",
    "- If you train this network longer you will see better results, but initializing with overly large random numbers slows down the optimization.\n",
    "\n",
    "<font color='blue'>\n",
    "**In summary**:\n",
    "- Initializing weights to very large random values does not work well. \n",
    "- Hopefully intializing with small random values does better. The important question is: how small should be these random values be? Lets find out in the next part! "
   ]
  },
  {
   "cell_type": "markdown",
   "metadata": {},
   "source": [
    "## 4 - He initialization\n",
    "\n",
    "Finally, try \"He Initialization\"; this is named for the first author of He et al., 2015. (If you have heard of \"Xavier initialization\", this is similar except Xavier initialization uses a scaling factor for the weights $W^{[l]}$ of `sqrt(1./layers_dims[l-1])` where He initialization would use `sqrt(2./layers_dims[l-1])`.)\n",
    "\n",
    "**Exercise**: Implement the following function to initialize your parameters with He initialization.\n",
    "\n",
    "**Hint**: This function is similar to the previous `initialize_parameters_random(...)`. The only difference is that instead of multiplying `np.random.randn(..,..)` by 10, you will multiply it by $\\sqrt{\\frac{2}{\\text{dimension of the previous layer}}}$, which is what He initialization recommends for layers with a ReLU activation. "
   ]
  },
  {
   "cell_type": "code",
   "execution_count": null,
   "metadata": {
    "collapsed": true
   },
   "outputs": [],
   "source": [
    "# GRADED FUNCTION: initialize_parameters_he\n",
    "\n",
    "def initialize_parameters_he(layers_dims):\n",
    "    \"\"\"\n",
    "    Arguments:\n",
    "    layer_dims -- python array (list) containing the size of each layer.\n",
    "    \n",
    "    Returns:\n",
    "    parameters -- python dictionary containing your parameters \"W1\", \"b1\", ..., \"WL\", \"bL\":\n",
    "                    W1 -- weight matrix of shape (layers_dims[1], layers_dims[0])\n",
    "                    b1 -- bias vector of shape (layers_dims[1], 1)\n",
    "                    ...\n",
    "                    WL -- weight matrix of shape (layers_dims[L], layers_dims[L-1])\n",
    "                    bL -- bias vector of shape (layers_dims[L], 1)\n",
    "    \"\"\"\n",
    "    \n",
    "    np.random.seed(3)\n",
    "    parameters = {}\n",
    "    L = len(layers_dims) - 1 # integer representing the number of layers\n",
    "     \n",
    "    for l in range(1, L + 1):\n",
    "        ### START CODE HERE ### (≈ 2 lines of code)\n",
    "        parameters['W' + str(l)] = np.random.randn(layers_dims[l], layers_dims[l - 1]) * np.sqrt(2 / layers_dims[l - 1])\n",
    "        parameters['b' + str(l)] = np.zeros((layers_dims[l], 1))\n",
    "        ### END CODE HERE ###\n",
    "        \n",
    "    return parameters"
   ]
  },
  {
   "cell_type": "code",
   "execution_count": null,
   "metadata": {
    "tags": []
   },
   "outputs": [],
   "source": [
    "parameters = initialize_parameters_he([2, 4, 1])\n",
    "print(\"W1 = \" + str(parameters[\"W1\"]))\n",
    "print(\"b1 = \" + str(parameters[\"b1\"]))\n",
    "print(\"W2 = \" + str(parameters[\"W2\"]))\n",
    "print(\"b2 = \" + str(parameters[\"b2\"]))"
   ]
  },
  {
   "cell_type": "markdown",
   "metadata": {},
   "source": [
    "**Expected Output**:\n",
    "\n",
    "<table> \n",
    "    <tr>\n",
    "    <td>\n",
    "    **W1**\n",
    "    </td>\n",
    "        <td>\n",
    "    [[ 1.78862847  0.43650985]\n",
    " [ 0.09649747 -1.8634927 ]\n",
    " [-0.2773882  -0.35475898]\n",
    " [-0.08274148 -0.62700068]]\n",
    "    </td>\n",
    "    </tr>\n",
    "    <tr>\n",
    "    <td>\n",
    "    **b1**\n",
    "    </td>\n",
    "        <td>\n",
    "    [[ 0.]\n",
    " [ 0.]\n",
    " [ 0.]\n",
    " [ 0.]]\n",
    "    </td>\n",
    "    </tr>\n",
    "    <tr>\n",
    "    <td>\n",
    "    **W2**\n",
    "    </td>\n",
    "        <td>\n",
    "    [[-0.03098412 -0.33744411 -0.92904268  0.62552248]]\n",
    "    </td>\n",
    "    </tr>\n",
    "    <tr>\n",
    "    <td>\n",
    "    **b2**\n",
    "    </td>\n",
    "        <td>\n",
    "    [[ 0.]]\n",
    "    </td>\n",
    "    </tr>\n",
    "\n",
    "</table> "
   ]
  },
  {
   "cell_type": "markdown",
   "metadata": {},
   "source": [
    "Run the following code to train your model on 15,000 iterations using He initialization."
   ]
  },
  {
   "cell_type": "code",
   "execution_count": null,
   "metadata": {
    "tags": []
   },
   "outputs": [],
   "source": [
    "parameters = model(train_X, train_Y, initialization = \"he\")\n",
    "print(\"On the train set:\")\n",
    "predictions_train = predict(train_X, train_Y, parameters)\n",
    "print(\"On the test set:\")\n",
    "predictions_test = predict(test_X, test_Y, parameters)"
   ]
  },
  {
   "cell_type": "code",
   "execution_count": null,
   "metadata": {
    "scrolled": false
   },
   "outputs": [],
   "source": [
    "plt.title(\"Model with He initialization\")\n",
    "axes = plt.gca()\n",
    "axes.set_xlim([-1.5, 1.5])\n",
    "axes.set_ylim([-1.5, 1.5])\n",
    "plot_decision_boundary(lambda x: predict_dec(parameters, x.T), train_X, train_Y)"
   ]
  },
  {
   "cell_type": "markdown",
   "metadata": {},
   "source": [
    "**Observations**:\n",
    "- The model with He initialization separates the blue and the red dots very well in a small number of iterations.\n"
   ]
  },
  {
   "cell_type": "markdown",
   "metadata": {
    "collapsed": true
   },
   "source": [
    "## 5 - Conclusions"
   ]
  },
  {
   "cell_type": "markdown",
   "metadata": {
    "collapsed": true
   },
   "source": [
    "You have seen three different types of initializations. For the same number of iterations and same hyperparameters the comparison is:\n",
    "\n",
    "<table> \n",
    "    <tr>\n",
    "        <td>\n",
    "        **Model**\n",
    "        </td>\n",
    "        <td>\n",
    "        **Train accuracy**\n",
    "        </td>\n",
    "        <td>\n",
    "        **Problem/Comment**\n",
    "        </td>\n",
    "\n",
    "    </tr>\n",
    "        <td>\n",
    "        3-layer NN with zeros initialization\n",
    "        </td>\n",
    "        <td>\n",
    "        50%\n",
    "        </td>\n",
    "        <td>\n",
    "        fails to break symmetry\n",
    "        </td>\n",
    "    <tr>\n",
    "        <td>\n",
    "        3-layer NN with large random initialization\n",
    "        </td>\n",
    "        <td>\n",
    "        83%\n",
    "        </td>\n",
    "        <td>\n",
    "        too large weights \n",
    "        </td>\n",
    "    </tr>\n",
    "    <tr>\n",
    "        <td>\n",
    "        3-layer NN with He initialization\n",
    "        </td>\n",
    "        <td>\n",
    "        99%\n",
    "        </td>\n",
    "        <td>\n",
    "        recommended method\n",
    "        </td>\n",
    "    </tr>\n",
    "</table> "
   ]
  },
  {
   "cell_type": "markdown",
   "metadata": {},
   "source": [
    "<font color='blue'>\n",
    "**What you should remember from this notebook**:\n",
    "- Different initializations lead to different results\n",
    "- Random initialization is used to break symmetry and make sure different hidden units can learn different things\n",
    "- Don't intialize to values that are too large\n",
    "- He initialization works well for networks with ReLU activations. "
   ]
  }
 ],
 "metadata": {
  "coursera": {
   "course_slug": "deep-neural-network",
   "graded_item_id": "XOESP",
   "launcher_item_id": "8IhFN"
  },
  "kernelspec": {
   "display_name": "Python 3.7.7 64-bit ('.venv': venv)",
   "language": "python",
   "name": "python37764bitvenvvenv8825493528554129aa562e16b4229ece"
  },
  "language_info": {
   "codemirror_mode": {
    "name": "ipython",
    "version": 3
   },
   "file_extension": ".py",
   "mimetype": "text/x-python",
   "name": "python",
   "nbconvert_exporter": "python",
   "pygments_lexer": "ipython3",
   "version": "3.7.7-final"
  }
 },
 "nbformat": 4,
 "nbformat_minor": 1
}